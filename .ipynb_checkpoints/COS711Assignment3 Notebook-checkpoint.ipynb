{
 "cells": [
  {
   "cell_type": "code",
   "execution_count": 1,
   "metadata": {},
   "outputs": [],
   "source": [
    "import pandas as pd \n",
    "import numpy as np \n",
    "from tqdm import tqdm\n",
    "import math\n",
    "import gc\n",
    "import os\n",
    "import matplotlib.pyplot as plt\n",
    "from sklearn.preprocessing import MinMaxScaler\n",
    "from sklearn.preprocessing import StandardScaler\n",
    "from skorch.helper import predefined_split\n",
    "\n",
    "isGoogleDrive = False\n",
    "shouldImputeData = True\n",
    "shouldRestoreImputer = True\n",
    "isUsingCNN = True\n",
    "if isGoogleDrive:\n",
    "    from google.colab import drive\n",
    "    drive.mount('/content/drive')\n",
    "else:\n",
    "    workingDirectory = r'E:\\Google Drive\\University 17215286\\Honours\\Semester 1\\COS 711 Artificial Intelligence II\\Assignments\\Assignment 3\\Code'\n",
    "    os.getcwd()\n",
    "    os.chdir(workingDirectory)\n",
    "    os.getcwd()\n",
    "    train=pd.read_csv(\"./data/Train.csv\")\n",
    "    test_no_labels=pd.read_csv(\"./data/Test.csv\")\n",
    "    metadata_station=pd.read_csv(\"./data/airqo_metadata.csv\")"
   ]
  },
  {
   "cell_type": "code",
   "execution_count": 2,
   "metadata": {},
   "outputs": [
    {
     "data": {
      "text/plain": [
       "<torch._C.Generator at 0x27a16af08b0>"
      ]
     },
     "execution_count": 2,
     "metadata": {},
     "output_type": "execute_result"
    }
   ],
   "source": [
    "import torch\n",
    "import torch.nn as nn\n",
    "import torch.nn.functional as F\n",
    "import torch.optim as optim\n",
    "from torch.autograd import Variable\n",
    "from torch.utils.data import Dataset\n",
    "from sklearn.datasets import make_classification\n",
    "from skorch import NeuralNetClassifier\n",
    "torch.manual_seed(7)"
   ]
  },
  {
   "cell_type": "code",
   "execution_count": 3,
   "metadata": {},
   "outputs": [],
   "source": [
    "if isGoogleDrive:\n",
    "    train = pd.read_csv(\"/content/drive/My Drive/COS 711 Assignment 3/data/Train.csv\")\n",
    "    test_no_labels = pd.read_csv(\"/content/drive/My Drive/COS 711 Assignment 3/data/Test.csv\")\n",
    "    metadata_station=pd.read_csv(\"./data/airqo_metadata.csv\")"
   ]
  },
  {
   "cell_type": "code",
   "execution_count": 4,
   "metadata": {
    "scrolled": true
   },
   "outputs": [
    {
     "data": {
      "text/html": [
       "<div>\n",
       "<style scoped>\n",
       "    .dataframe tbody tr th:only-of-type {\n",
       "        vertical-align: middle;\n",
       "    }\n",
       "\n",
       "    .dataframe tbody tr th {\n",
       "        vertical-align: top;\n",
       "    }\n",
       "\n",
       "    .dataframe thead th {\n",
       "        text-align: right;\n",
       "    }\n",
       "</style>\n",
       "<table border=\"1\" class=\"dataframe\">\n",
       "  <thead>\n",
       "    <tr style=\"text-align: right;\">\n",
       "      <th></th>\n",
       "      <th>ID</th>\n",
       "      <th>location</th>\n",
       "      <th>temp</th>\n",
       "      <th>precip</th>\n",
       "      <th>rel_humidity</th>\n",
       "      <th>wind_dir</th>\n",
       "      <th>wind_spd</th>\n",
       "      <th>atmos_press</th>\n",
       "      <th>target</th>\n",
       "    </tr>\n",
       "  </thead>\n",
       "  <tbody>\n",
       "    <tr>\n",
       "      <th>0</th>\n",
       "      <td>ID_train_0</td>\n",
       "      <td>C</td>\n",
       "      <td>nan,nan,nan,nan,nan,nan,nan,nan,nan,nan,nan,na...</td>\n",
       "      <td>nan,nan,nan,nan,nan,nan,nan,nan,nan,nan,nan,na...</td>\n",
       "      <td>nan,nan,nan,nan,nan,nan,nan,nan,nan,nan,nan,na...</td>\n",
       "      <td>nan,nan,nan,nan,nan,nan,nan,nan,nan,nan,nan,na...</td>\n",
       "      <td>nan,nan,nan,nan,nan,nan,nan,nan,nan,nan,nan,na...</td>\n",
       "      <td>nan,nan,nan,nan,nan,nan,nan,nan,nan,nan,nan,na...</td>\n",
       "      <td>45.126304</td>\n",
       "    </tr>\n",
       "    <tr>\n",
       "      <th>1</th>\n",
       "      <td>ID_train_1</td>\n",
       "      <td>D</td>\n",
       "      <td>22.53333333,21.71666667,20.83333333,20.9833333...</td>\n",
       "      <td>0.102,0.0,0.0,0.0,0.0,0.0,0.0,0.034,0.017,0.01...</td>\n",
       "      <td>0.744583333,0.808083333,0.911166667,0.91633333...</td>\n",
       "      <td>281.6643101,89.15629262,81.96853891,291.018632...</td>\n",
       "      <td>2.3775,1.126666667,0.700833333,0.3416666670000...</td>\n",
       "      <td>90.32,90.3775,90.44083333,90.4725,90.45416667,...</td>\n",
       "      <td>79.131702</td>\n",
       "    </tr>\n",
       "    <tr>\n",
       "      <th>2</th>\n",
       "      <td>ID_train_10</td>\n",
       "      <td>A</td>\n",
       "      <td>28.975,27.95,29.6,26.425,22.09166667,21.775,22...</td>\n",
       "      <td>0.0,0.0,0.0,0.102,0.136,0.0,0.0,2.16,1.276,0.0...</td>\n",
       "      <td>0.573333333,0.597166667,0.5668333329999999,0.6...</td>\n",
       "      <td>nan,nan,nan,nan,nan,nan,nan,nan,nan,nan,nan,na...</td>\n",
       "      <td>nan,nan,nan,nan,nan,nan,nan,nan,nan,nan,nan,na...</td>\n",
       "      <td>88.55166667,88.46416667,88.31916667,88.24,88.2...</td>\n",
       "      <td>32.661304</td>\n",
       "    </tr>\n",
       "    <tr>\n",
       "      <th>3</th>\n",
       "      <td>ID_train_100</td>\n",
       "      <td>A</td>\n",
       "      <td>22.96666667,24.26666667,25.275,25.625,25.86666...</td>\n",
       "      <td>0.0,0.0,0.0,0.0,0.0,0.0,0.0,0.0,7.77,3.012,1.0...</td>\n",
       "      <td>0.8430833329999999,0.79025,0.7375,0.728,0.7049...</td>\n",
       "      <td>300.0850574,293.6769595,294.5174647,301.921416...</td>\n",
       "      <td>1.446666667,1.1925,1.324166667,1.5441666669999...</td>\n",
       "      <td>88.615,88.53083333,88.4,88.27166667,88.2075,88...</td>\n",
       "      <td>53.850238</td>\n",
       "    </tr>\n",
       "    <tr>\n",
       "      <th>4</th>\n",
       "      <td>ID_train_1000</td>\n",
       "      <td>A</td>\n",
       "      <td>21.875,21.575,21.525,21.43333333,20.50833333,1...</td>\n",
       "      <td>0.0,0.0,0.0,0.0,0.0,0.0,0.0,0.0,0.0,0.0,0.0,0....</td>\n",
       "      <td>0.8564166670000001,0.874916667,0.879833333,0.8...</td>\n",
       "      <td>21.83997432,17.05405341,89.26406044,123.585424...</td>\n",
       "      <td>0.1975,0.244166667,0.411666667,0.56,0.5775,0.4...</td>\n",
       "      <td>88.55666667,88.64083333,88.65833333,88.6475,88...</td>\n",
       "      <td>177.418750</td>\n",
       "    </tr>\n",
       "  </tbody>\n",
       "</table>\n",
       "</div>"
      ],
      "text/plain": [
       "              ID location                                               temp  \\\n",
       "0     ID_train_0        C  nan,nan,nan,nan,nan,nan,nan,nan,nan,nan,nan,na...   \n",
       "1     ID_train_1        D  22.53333333,21.71666667,20.83333333,20.9833333...   \n",
       "2    ID_train_10        A  28.975,27.95,29.6,26.425,22.09166667,21.775,22...   \n",
       "3   ID_train_100        A  22.96666667,24.26666667,25.275,25.625,25.86666...   \n",
       "4  ID_train_1000        A  21.875,21.575,21.525,21.43333333,20.50833333,1...   \n",
       "\n",
       "                                              precip  \\\n",
       "0  nan,nan,nan,nan,nan,nan,nan,nan,nan,nan,nan,na...   \n",
       "1  0.102,0.0,0.0,0.0,0.0,0.0,0.0,0.034,0.017,0.01...   \n",
       "2  0.0,0.0,0.0,0.102,0.136,0.0,0.0,2.16,1.276,0.0...   \n",
       "3  0.0,0.0,0.0,0.0,0.0,0.0,0.0,0.0,7.77,3.012,1.0...   \n",
       "4  0.0,0.0,0.0,0.0,0.0,0.0,0.0,0.0,0.0,0.0,0.0,0....   \n",
       "\n",
       "                                        rel_humidity  \\\n",
       "0  nan,nan,nan,nan,nan,nan,nan,nan,nan,nan,nan,na...   \n",
       "1  0.744583333,0.808083333,0.911166667,0.91633333...   \n",
       "2  0.573333333,0.597166667,0.5668333329999999,0.6...   \n",
       "3  0.8430833329999999,0.79025,0.7375,0.728,0.7049...   \n",
       "4  0.8564166670000001,0.874916667,0.879833333,0.8...   \n",
       "\n",
       "                                            wind_dir  \\\n",
       "0  nan,nan,nan,nan,nan,nan,nan,nan,nan,nan,nan,na...   \n",
       "1  281.6643101,89.15629262,81.96853891,291.018632...   \n",
       "2  nan,nan,nan,nan,nan,nan,nan,nan,nan,nan,nan,na...   \n",
       "3  300.0850574,293.6769595,294.5174647,301.921416...   \n",
       "4  21.83997432,17.05405341,89.26406044,123.585424...   \n",
       "\n",
       "                                            wind_spd  \\\n",
       "0  nan,nan,nan,nan,nan,nan,nan,nan,nan,nan,nan,na...   \n",
       "1  2.3775,1.126666667,0.700833333,0.3416666670000...   \n",
       "2  nan,nan,nan,nan,nan,nan,nan,nan,nan,nan,nan,na...   \n",
       "3  1.446666667,1.1925,1.324166667,1.5441666669999...   \n",
       "4  0.1975,0.244166667,0.411666667,0.56,0.5775,0.4...   \n",
       "\n",
       "                                         atmos_press      target  \n",
       "0  nan,nan,nan,nan,nan,nan,nan,nan,nan,nan,nan,na...   45.126304  \n",
       "1  90.32,90.3775,90.44083333,90.4725,90.45416667,...   79.131702  \n",
       "2  88.55166667,88.46416667,88.31916667,88.24,88.2...   32.661304  \n",
       "3  88.615,88.53083333,88.4,88.27166667,88.2075,88...   53.850238  \n",
       "4  88.55666667,88.64083333,88.65833333,88.6475,88...  177.418750  "
      ]
     },
     "execution_count": 4,
     "metadata": {},
     "output_type": "execute_result"
    }
   ],
   "source": [
    "train.head()"
   ]
  },
  {
   "cell_type": "code",
   "execution_count": 5,
   "metadata": {},
   "outputs": [],
   "source": [
    "# covert features from string to List of values \n",
    "def replace_nan(x):\n",
    "    if x==\" \":\n",
    "        return np.nan\n",
    "    else :\n",
    "        return float(x)\n",
    "features=[\"temp\",\"precip\",\"rel_humidity\",\"wind_dir\",\"wind_spd\",\"atmos_press\"]\n",
    "for feature in features : \n",
    "    train[feature]=train[feature].apply(lambda x: [ replace_nan(X) for X in x.replace(\"nan\",\" \").split(\",\")])\n",
    "    test_no_labels[feature]=test_no_labels[feature].apply(lambda x: [ replace_nan(X)  for X in x.replace(\"nan\",\" \").split(\",\")])    "
   ]
  },
  {
   "cell_type": "code",
   "execution_count": 6,
   "metadata": {},
   "outputs": [],
   "source": [
    "train = train.drop(columns=['ID']) #no need for ID column\n",
    "test_no_labels = test_no_labels.drop(columns=['ID']) #no need for ID column"
   ]
  },
  {
   "cell_type": "markdown",
   "metadata": {},
   "source": [
    "## Segment the data to have a separate test set"
   ]
  },
  {
   "cell_type": "code",
   "execution_count": 7,
   "metadata": {},
   "outputs": [],
   "source": [
    "from sklearn.model_selection import train_test_split"
   ]
  },
  {
   "cell_type": "code",
   "execution_count": 8,
   "metadata": {},
   "outputs": [],
   "source": [
    "train_actual, test_actual = train_test_split(train, test_size=0.15, random_state=7) #default random shuffle\n",
    "train = train_actual"
   ]
  },
  {
   "cell_type": "code",
   "execution_count": 9,
   "metadata": {},
   "outputs": [
    {
     "name": "stdout",
     "output_type": "stream",
     "text": [
      "(13208, 8)\n",
      "(2331, 8)\n"
     ]
    }
   ],
   "source": [
    "print(train.shape)\n",
    "print(test_actual.shape)"
   ]
  },
  {
   "cell_type": "markdown",
   "metadata": {},
   "source": [
    "# Processing the training data\n",
    "### Visualisation of missing data\n",
    "The following cell plots some random examples of missing data given a feature_index and num_to_select"
   ]
  },
  {
   "cell_type": "code",
   "execution_count": 10,
   "metadata": {},
   "outputs": [
    {
     "data": {
      "image/png": "[encoded data removed]",
      "text/plain": [
       "<Figure size 432x288 with 1 Axes>"
      ]
     },
     "metadata": {
      "needs_background": "light"
     },
     "output_type": "display_data"
    }
   ],
   "source": [
    "import random\n",
    "feature_index =3\n",
    "num_to_select = 2\n",
    "list_vals = []\n",
    "for index, row in train.iterrows():\n",
    "    currFeature = row[features[feature_index]]\n",
    "    if num_to_select == 0:\n",
    "        break\n",
    "    if(pd.Series(currFeature).isna().sum() > 0):\n",
    "        if random.random() < 0.5:\n",
    "            num_to_select -= 1\n",
    "            list_vals.append(currFeature)\n",
    "        \n",
    "for l in list_vals:\n",
    "    plt.plot(l)\n",
    "plt.title(features[feature_index])\n",
    "plt.show()"
   ]
  },
  {
   "cell_type": "code",
   "execution_count": 11,
   "metadata": {},
   "outputs": [],
   "source": [
    "def dropRowsWithAnyNulls(df):\n",
    "    for index, row in tqdm(df.iterrows()):\n",
    "        for feature in features:\n",
    "            if(pd.Series(row[feature]).isna().sum() > 0):\n",
    "                df.drop(index, inplace= True, axis=0)\n",
    "                break"
   ]
  },
  {
   "cell_type": "markdown",
   "metadata": {},
   "source": [
    "### Creating a copy of the data set for Autoencoder imputation"
   ]
  },
  {
   "cell_type": "code",
   "execution_count": 12,
   "metadata": {},
   "outputs": [],
   "source": [
    "if shouldImputeData:\n",
    "    train_copy = train.copy() "
   ]
  },
  {
   "cell_type": "markdown",
   "metadata": {},
   "source": [
    "Remove nulls and generate training data for the autoencoder"
   ]
  },
  {
   "cell_type": "code",
   "execution_count": 13,
   "metadata": {},
   "outputs": [
    {
     "name": "stderr",
     "output_type": "stream",
     "text": [
      "20it [00:00, 192.37it/s]"
     ]
    },
    {
     "name": "stdout",
     "output_type": "stream",
     "text": [
      "(13208, 8)\n"
     ]
    },
    {
     "name": "stderr",
     "output_type": "stream",
     "text": [
      "13208it [00:42, 312.56it/s]"
     ]
    },
    {
     "name": "stdout",
     "output_type": "stream",
     "text": [
      "(6125, 8)\n"
     ]
    },
    {
     "name": "stderr",
     "output_type": "stream",
     "text": [
      "\n"
     ]
    }
   ],
   "source": [
    "if shouldImputeData:\n",
    "    print(train_copy.shape)\n",
    "    dropRowsWithAnyNulls(train_copy)\n",
    "    print(train_copy.shape)"
   ]
  },
  {
   "cell_type": "code",
   "execution_count": 14,
   "metadata": {},
   "outputs": [],
   "source": [
    "class AutoencoderImputer(nn.Module):\n",
    "    def __init__(self, inputDim):\n",
    "        super(AutoencoderImputer, self).__init__()\n",
    "        \n",
    "        self.inputDim = inputDim\n",
    "        self.h1Dim = int(inputDim * (2 / 3))\n",
    "        self.h2Dim = int(inputDim * (1 / 3))\n",
    "        self.h3Dim = self.h1Dim\n",
    "        \n",
    "        self.bn1 = nn.BatchNorm1d(self.h1Dim)\n",
    "        self.bn2 = nn.BatchNorm1d(self.h2Dim)\n",
    "        self.bn3 = nn.BatchNorm1d(self.h3Dim)\n",
    "        self.ln1 = nn.Linear(inputDim, self.h1Dim)\n",
    "        self.ln2 = nn.Linear(self.h1Dim, self.h2Dim) \n",
    "        self.ln3 = nn.Linear(self.h2Dim, self.h3Dim) \n",
    "        self.ln4 = nn.Linear(self.h3Dim, self.inputDim) \n",
    "\n",
    "    def forward(self, t):\n",
    "        t = F.relu(self.bn1(self.ln1(t)))\n",
    "        t = F.relu(self.bn2(self.ln2(t)))\n",
    "        t = F.relu(self.bn3(self.ln3(t)))\n",
    "        t = F.relu(self.ln4(t))\n",
    "        return t"
   ]
  },
  {
   "cell_type": "markdown",
   "metadata": {},
   "source": [
    "#### Utility functions"
   ]
  },
  {
   "cell_type": "code",
   "execution_count": 15,
   "metadata": {},
   "outputs": [],
   "source": [
    "def convertRowToFlatTensor(row):\n",
    "    tens = torch.tensor([])\n",
    "    for feature in features:\n",
    "        tens = torch.cat((tens, torch.tensor(row[feature])), -1)\n",
    "    return tens\n",
    "\n",
    "def convertNullsToConst(tens):\n",
    "    tens[tens != tens] = -1\n",
    "    return tens"
   ]
  },
  {
   "cell_type": "markdown",
   "metadata": {},
   "source": [
    "#### Dataset "
   ]
  },
  {
   "cell_type": "code",
   "execution_count": 16,
   "metadata": {},
   "outputs": [],
   "source": [
    "class ImputeDataset(Dataset):\n",
    "    #The initialisation of this dataset generates the inputs using random nulls\n",
    "    def __init__(self, trainingDataframe, testDataframe=None):\n",
    "        tmp = []\n",
    "        for index, row in trainingDataframe.iterrows():\n",
    "            tens = convertRowToFlatTensor(row)\n",
    "            tmp.append(tens)\n",
    "            \n",
    "        self.targets = tmp #targets are the non null tensors\n",
    "        self.data = self.getNullifiedData(self.targets)\n",
    "        if testDataframe is not None:\n",
    "            self.augmentWithTestData(testDataframe)\n",
    "        print(\"Initiated Dataset\\n\")\n",
    "    \n",
    "    def getNullifiedData(self, listOfCompleteTargets):\n",
    "        inputList = []\n",
    "        for example in listOfCompleteTargets:\n",
    "            inputList.append(self.generateRandomNulls(example))\n",
    "        return inputList\n",
    "         \n",
    "    def generateRandomNulls(self, example):\n",
    "        totalNullsAdded = 0\n",
    "        targetTensor = example.clone()\n",
    "        numTimes = random.randint(1, 4)\n",
    "        while numTimes > 0:\n",
    "            indexToStartNulls = random.randint(0, 120) \n",
    "            numNullsToAdd = random.randint(1, 20)  \n",
    "            while numNullsToAdd > 0 and indexToStartNulls < 121:\n",
    "                for i in range(len(features)):\n",
    "                    targetTensor[indexToStartNulls + i * 121] = -1\n",
    "                numNullsToAdd -= 1\n",
    "                indexToStartNulls += 1\n",
    "            numTimes -= 1    \n",
    "        return targetTensor\n",
    "    \n",
    "    def augmentWithTestData(self, dataframe):\n",
    "        dropRowsWithAnyNulls(dataframe)\n",
    "        tmp = []\n",
    "        for index, row in dataframe.iterrows():\n",
    "            tens = convertRowToFlatTensor(row)\n",
    "            tmp.append(tens)\n",
    "        nullified = self.getNullifiedData(tmp)\n",
    "        self.data.extend(nullified)\n",
    "        self.targets.extend(tmp)        \n",
    "            \n",
    "    def __getitem__(self, index):\n",
    "        return (self.data[index], self.targets[index])\n",
    "    \n",
    "    def __len__(self):\n",
    "        return len(self.data)"
   ]
  },
  {
   "cell_type": "code",
   "execution_count": 17,
   "metadata": {},
   "outputs": [],
   "source": [
    "if shouldRestoreImputer == False and shouldImputeData == True: \n",
    "    imputation_dataset = ImputeDataset(train_copy, test_no_labels) #preparing dataset with inputs containing random nulls and target outputss"
   ]
  },
  {
   "cell_type": "code",
   "execution_count": 18,
   "metadata": {
    "scrolled": true
   },
   "outputs": [],
   "source": [
    "from sklearn.datasets import make_regression\n",
    "import skorch\n",
    "from skorch import NeuralNet\n",
    "from skorch.callbacks import EarlyStopping\n",
    "from sklearn.model_selection import cross_validate\n",
    "\n",
    "autoencoder_regressor = NeuralNet(\n",
    "    module=AutoencoderImputer,\n",
    "    module__inputDim= 121*len(features),\n",
    "    criterion=torch.nn.L1Loss,\n",
    "    optimizer=torch.optim.Adam,\n",
    "    max_epochs=1000,\n",
    "    lr = 1e-3,\n",
    "    device='cuda',\n",
    "    iterator_train__shuffle=True,\n",
    "    callbacks=[EarlyStopping(patience=5)]\n",
    ")"
   ]
  },
  {
   "cell_type": "code",
   "execution_count": 19,
   "metadata": {
    "scrolled": true
   },
   "outputs": [],
   "source": [
    "if shouldRestoreImputer == False and shouldImputeData == True: \n",
    "    autoencoder_regressor.fit(imputation_dataset)"
   ]
  },
  {
   "cell_type": "markdown",
   "metadata": {},
   "source": [
    "#### Save the model"
   ]
  },
  {
   "cell_type": "code",
   "execution_count": 20,
   "metadata": {},
   "outputs": [],
   "source": [
    "if shouldRestoreImputer == False and shouldImputeData == True: \n",
    "    autoencoder_regressor.save_params(f_params='autoencoder_imputer2.pkl')"
   ]
  },
  {
   "cell_type": "markdown",
   "metadata": {},
   "source": [
    "#### Load the model"
   ]
  },
  {
   "cell_type": "code",
   "execution_count": 21,
   "metadata": {},
   "outputs": [],
   "source": [
    "if shouldRestoreImputer == True and shouldImputeData == True: \n",
    "    autoencoder_regressor.initialize()  # This is important!\n",
    "    autoencoder_regressor.load_params(f_params='autoencoder_imputer2.pkl')"
   ]
  },
  {
   "cell_type": "markdown",
   "metadata": {},
   "source": [
    "#### Illustrate an imputation example"
   ]
  },
  {
   "cell_type": "code",
   "execution_count": 22,
   "metadata": {
    "scrolled": true
   },
   "outputs": [
    {
     "data": {
      "image/png": "[encoded data removed]",
      "text/plain": [
       "<Figure size 432x288 with 1 Axes>"
      ]
     },
     "metadata": {
      "needs_background": "light"
     },
     "output_type": "display_data"
    },
    {
     "data": {
      "image/png": "[encoded data removed]",
      "text/plain": [
       "<Figure size 432x288 with 1 Axes>"
      ]
     },
     "metadata": {
      "needs_background": "light"
     },
     "output_type": "display_data"
    },
    {
     "data": {
      "image/png": "[encoded data removed]",
      "text/plain": [
       "<Figure size 432x288 with 1 Axes>"
      ]
     },
     "metadata": {
      "needs_background": "light"
     },
     "output_type": "display_data"
    },
    {
     "data": {
      "image/png": "[encoded data removed]",
      "text/plain": [
       "<Figure size 432x288 with 1 Axes>"
      ]
     },
     "metadata": {
      "needs_background": "light"
     },
     "output_type": "display_data"
    },
    {
     "data": {
      "image/png": "[encoded data removed]",
      "text/plain": [
       "<Figure size 432x288 with 1 Axes>"
      ]
     },
     "metadata": {
      "needs_background": "light"
     },
     "output_type": "display_data"
    },
    {
     "data": {
      "image/png": "[encoded data removed]",
      "text/plain": [
       "<Figure size 432x288 with 1 Axes>"
      ]
     },
     "metadata": {
      "needs_background": "light"
     },
     "output_type": "display_data"
    }
   ],
   "source": [
    "if shouldImputeData == True: \n",
    "    with torch.no_grad():\n",
    "        inp = convertRowToFlatTensor(train.iloc[255])\n",
    "        mask = inp != inp\n",
    "        beforeNullsRemoved = inp.clone()\n",
    "        inp = convertNullsToConst(inp)\n",
    "        inp = torch.unsqueeze(inp, 0)\n",
    "        res = autoencoder_regressor.predict(inp)\n",
    "        res = res[0]\n",
    "        toGraph = res\n",
    "    #     for ind, truth in enumerate(mask):\n",
    "    #         if truth:\n",
    "    #             toGraph.append(res[ind])\n",
    "    #         else:\n",
    "    #             toGraph.append(np.nan)\n",
    "        for i in range( int(len(beforeNullsRemoved) / 121)) :\n",
    "            plt.plot(beforeNullsRemoved[(i * 121): ((i+1) * 121)], 'b-')\n",
    "            plt.plot(toGraph[(i * 121): ((i+1) * 121)] , 'r--')\n",
    "            plt.show()"
   ]
  },
  {
   "cell_type": "markdown",
   "metadata": {},
   "source": [
    "### Filling in missing values\n",
    "Use the autoencoder to fill in missing values"
   ]
  },
  {
   "cell_type": "code",
   "execution_count": 23,
   "metadata": {},
   "outputs": [],
   "source": [
    "def shouldFillInMissingValues(row):\n",
    "    for feature in features:\n",
    "        sumOfNulls = pd.Series(row[feature]).isna().sum()\n",
    "        if sumOfNulls > 60:\n",
    "            return False\n",
    "    return True\n",
    "\n",
    "def getFeatureBucket(index):\n",
    "    bucket =  int(index / 121) \n",
    "    for i in range(len(features)):\n",
    "        if bucket == i:\n",
    "            return features[i]\n",
    "    return None"
   ]
  },
  {
   "cell_type": "code",
   "execution_count": 24,
   "metadata": {},
   "outputs": [],
   "source": [
    "def imputeRow(row, model):\n",
    "    inp = convertRowToFlatTensor(row)\n",
    "    mask = inp != inp #find the nan values\n",
    "    beforeNullsRemoved = inp.clone()\n",
    "    inp = convertNullsToConst(inp)\n",
    "    inp = torch.unsqueeze(inp, 0)\n",
    "#     print(inp.shape)\n",
    "    res = model.predict(inp)\n",
    "    res = res[0]\n",
    "    toGraph = []\n",
    "    for ind, truth in enumerate(mask):\n",
    "        if truth:\n",
    "            featureBucket = getFeatureBucket(ind)\n",
    "            index = ind % 121\n",
    "            row[featureBucket][index] = res[ind]\n"
   ]
  },
  {
   "cell_type": "code",
   "execution_count": 25,
   "metadata": {},
   "outputs": [
    {
     "name": "stdout",
     "output_type": "stream",
     "text": [
      "location                                                        D\n",
      "temp            [20.16666667, 20.44166667, 21.81666667, 22.7, ...\n",
      "precip          [0.0, 0.187, 0.0, 0.0, 0.0, 0.0, 0.0, 0.0, 0.0...\n",
      "rel_humidity    [0.913583333, 0.942416667, 0.917416667, 0.9047...\n",
      "wind_dir        [289.5198562, 100.1314824, 141.0828999, 10.858...\n",
      "wind_spd        [0.525833333, 0.61, 1.100833333, 0.860833333, ...\n",
      "atmos_press     [90.575, 90.6325, 90.66916667, 90.695, 90.6108...\n",
      "target                                                     42.694\n",
      "Name: 13400, dtype: object\n",
      "location                                                        D\n",
      "temp            [20.16666667, 20.44166667, 21.81666667, 22.7, ...\n",
      "precip          [0.0, 0.187, 0.0, 0.0, 0.0, 0.0, 0.0, 0.0, 0.0...\n",
      "rel_humidity    [0.913583333, 0.942416667, 0.917416667, 0.9047...\n",
      "wind_dir        [289.5198562, 100.1314824, 141.0828999, 10.858...\n",
      "wind_spd        [0.525833333, 0.61, 1.100833333, 0.860833333, ...\n",
      "atmos_press     [90.575, 90.6325, 90.66916667, 90.695, 90.6108...\n",
      "target                                                     42.694\n",
      "Name: 13400, dtype: object\n"
     ]
    }
   ],
   "source": [
    "if shouldImputeData == True: \n",
    "    r = train.iloc[0]\n",
    "    print(r)\n",
    "    imputeRow(r, autoencoder_regressor)\n",
    "    # print()\n",
    "    # autoencoder_regressor.predict(torch.rand(1,726))\n",
    "    print(r)"
   ]
  },
  {
   "cell_type": "code",
   "execution_count": 26,
   "metadata": {},
   "outputs": [],
   "source": [
    "def imputeOnData(df, model):\n",
    "    for index, row in tqdm(df.iterrows()):\n",
    "        for feature in features:\n",
    "            if(pd.Series(row[feature]).isna().sum() > 0):\n",
    "                if shouldFillInMissingValues(row):\n",
    "#                     print(row.head())\n",
    "                    imputeRow(row, model)\n",
    "#                     print(row.head())\n",
    "                else:\n",
    "#                     print('dropping row')\n",
    "                    df.drop(index, inplace= True, axis=0)\n",
    "                break"
   ]
  },
  {
   "cell_type": "code",
   "execution_count": 27,
   "metadata": {},
   "outputs": [
    {
     "name": "stdout",
     "output_type": "stream",
     "text": [
      "(13208, 8)\n",
      "(2331, 8)\n"
     ]
    }
   ],
   "source": [
    "print(train.shape)\n",
    "print(test_actual.shape)"
   ]
  },
  {
   "cell_type": "code",
   "execution_count": 28,
   "metadata": {},
   "outputs": [
    {
     "name": "stderr",
     "output_type": "stream",
     "text": [
      "13208it [01:16, 173.25it/s]\n",
      "2331it [00:12, 181.98it/s]\n"
     ]
    }
   ],
   "source": [
    "if shouldImputeData == True: \n",
    "    imputeOnData(train, autoencoder_regressor)\n",
    "    imputeOnData(test_actual, autoencoder_regressor)\n",
    "else:\n",
    "    dropRowsWithAnyNulls(train)\n",
    "    dropRowsWithAnyNulls(test_actual)"
   ]
  },
  {
   "cell_type": "code",
   "execution_count": 29,
   "metadata": {},
   "outputs": [
    {
     "name": "stdout",
     "output_type": "stream",
     "text": [
      "(12289, 8)\n",
      "(2190, 8)\n"
     ]
    }
   ],
   "source": [
    "print(train.shape)\n",
    "print(test_actual.shape)"
   ]
  },
  {
   "cell_type": "markdown",
   "metadata": {},
   "source": [
    "### Scaling data\n",
    "The following functions help apply transforms the timeseries columns. The test dataset is scaled only based on the training dataset to prevent information leakage of test data into the training data"
   ]
  },
  {
   "cell_type": "code",
   "execution_count": 30,
   "metadata": {},
   "outputs": [],
   "source": [
    "def convertSeriesofListsToDataFrame(series):\n",
    "    listToConv = []\n",
    "    for item in series:\n",
    "        listToConv.append(item)\n",
    "    newDF = pd.DataFrame(listToConv )\n",
    "    return newDF\n",
    "\n",
    "class CustomMinMaxScaler():\n",
    "    def __init__(self, minVal, maxVal, feature_range=(-1, 1)):\n",
    "        self.a = feature_range[0]\n",
    "        self.b = feature_range[1]\n",
    "        self.A = minVal\n",
    "        self.B = maxVal\n",
    "        self.scale_ = (self.b-self.a) / (self.B - self.A)\n",
    "        \n",
    "    def fit(self, data):\n",
    "        return\n",
    "    \n",
    "    def transform(self,df):\n",
    "        df -= self.A\n",
    "        df *= self.scale_\n",
    "        df += self.a\n",
    "        return df.to_numpy()\n",
    "    \n",
    "class CustomStandardScaler():\n",
    "    def __init__(self):\n",
    "        self.mean = -1 #init\n",
    "        self.std = -1\n",
    "        \n",
    "    def fit(self, dataframe, isTraining=True):\n",
    "        if isTraining:\n",
    "            self.mean = dataframe.stack().mean()\n",
    "            self.std = dataframe.stack().std()\n",
    "        return\n",
    "    \n",
    "    def transform(self, df):\n",
    "        df -= self.mean\n",
    "        df /= self.std\n",
    "        return df.to_numpy() \n",
    "        \n",
    "def scaleDataFrame(scaler, df, isTraining=True):\n",
    "    if isTraining:\n",
    "        scaler.fit(df) #the scalers are fit according to the training set and not the test set\n",
    "    return scaler.transform(df)\n",
    "\n",
    "def applyScaleTransformations(trainDataframe, infoDict, testDataframe):\n",
    "    for key, value in infoDict.items():\n",
    "        scaleResTrain = scaleDataFrame(value, convertSeriesofListsToDataFrame(trainDataframe[key]))\n",
    "        scaleResTest = scaleDataFrame(value, convertSeriesofListsToDataFrame(testDataframe[key]), False)\n",
    "        trainDataframe.drop(columns=[key])\n",
    "        testDataframe.drop(columns=[key])\n",
    "\n",
    "        seriesTrain = pd.Series(scaleResTrain.tolist())\n",
    "        kwargs = {key : seriesTrain.values}\n",
    "        trainDataframe = trainDataframe.assign(**kwargs)\n",
    "        \n",
    "        seriesTest = pd.Series(scaleResTest.tolist())\n",
    "        kwargs = {key : seriesTest.values}\n",
    "        testDataframe = testDataframe.assign(**kwargs)\n",
    "        \n",
    "    return trainDataframe, testDataframe"
   ]
  },
  {
   "cell_type": "code",
   "execution_count": 31,
   "metadata": {},
   "outputs": [
    {
     "data": {
      "text/html": [
       "<div>\n",
       "<style scoped>\n",
       "    .dataframe tbody tr th:only-of-type {\n",
       "        vertical-align: middle;\n",
       "    }\n",
       "\n",
       "    .dataframe tbody tr th {\n",
       "        vertical-align: top;\n",
       "    }\n",
       "\n",
       "    .dataframe thead th {\n",
       "        text-align: right;\n",
       "    }\n",
       "</style>\n",
       "<table border=\"1\" class=\"dataframe\">\n",
       "  <thead>\n",
       "    <tr style=\"text-align: right;\">\n",
       "      <th></th>\n",
       "      <th>location</th>\n",
       "      <th>temp</th>\n",
       "      <th>precip</th>\n",
       "      <th>rel_humidity</th>\n",
       "      <th>wind_dir</th>\n",
       "      <th>wind_spd</th>\n",
       "      <th>atmos_press</th>\n",
       "      <th>target</th>\n",
       "    </tr>\n",
       "  </thead>\n",
       "  <tbody>\n",
       "    <tr>\n",
       "      <th>13400</th>\n",
       "      <td>D</td>\n",
       "      <td>[20.16666667, 20.44166667, 21.81666667, 22.7, ...</td>\n",
       "      <td>[0.0, 0.187, 0.0, 0.0, 0.0, 0.0, 0.0, 0.0, 0.0...</td>\n",
       "      <td>[0.913583333, 0.942416667, 0.917416667, 0.9047...</td>\n",
       "      <td>[289.5198562, 100.1314824, 141.0828999, 10.858...</td>\n",
       "      <td>[0.525833333, 0.61, 1.100833333, 0.860833333, ...</td>\n",
       "      <td>[90.575, 90.6325, 90.66916667, 90.695, 90.6108...</td>\n",
       "      <td>42.694043</td>\n",
       "    </tr>\n",
       "    <tr>\n",
       "      <th>14406</th>\n",
       "      <td>E</td>\n",
       "      <td>[23.68333333, 24.51666667, 24.325, 23.41666667...</td>\n",
       "      <td>[0.0, 0.0, 0.0, 0.0, 0.0, 0.0, 0.0, 0.0, 0.0, ...</td>\n",
       "      <td>[0.787083333, 0.80075, 0.817333333, 0.85566666...</td>\n",
       "      <td>[159.4940113, 115.14581499999998, 298.3011528,...</td>\n",
       "      <td>[0.720833333, 0.7975, 0.415, 1.561666667, 2.02...</td>\n",
       "      <td>[88.31166667, 88.33666667, 88.28083333, 88.272...</td>\n",
       "      <td>20.941667</td>\n",
       "    </tr>\n",
       "    <tr>\n",
       "      <th>1740</th>\n",
       "      <td>B</td>\n",
       "      <td>[21.88333333, 21.49166667, 21.35, 21.46666667,...</td>\n",
       "      <td>[0.0, 0.0, 0.0, 0.0, 0.0, 0.0, 0.0, 0.0, 0.0, ...</td>\n",
       "      <td>[0.7925, 0.788333333, 0.779166667, 0.783333333...</td>\n",
       "      <td>[185.1598778, 179.0868879, 174.41672069999996,...</td>\n",
       "      <td>[1.198333333, 1.464166667, 1.6791666669999998,...</td>\n",
       "      <td>[88.64, 88.685, 88.72333333, 88.75166667, 88.7...</td>\n",
       "      <td>106.118293</td>\n",
       "    </tr>\n",
       "    <tr>\n",
       "      <th>10598</th>\n",
       "      <td>C</td>\n",
       "      <td>[18.61666667, 18.55, 18.55833333, 18.34166667,...</td>\n",
       "      <td>[0.034, 0.034, 0.0, 0.017, 0.017, 0.0, 0.068, ...</td>\n",
       "      <td>[0.995666667, 0.999, 0.999833333, 0.99975, 0.9...</td>\n",
       "      <td>[305.9133537, 301.9505753, 287.8784468, 268.63...</td>\n",
       "      <td>[0.901666667, 0.8091666670000001, 0.625833333,...</td>\n",
       "      <td>[87.69083333, 87.72833333, 87.8, 87.845, 87.87...</td>\n",
       "      <td>90.960889</td>\n",
       "    </tr>\n",
       "    <tr>\n",
       "      <th>9310</th>\n",
       "      <td>A</td>\n",
       "      <td>[24.40833333, 23.31666667, 23.18333333, 22.325...</td>\n",
       "      <td>[0.0, 0.0, 0.0, 0.0, 0.0, 0.0, 0.0, 0.0, 0.0, ...</td>\n",
       "      <td>[0.7180833329999999, 0.793333333, 0.786166667,...</td>\n",
       "      <td>[15.16579205, 201.5625559, 140.0581756, 113.17...</td>\n",
       "      <td>[0.470833333, 0.533333333, 0.770833333, 0.4775...</td>\n",
       "      <td>[88.40166667, 88.43333333, 88.45166667, 88.465...</td>\n",
       "      <td>76.324118</td>\n",
       "    </tr>\n",
       "  </tbody>\n",
       "</table>\n",
       "</div>"
      ],
      "text/plain": [
       "      location                                               temp  \\\n",
       "13400        D  [20.16666667, 20.44166667, 21.81666667, 22.7, ...   \n",
       "14406        E  [23.68333333, 24.51666667, 24.325, 23.41666667...   \n",
       "1740         B  [21.88333333, 21.49166667, 21.35, 21.46666667,...   \n",
       "10598        C  [18.61666667, 18.55, 18.55833333, 18.34166667,...   \n",
       "9310         A  [24.40833333, 23.31666667, 23.18333333, 22.325...   \n",
       "\n",
       "                                                  precip  \\\n",
       "13400  [0.0, 0.187, 0.0, 0.0, 0.0, 0.0, 0.0, 0.0, 0.0...   \n",
       "14406  [0.0, 0.0, 0.0, 0.0, 0.0, 0.0, 0.0, 0.0, 0.0, ...   \n",
       "1740   [0.0, 0.0, 0.0, 0.0, 0.0, 0.0, 0.0, 0.0, 0.0, ...   \n",
       "10598  [0.034, 0.034, 0.0, 0.017, 0.017, 0.0, 0.068, ...   \n",
       "9310   [0.0, 0.0, 0.0, 0.0, 0.0, 0.0, 0.0, 0.0, 0.0, ...   \n",
       "\n",
       "                                            rel_humidity  \\\n",
       "13400  [0.913583333, 0.942416667, 0.917416667, 0.9047...   \n",
       "14406  [0.787083333, 0.80075, 0.817333333, 0.85566666...   \n",
       "1740   [0.7925, 0.788333333, 0.779166667, 0.783333333...   \n",
       "10598  [0.995666667, 0.999, 0.999833333, 0.99975, 0.9...   \n",
       "9310   [0.7180833329999999, 0.793333333, 0.786166667,...   \n",
       "\n",
       "                                                wind_dir  \\\n",
       "13400  [289.5198562, 100.1314824, 141.0828999, 10.858...   \n",
       "14406  [159.4940113, 115.14581499999998, 298.3011528,...   \n",
       "1740   [185.1598778, 179.0868879, 174.41672069999996,...   \n",
       "10598  [305.9133537, 301.9505753, 287.8784468, 268.63...   \n",
       "9310   [15.16579205, 201.5625559, 140.0581756, 113.17...   \n",
       "\n",
       "                                                wind_spd  \\\n",
       "13400  [0.525833333, 0.61, 1.100833333, 0.860833333, ...   \n",
       "14406  [0.720833333, 0.7975, 0.415, 1.561666667, 2.02...   \n",
       "1740   [1.198333333, 1.464166667, 1.6791666669999998,...   \n",
       "10598  [0.901666667, 0.8091666670000001, 0.625833333,...   \n",
       "9310   [0.470833333, 0.533333333, 0.770833333, 0.4775...   \n",
       "\n",
       "                                             atmos_press      target  \n",
       "13400  [90.575, 90.6325, 90.66916667, 90.695, 90.6108...   42.694043  \n",
       "14406  [88.31166667, 88.33666667, 88.28083333, 88.272...   20.941667  \n",
       "1740   [88.64, 88.685, 88.72333333, 88.75166667, 88.7...  106.118293  \n",
       "10598  [87.69083333, 87.72833333, 87.8, 87.845, 87.87...   90.960889  \n",
       "9310   [88.40166667, 88.43333333, 88.45166667, 88.465...   76.324118  "
      ]
     },
     "execution_count": 31,
     "metadata": {},
     "output_type": "execute_result"
    }
   ],
   "source": [
    "train.head()"
   ]
  },
  {
   "cell_type": "code",
   "execution_count": 32,
   "metadata": {},
   "outputs": [],
   "source": [
    "scalesToDo =  { 'wind_dir': CustomMinMaxScaler(0, 360),'temp' : CustomStandardScaler(), 'precip' : CustomStandardScaler()\n",
    "              ,'wind_spd' : CustomStandardScaler(), 'atmos_press' : CustomStandardScaler(), 'rel_humidity' : CustomMinMaxScaler(0,1)\n",
    "              }\n",
    "train, test_actual = applyScaleTransformations(train, scalesToDo, test_actual)"
   ]
  },
  {
   "cell_type": "code",
   "execution_count": 33,
   "metadata": {
    "scrolled": true
   },
   "outputs": [
    {
     "data": {
      "text/html": [
       "<div>\n",
       "<style scoped>\n",
       "    .dataframe tbody tr th:only-of-type {\n",
       "        vertical-align: middle;\n",
       "    }\n",
       "\n",
       "    .dataframe tbody tr th {\n",
       "        vertical-align: top;\n",
       "    }\n",
       "\n",
       "    .dataframe thead th {\n",
       "        text-align: right;\n",
       "    }\n",
       "</style>\n",
       "<table border=\"1\" class=\"dataframe\">\n",
       "  <thead>\n",
       "    <tr style=\"text-align: right;\">\n",
       "      <th></th>\n",
       "      <th>location</th>\n",
       "      <th>temp</th>\n",
       "      <th>precip</th>\n",
       "      <th>rel_humidity</th>\n",
       "      <th>wind_dir</th>\n",
       "      <th>wind_spd</th>\n",
       "      <th>atmos_press</th>\n",
       "      <th>target</th>\n",
       "    </tr>\n",
       "  </thead>\n",
       "  <tbody>\n",
       "    <tr>\n",
       "      <th>13400</th>\n",
       "      <td>D</td>\n",
       "      <td>[-0.7459874368773107, -0.6677518768267242, -0....</td>\n",
       "      <td>[-0.11892713286637936, 0.015706564562155616, -...</td>\n",
       "      <td>[0.8271666660000001, 0.8848333340000001, 0.834...</td>\n",
       "      <td>[0.6084436455555555, -0.4437139866666666, -0.2...</td>\n",
       "      <td>[-0.7334265513173749, -0.6054407582145671, 0.1...</td>\n",
       "      <td>[1.2933833631700689, 1.3434890542923548, 1.375...</td>\n",
       "      <td>42.694043</td>\n",
       "    </tr>\n",
       "    <tr>\n",
       "      <th>14406</th>\n",
       "      <td>E</td>\n",
       "      <td>[0.2544794200547865, 0.49155687665015413, 0.43...</td>\n",
       "      <td>[-0.11892713286637936, -0.11892713286637936, -...</td>\n",
       "      <td>[0.574166666, 0.6014999999999999, 0.634666666,...</td>\n",
       "      <td>[-0.11392215944444439, -0.36030102777777784, 0...</td>\n",
       "      <td>[-0.43690501203570736, -0.32032389352065593, -...</td>\n",
       "      <td>[-0.6788928236086124, -0.6571077405119577, -0....</td>\n",
       "      <td>20.941667</td>\n",
       "    </tr>\n",
       "    <tr>\n",
       "      <th>1740</th>\n",
       "      <td>B</td>\n",
       "      <td>[-0.25760788209450974, -0.36903428390630133, -...</td>\n",
       "      <td>[-0.11892713286637936, -0.11892713286637936, -...</td>\n",
       "      <td>[0.585, 0.5766666659999999, 0.5583333340000001...</td>\n",
       "      <td>[0.028665987777777735, -0.005072845000000048, ...</td>\n",
       "      <td>[0.2891926033847863, 0.693424959231236, 1.0203...</td>\n",
       "      <td>[-0.39278206851061853, -0.35356891893664766, -...</td>\n",
       "      <td>106.118293</td>\n",
       "    </tr>\n",
       "    <tr>\n",
       "      <th>10598</th>\n",
       "      <td>C</td>\n",
       "      <td>[-1.1869515026169826, -1.2059176999411922, -1....</td>\n",
       "      <td>[-0.09444827878846392, -0.09444827878846392, -...</td>\n",
       "      <td>[0.9913333339999999, 0.998, 0.999666666, 0.999...</td>\n",
       "      <td>[0.6995186316666668, 0.6775031961111113, 0.599...</td>\n",
       "      <td>[-0.16192563485049752, -0.3025832880994936, -0...</td>\n",
       "      <td>[-1.2198890596514265, -1.1872114350064569, -1....</td>\n",
       "      <td>90.960889</td>\n",
       "    </tr>\n",
       "    <tr>\n",
       "      <th>9310</th>\n",
       "      <td>A</td>\n",
       "      <td>[0.46073680564269787, 0.15016534188395697, 0.1...</td>\n",
       "      <td>[-0.11892713286637936, -0.11892713286637936, -...</td>\n",
       "      <td>[0.43616666599999987, 0.586666666, 0.572333334...</td>\n",
       "      <td>[-0.9157455997222222, 0.11979197722222223, -0....</td>\n",
       "      <td>[-0.8170608316275888, -0.7220218767296186, -0....</td>\n",
       "      <td>[-0.6004665244606706, -0.5728720916809373, -0....</td>\n",
       "      <td>76.324118</td>\n",
       "    </tr>\n",
       "  </tbody>\n",
       "</table>\n",
       "</div>"
      ],
      "text/plain": [
       "      location                                               temp  \\\n",
       "13400        D  [-0.7459874368773107, -0.6677518768267242, -0....   \n",
       "14406        E  [0.2544794200547865, 0.49155687665015413, 0.43...   \n",
       "1740         B  [-0.25760788209450974, -0.36903428390630133, -...   \n",
       "10598        C  [-1.1869515026169826, -1.2059176999411922, -1....   \n",
       "9310         A  [0.46073680564269787, 0.15016534188395697, 0.1...   \n",
       "\n",
       "                                                  precip  \\\n",
       "13400  [-0.11892713286637936, 0.015706564562155616, -...   \n",
       "14406  [-0.11892713286637936, -0.11892713286637936, -...   \n",
       "1740   [-0.11892713286637936, -0.11892713286637936, -...   \n",
       "10598  [-0.09444827878846392, -0.09444827878846392, -...   \n",
       "9310   [-0.11892713286637936, -0.11892713286637936, -...   \n",
       "\n",
       "                                            rel_humidity  \\\n",
       "13400  [0.8271666660000001, 0.8848333340000001, 0.834...   \n",
       "14406  [0.574166666, 0.6014999999999999, 0.634666666,...   \n",
       "1740   [0.585, 0.5766666659999999, 0.5583333340000001...   \n",
       "10598  [0.9913333339999999, 0.998, 0.999666666, 0.999...   \n",
       "9310   [0.43616666599999987, 0.586666666, 0.572333334...   \n",
       "\n",
       "                                                wind_dir  \\\n",
       "13400  [0.6084436455555555, -0.4437139866666666, -0.2...   \n",
       "14406  [-0.11392215944444439, -0.36030102777777784, 0...   \n",
       "1740   [0.028665987777777735, -0.005072845000000048, ...   \n",
       "10598  [0.6995186316666668, 0.6775031961111113, 0.599...   \n",
       "9310   [-0.9157455997222222, 0.11979197722222223, -0....   \n",
       "\n",
       "                                                wind_spd  \\\n",
       "13400  [-0.7334265513173749, -0.6054407582145671, 0.1...   \n",
       "14406  [-0.43690501203570736, -0.32032389352065593, -...   \n",
       "1740   [0.2891926033847863, 0.693424959231236, 1.0203...   \n",
       "10598  [-0.16192563485049752, -0.3025832880994936, -0...   \n",
       "9310   [-0.8170608316275888, -0.7220218767296186, -0....   \n",
       "\n",
       "                                             atmos_press      target  \n",
       "13400  [1.2933833631700689, 1.3434890542923548, 1.375...   42.694043  \n",
       "14406  [-0.6788928236086124, -0.6571077405119577, -0....   20.941667  \n",
       "1740   [-0.39278206851061853, -0.35356891893664766, -...  106.118293  \n",
       "10598  [-1.2198890596514265, -1.1872114350064569, -1....   90.960889  \n",
       "9310   [-0.6004665244606706, -0.5728720916809373, -0....   76.324118  "
      ]
     },
     "execution_count": 33,
     "metadata": {},
     "output_type": "execute_result"
    }
   ],
   "source": [
    "train.head()"
   ]
  },
  {
   "cell_type": "markdown",
   "metadata": {},
   "source": [
    "## Deal with the location metadata"
   ]
  },
  {
   "cell_type": "code",
   "execution_count": 34,
   "metadata": {},
   "outputs": [],
   "source": [
    "# train_A = train[train['location'] == 'A']\n",
    "# train_B = train[train['location'] == 'B']\n",
    "# train_C = train[train['location'] == 'C']\n",
    "# train_D = train[train['location'] == 'D']\n",
    "# train_E = train[train['location'] == 'E']"
   ]
  },
  {
   "cell_type": "code",
   "execution_count": 35,
   "metadata": {
    "scrolled": true
   },
   "outputs": [
    {
     "ename": "NameError",
     "evalue": "name 'train_C' is not defined",
     "output_type": "error",
     "traceback": [
      "\u001b[1;31m---------------------------------------------------------------------------\u001b[0m",
      "\u001b[1;31mNameError\u001b[0m                                 Traceback (most recent call last)",
      "\u001b[1;32m<ipython-input-35-e96ff565520a>\u001b[0m in \u001b[0;36m<module>\u001b[1;34m\u001b[0m\n\u001b[1;32m----> 1\u001b[1;33m \u001b[0mtrain_C\u001b[0m\u001b[1;33m.\u001b[0m\u001b[0mhead\u001b[0m\u001b[1;33m(\u001b[0m\u001b[1;33m)\u001b[0m\u001b[1;33m\u001b[0m\u001b[1;33m\u001b[0m\u001b[0m\n\u001b[0m",
      "\u001b[1;31mNameError\u001b[0m: name 'train_C' is not defined"
     ]
    }
   ],
   "source": [
    "# train_C.head()"
   ]
  },
  {
   "cell_type": "code",
   "execution_count": null,
   "metadata": {},
   "outputs": [],
   "source": [
    "NUM_ITEMS = 121\n",
    "has_integrity = True\n",
    "for col in train_A:\n",
    "    if col != 'location' and col != 'target':\n",
    "        for cell in train_A[col]:\n",
    "            if len(cell) != 121:\n",
    "                has_integrity = False\n",
    "                break \n",
    "if has_integrity:\n",
    "    print(\"All cells have the correct length\")\n",
    "else:\n",
    "    print('Warning! cells are not of the same length')"
   ]
  },
  {
   "cell_type": "markdown",
   "metadata": {},
   "source": [
    "## Convert data to be suitable for LSTM\n",
    "One row contains 121 steps through time for each of the 6 series.\n",
    "Need to loop through the rows, and for each row convert it to the suitable format"
   ]
  },
  {
   "cell_type": "code",
   "execution_count": 36,
   "metadata": {},
   "outputs": [],
   "source": [
    "#one row makes one input pattern.\n",
    "def transform_df_to_lstm_format(dataframe):\n",
    "    dfCollection = []\n",
    "    dfCollectionTargets = []\n",
    "    for i, row in dataframe.iterrows():\n",
    "        df = pd.DataFrame()\n",
    "        for indicator in features:\n",
    "            col = row[indicator]\n",
    "            df[indicator] = col #make the row now a column in a dataframe\n",
    "        dfCollection.append(df)\n",
    "        dfCollectionTargets.append(row['target'])\n",
    "    return dfCollection, dfCollectionTargets\n"
   ]
  },
  {
   "cell_type": "markdown",
   "metadata": {},
   "source": [
    "## Make a Dataloader"
   ]
  },
  {
   "cell_type": "code",
   "execution_count": 37,
   "metadata": {},
   "outputs": [],
   "source": [
    "class WeatherDataset(Dataset):\n",
    "    def __init__(self, trainingDataframes, targets):\n",
    "        tmp = []\n",
    "        for i in range(len(trainingDataframes)):\n",
    "            tmp.append(torch.as_tensor(trainingDataframes[i].to_numpy()).float())\n",
    "        self.data = tmp\n",
    "        self.targets = torch.tensor(targets).float()\n",
    "        print(\"Initiated Dataset\\n\")\n",
    "        \n",
    "    def __getitem__(self, index):\n",
    "        return (self.data[index], self.targets[index])\n",
    "    \n",
    "    def __len__(self):\n",
    "        return len(self.data)\n",
    "    \n",
    "    def transpose_internals(self):\n",
    "        for i, tens in enumerate(self.data):\n",
    "            self.data[i] = torch.unsqueeze(tens.t(),0)\n",
    "#         print(self.data[0])\n",
    "#         print(self.data[0].t().shape)"
   ]
  },
  {
   "cell_type": "markdown",
   "metadata": {},
   "source": [
    "#### Callback used to reset the hidden state"
   ]
  },
  {
   "cell_type": "code",
   "execution_count": 38,
   "metadata": {},
   "outputs": [],
   "source": [
    "import pprint\n",
    "class HiddenStateResetter(skorch.callbacks.Callback):\n",
    "    def on_batch_begin(self, net, **kwargs):\n",
    "        net.module_.reset_hidden_state()\n",
    "        \n",
    "class EarlyStoppingWaiter(skorch.callbacks.Callback):\n",
    "    def __init__(self, **kwargs):\n",
    "        super().__init__(**kwargs)\n",
    "        self.isDone = False\n",
    "    def on_epoch_end(self, net, dataset_train, dataset_valid):\n",
    "        if self.isDone:\n",
    "            return\n",
    "\n",
    "        if net.history[-1, 'epoch'] > 100:\n",
    "            net.set_params(callbacks__EarlyStopping__patience=10)\n",
    "            self.isDone = True\n",
    "            print(\"Done Waiting\")\n",
    "        "
   ]
  },
  {
   "cell_type": "markdown",
   "metadata": {},
   "source": [
    "### Split the data into train and validation"
   ]
  },
  {
   "cell_type": "code",
   "execution_count": 39,
   "metadata": {
    "scrolled": true
   },
   "outputs": [
    {
     "name": "stdout",
     "output_type": "stream",
     "text": [
      "Initiated Dataset\n",
      "\n"
     ]
    }
   ],
   "source": [
    "train_input_lstm_format, train_target_lstm_format = transform_df_to_lstm_format(train)\n",
    "weather_dataset = WeatherDataset(train_input_lstm_format, train_target_lstm_format)\n",
    "if isUsingCNN:\n",
    "    weather_dataset.transpose_internals()\n",
    "train_size = int(0.85 * len(weather_dataset))\n",
    "validation_size = len(weather_dataset) - train_size\n",
    "train_dataset, validation_dataset = torch.utils.data.random_split(weather_dataset, [train_size, validation_size])"
   ]
  },
  {
   "cell_type": "markdown",
   "metadata": {},
   "source": [
    "# PyTorch LSTM Model\n",
    "input.size() is (batch_size, seq_len, num_features)\n",
    "Hidden will have (1, batch_size, hidden_size)"
   ]
  },
  {
   "cell_type": "markdown",
   "metadata": {},
   "source": [
    "## Model"
   ]
  },
  {
   "cell_type": "code",
   "execution_count": null,
   "metadata": {},
   "outputs": [],
   "source": [
    "class LSTMModel(nn.Module):\n",
    "    def __init__(self, inputDim, hiddenDim, seqLength, numLayers, batch_size, bidirection=False):\n",
    "        super(LSTMModel, self).__init__()\n",
    "        \n",
    "        self.inputDim = inputDim\n",
    "        self.hiddenDim = hiddenDim\n",
    "        self.seqLength = seqLength #sequence length will be 121 because those are the time steps\n",
    "        self.numLayers = numLayers\n",
    "        self.batch_size = batch_size\n",
    "        \n",
    "        if bidirection:\n",
    "            self.bidirectional = 2\n",
    "        else:\n",
    "            self.bidirectional = 1\n",
    "            \n",
    "        self.internalState = self.get_initial_hidden_state(batch_size) #cell state and hidden state\n",
    "        \n",
    "        self.lstm = nn.LSTM(input_size=inputDim, hidden_size=hiddenDim, num_layers=numLayers, batch_first= True)\n",
    "        self.linear = nn.Linear(hiddenDim, 1) #output is a single real number value\n",
    "        \n",
    "    def forward(self, t):\n",
    "        t, hn_cn = self.lstm(t, self.internalState)\n",
    "#         self.internalState = self.detach_hidden_states(hn_cn) #detach from the graph \n",
    "        self.internalState = hn_cn\n",
    "        output = self.linear(t)\n",
    "        lastOutputsInSequences = output[:,-1]\n",
    "        return lastOutputsInSequences.squeeze(1)\n",
    "#         return output\n",
    "    \n",
    "    def get_initial_hidden_state(self, batch_size):\n",
    "        return (torch.randn(self.numLayers*self.bidirectional, batch_size, self.hiddenDim).float().cuda(), torch.randn(self.numLayers*self.bidirectional, batch_size, self.hiddenDim).float().cuda()) #initial hidden state\n",
    "    \n",
    "    def reset_hidden_state(self):\n",
    "        self.internalState = self.get_initial_hidden_state(self.batch_size)\n",
    "    \n",
    "    def detach_hidden_states(self, hidden):\n",
    "        if isinstance(hidden, torch.Tensor):\n",
    "            return hidden.detach()\n",
    "        else:\n",
    "            return tuple(self.detach_hidden_states(v) for v in hidden) "
   ]
  },
  {
   "cell_type": "markdown",
   "metadata": {},
   "source": [
    "#### Toy feed in the model to test dimensionality\n",
    "Can uncomment the summary writer code for tensorboard"
   ]
  },
  {
   "cell_type": "code",
   "execution_count": null,
   "metadata": {},
   "outputs": [],
   "source": [
    "# testModel = LSTMModel(inputDim = 6, hiddenDim = 100, seqLength = 121, numLayers = 1, batch_size=2).cuda()\n",
    "# inp = torch.unsqueeze(torch.as_tensor(train_dataseta[0].to_numpy()), 0).float()\n",
    "# inp2 = torch.unsqueeze(torch.as_tensor(train_dataset[62].to_numpy()), 0).float()\n",
    "# res = torch.cat((inp,inp2), 0)\n",
    "# r = testModel(Variable(res).cuda())\n",
    "# print(r)\n",
    "# print(testModel)\n",
    "\n",
    "# from torch.utils.tensorboard import SummaryWriter\n",
    "# writer = SummaryWriter('runs/lstm_visualiser')\n",
    "# writer.add_graph(testModel, (Variable(res).cuda()))\n",
    "# writer.close()"
   ]
  },
  {
   "cell_type": "markdown",
   "metadata": {},
   "source": [
    "## Hyperparameters"
   ]
  },
  {
   "cell_type": "code",
   "execution_count": null,
   "metadata": {},
   "outputs": [],
   "source": [
    "from itertools import product\n",
    "#define a dictionary of hyper parameters to test\n",
    "parameters = dict(\n",
    "    lr = [ 0.001],\n",
    "    batch_size = [32],\n",
    "    num_layers = [2]\n",
    "    )\n",
    "param_values = [v for v in parameters.values()]\n",
    "#     print(f\"l {lr} b {batch_size} n {num_layers}\")"
   ]
  },
  {
   "cell_type": "code",
   "execution_count": null,
   "metadata": {
    "scrolled": true
   },
   "outputs": [],
   "source": [
    "\n",
    "experimentList = []\n",
    "for learnRate, batchSize, numLayers in product(*param_values):\n",
    "    for run in range(5):\n",
    "        lstmModel = NeuralNet(\n",
    "            module=LSTMModel,\n",
    "            module__inputDim = 6,\n",
    "            module__hiddenDim = 121,\n",
    "            module__seqLength = 121,\n",
    "            module__numLayers = numLayers,\n",
    "            module__batch_size=batchSize,\n",
    "            batch_size=batchSize,\n",
    "            criterion=torch.nn.L1Loss,\n",
    "            optimizer=torch.optim.Adam,\n",
    "            max_epochs=500,\n",
    "            lr = learnRate,\n",
    "            device='cuda',\n",
    "            iterator_train__shuffle=True,\n",
    "            iterator_train__drop_last=True,\n",
    "            iterator_valid__drop_last=True,\n",
    "            train_split=predefined_split(validation_dataset),\n",
    "             callbacks=[\n",
    "                HiddenStateResetter(),\n",
    "                EarlyStoppingWaiter(),\n",
    "                EarlyStopping(patience=100)\n",
    "            ]\n",
    "        )\n",
    "        lstmModel.fit(train_dataset)\n",
    "        l = lstmModel.history[:, 'train_loss']\n",
    "        v = lstmModel.history[:, 'valid_loss']\n",
    "        experimentList.append({f\"run_imputed_{run}-l_{learnRate} b_{batchSize} n_{numLayers}\" : {'train' : l, 'val' : v} })\n",
    "        lstmModel.save_params(f_params=f\"run_imputed_{run}-l_{learnRate}-b_{batchSize}-n_{numLayers}.pkl\")\n",
    "        torch.cuda.empty_cache()\n"
   ]
  },
  {
   "cell_type": "code",
   "execution_count": null,
   "metadata": {},
   "outputs": [],
   "source": [
    "# print(experimentList[0]['l_0.0001 b_16 n_1'])\n",
    "for el in experimentList:\n",
    "    for k in el:\n",
    "#         print(k)\n",
    "#         print(el[k]['val'])\n",
    "        ind = k\n",
    "        k = k[2:]\n",
    "        k = 'L:' + k\n",
    "#         k = k[:-3]\n",
    "        k = k.replace('b_', 'B:')\n",
    "        k = k.replace('n_', 'N:')\n",
    "        k = k[-3:]\n",
    "        plt.plot(el[ind]['val'][:150], label = k)\n",
    "# plt.axvline(x=100, color='k', linestyle='--', label='Early Stopping')\n",
    "plt.legend()\n",
    "plt.ylabel('Validation Loss (MAE)')\n",
    "plt.xlabel('Epochs')\n",
    "plt.show()"
   ]
  },
  {
   "cell_type": "code",
   "execution_count": null,
   "metadata": {},
   "outputs": [],
   "source": [
    "import pickle\n",
    "with open('runs_lstm_imputed_no_metadata.pkl', 'wb') as f:\n",
    "    pickle.dump(experimentList, f)"
   ]
  },
  {
   "cell_type": "code",
   "execution_count": null,
   "metadata": {},
   "outputs": [],
   "source": [
    "# with open('runs_layer2_no_metadata.pkl', 'rb') as f:\n",
    "#     mynewlist = pickle.load(f)\n",
    "#     print(mynewlist)"
   ]
  },
  {
   "cell_type": "markdown",
   "metadata": {},
   "source": [
    "## Inference"
   ]
  },
  {
   "cell_type": "code",
   "execution_count": null,
   "metadata": {},
   "outputs": [],
   "source": [
    "test_actual_in_lstm, test_actual_target_lstm_format = transform_df_to_lstm_format(test_actual)\n",
    "test_dataset = WeatherDataset(test_actual_in_lstm, test_actual_target_lstm_format)\n",
    "if isUsingCNN:\n",
    "    test_dataset.transpose_internals()"
   ]
  },
  {
   "cell_type": "code",
   "execution_count": null,
   "metadata": {},
   "outputs": [],
   "source": [
    "from pandas.core.common import flatten\n",
    "def evaluate_performance(models, trainDataset, validationDataset, testDataset):\n",
    "#     in_data, targets = transform_df_to_lstm_format(test_actual[test_actual['location'] == 'A'])\n",
    "#     weather_dataset = WeatherDataset(in_data, targets)\n",
    "    data_loader_train = torch.utils.data.DataLoader(trainDataset, batch_size=32, num_workers=0, drop_last=True)\n",
    "    data_loader_val = torch.utils.data.DataLoader(validationDataset, batch_size=32, num_workers=0, drop_last=True)\n",
    "    data_loader_test = torch.utils.data.DataLoader(testDataset, batch_size=32, num_workers=0, drop_last=True)\n",
    "\n",
    "    results = {}\n",
    "    for i, model in enumerate(models):\n",
    "        results[f'{i}'] = {}\n",
    "#         model.eval()\n",
    "        with torch.no_grad():\n",
    "            targets = torch.tensor([]).cuda()\n",
    "            predicted = torch.tensor([]).cuda()\n",
    "            for i_batch, (x, y) in enumerate(data_loader_train):\n",
    "                pred = model.infer(Variable(x).cuda())\n",
    "                y = Variable(y).cuda()\n",
    "                targets = torch.cat((targets,y), 0)\n",
    "                predicted =torch.cat((predicted,pred),0)\n",
    "                flat_targets = torch.flatten(targets).cpu()\n",
    "                flat_predicted = torch.flatten(predicted).cpu()\n",
    "            results[f'{i}']['trainRes'] = {'targets' : flat_targets, 'predicted' : flat_predicted}\n",
    "            \n",
    "            targets = torch.tensor([]).cuda()\n",
    "            predicted = torch.tensor([]).cuda()\n",
    "            for i_batch, (x, y) in enumerate(data_loader_val):\n",
    "                pred = model.infer(Variable(x).cuda())\n",
    "                y = Variable(y).cuda()\n",
    "                targets = torch.cat((targets,y), 0)\n",
    "                predicted =torch.cat((predicted,pred),0)\n",
    "                flat_targets = torch.flatten(targets).cpu()\n",
    "                flat_predicted = torch.flatten(predicted).cpu()\n",
    "            results[f'{i}']['valRes'] = {'targets' : flat_targets, 'predicted' : flat_predicted}\n",
    "            \n",
    "            targets = torch.tensor([]).cuda()\n",
    "            predicted = torch.tensor([]).cuda()\n",
    "            for i_batch, (x, y) in enumerate(data_loader_test):\n",
    "                pred = model.infer(Variable(x).cuda())\n",
    "                y = Variable(y).cuda()\n",
    "                targets = torch.cat((targets,y), 0)\n",
    "                predicted =torch.cat((predicted,pred),0)\n",
    "                flat_targets = torch.flatten(targets).cpu()\n",
    "                flat_predicted = torch.flatten(predicted).cpu()\n",
    "            results[f'{i}']['testRes'] = {'targets' : flat_targets, 'predicted' : flat_predicted}\n",
    "    return results\n",
    "# Plotting\n",
    "#             flat_targets = torch.flatten(targets).cpu()\n",
    "#             flat_predicted = torch.flatten(predicted).cpu()\n",
    "#             plt.plot(flat_targets, label='Targets',linestyle=\"\",marker=\"o\")\n",
    "#             plt.plot(flat_predicted, label='Predicted',linestyle=\"\",marker=\"x\")\n",
    "#             for i, val in enumerate(flat_predicted):\n",
    "#                 plt.plot((i,i),(val,flat_targets[i]) ,c='black')\n",
    "#             plt.legend()\n",
    "#             plt.show()\n",
    "#             return flat_predicted, flat_targets\n"
   ]
  },
  {
   "cell_type": "code",
   "execution_count": null,
   "metadata": {},
   "outputs": [],
   "source": [
    "        \n",
    "path = 'result_models/lstm_imputed_nometa/'\n",
    "files = []\n",
    "for i in os.listdir(path):\n",
    "    if os.path.isfile(os.path.join(path,i)):\n",
    "        files.append(os.path.join(path,i)) \n",
    "loadedModels = []\n",
    "for file in files:\n",
    "    lstmModel = NeuralNet(\n",
    "                module=LSTMModel,\n",
    "                module__inputDim = 6,\n",
    "                module__hiddenDim = 121,\n",
    "                module__seqLength = 121,\n",
    "                module__numLayers = numLayers,\n",
    "                module__batch_size=batchSize,\n",
    "                batch_size=batchSize,\n",
    "                criterion=torch.nn.L1Loss,\n",
    "                optimizer=torch.optim.Adam,\n",
    "                max_epochs=500,\n",
    "                lr = learnRate,\n",
    "                device='cuda',\n",
    "                iterator_train__shuffle=True,\n",
    "                iterator_train__drop_last=True,\n",
    "                iterator_valid__drop_last=True,\n",
    "                train_split=predefined_split(validation_dataset),\n",
    "                 callbacks=[\n",
    "                    HiddenStateResetter(),\n",
    "                    EarlyStoppingWaiter(),\n",
    "                    EarlyStopping(patience=100)\n",
    "                ]\n",
    "            )    \n",
    "    lstmModel.initialize()  # This is important!\n",
    "    lstmModel.load_params(f_params=file)\n",
    "    loadedModels.append(lstmModel)\n",
    "\n",
    "results = evaluate_performance(loadedModels, train_dataset, validation_dataset, test_dataset)"
   ]
  },
  {
   "cell_type": "code",
   "execution_count": null,
   "metadata": {},
   "outputs": [],
   "source": [
    "from sklearn.metrics import mean_squared_error, mean_absolute_error"
   ]
  },
  {
   "cell_type": "code",
   "execution_count": null,
   "metadata": {},
   "outputs": [],
   "source": [
    "# trainRes = []\n",
    "# valRes = []\n",
    "# testRes []\n",
    "trainRMSE = []\n",
    "valRMSE = []\n",
    "testRMSE = []\n",
    "trainMAE = []\n",
    "valMAE = []\n",
    "testMAE = []\n",
    "for modelNum in results:\n",
    "    trainRMSE.append(mean_squared_error(results[modelNum]['trainRes']['targets'], results[modelNum]['trainRes']['predicted']))\n",
    "    valRMSE.append(mean_squared_error(results[modelNum]['valRes']['targets'], results[modelNum]['valRes']['predicted']))\n",
    "    testRMSE.append(mean_squared_error(results[modelNum]['testRes']['targets'], results[modelNum]['testRes']['predicted']))\n",
    "    trainMAE.append(mean_absolute_error(results[modelNum]['trainRes']['targets'], results[modelNum]['trainRes']['predicted']))\n",
    "    valMAE.append(mean_absolute_error(results[modelNum]['valRes']['targets'], results[modelNum]['valRes']['predicted']))\n",
    "    testMAE.append(mean_absolute_error(results[modelNum]['testRes']['targets'], results[modelNum]['testRes']['predicted']))\n",
    "trainRMSE = np.sqrt(trainRMSE)\n",
    "print(trainRMSE)\n",
    "valRMSE = np.sqrt(valRMSE)\n",
    "testRMSE = np.sqrt(testRMSE)\n",
    "print(\"RMSE\")\n",
    "print(\"TrainRes: \", np.round(np.mean(trainRMSE), 2), \" +- \", np.round(np.std(trainRMSE),2))\n",
    "print(\"ValRes: \", np.round(np.mean(valRMSE), 2), \" +- \", np.round(np.std(valRMSE),2))\n",
    "print(\"TestRes: \", np.round(np.mean(testRMSE), 2), \" +- \", np.round(np.std(testRMSE),2))\n",
    "print(\"MAE\")\n",
    "print(\"TrainRes: \", np.round(np.mean(trainMAE), 2), \" +- \", np.round(np.std(trainMAE),2))\n",
    "print(\"ValRes: \", np.round(np.mean(valMAE), 2), \" +- \", np.round(np.std(valMAE),2))\n",
    "print(\"TestRes: \", np.round(np.mean(testMAE), 2), \" +- \", np.round(np.std(testMAE),2))\n",
    "\n",
    "# \n",
    "# r_square = r2_score(targetlist, predlist)"
   ]
  },
  {
   "cell_type": "code",
   "execution_count": null,
   "metadata": {},
   "outputs": [],
   "source": [
    "predlist, targetlist = evaluate_performance(model)\n",
    "\n",
    "# print(predlist)\n",
    "# print(targetlist)\n",
    "plt.bar([i for i, x in enumerate(predlist) ],abs(predlist-targetlist))\n",
    "print(\"Mean Squared Error :\",mse)\n",
    "print(\"R^2 :\",r_square)"
   ]
  },
  {
   "cell_type": "code",
   "execution_count": null,
   "metadata": {},
   "outputs": [],
   "source": [
    "l = lstmModel.history[:, 'train_loss']\n",
    "v = lstmModel.history[:, 'valid_loss']\n",
    "plt.clf()\n",
    "plt.plot([i for i in range(len(l))], l, label='Train loss')\n",
    "plt.plot([i for i in range(len(v))], v,  label='Valid loss')\n",
    "plt.legend()\n",
    "plt.show()"
   ]
  },
  {
   "cell_type": "markdown",
   "metadata": {},
   "source": [
    "# Convolutional Neural Network"
   ]
  },
  {
   "cell_type": "code",
   "execution_count": 150,
   "metadata": {},
   "outputs": [],
   "source": [
    "class TimeSeriesCNN(nn.Module):\n",
    "    def __init__(self, kernel_size, outChan):\n",
    "        super(TimeSeriesCNN, self).__init__()\n",
    "        self.magicNumber = 48\n",
    "        self.outChan = outChan\n",
    "        self.conv1 = nn.Conv2d(in_channels=1, out_channels=outChan, kernel_size=kernel_size)\n",
    "        self.relu1 = nn.ReLU()\n",
    "        self.pool1 = nn.MaxPool2d(kernel_size=(1,2))\n",
    "        self.relu2 = nn.ReLU()\n",
    "        self.fc1 = nn.Linear(outChan*self.magicNumber, 1)\n",
    "#         self.fc2 = nn.Linear(1000, 10)\n",
    "        \n",
    "    def forward(self, t):\n",
    "        t = self.relu1(self.conv1(t)) \n",
    "        t = self.pool1(t)\n",
    "#         print(t.shape)\n",
    "        t = t.view(-1, self.outChan*self.magicNumber)\n",
    "        t = self.fc1(t)\n",
    "        t = self.relu2(t)\n",
    "        return t.view(-1)\n"
   ]
  },
  {
   "cell_type": "code",
   "execution_count": 152,
   "metadata": {
    "scrolled": true
   },
   "outputs": [
    {
     "data": {
      "text/plain": [
       "tensor([0.0000, 0.0000, 0.0000, 0.0000, 0.0000, 0.0255, 0.0000, 0.0000, 0.0786,\n",
       "        0.0000, 0.0000, 0.0000, 0.0000, 0.0000, 0.0000, 0.0000, 0.0000, 0.0000,\n",
       "        0.0000, 0.0000, 0.0000, 0.0243, 0.0000, 0.0000, 0.0000, 0.0000, 0.0000,\n",
       "        0.0000, 0.0000, 0.0000, 0.0000, 0.0000, 0.0000, 0.0000, 0.0000, 0.0458,\n",
       "        0.0000, 0.0000, 0.0000, 0.0000, 0.0000, 0.0000, 0.0000, 0.0000, 0.0000,\n",
       "        0.1859, 0.2168, 0.0000, 0.1133, 0.0000, 0.0000, 0.3016, 0.0000, 0.0974,\n",
       "        0.0000, 0.0000, 0.0000, 0.0000, 0.0000, 0.0000, 0.0000, 0.0000, 0.0000,\n",
       "        0.0000, 0.1208, 0.3030, 0.0000, 0.0000, 0.0000, 0.0000, 0.0000, 0.0000,\n",
       "        0.1739, 0.0000, 0.0000, 0.0279, 0.0000, 0.0000, 0.0000, 0.0000, 0.0000,\n",
       "        0.0472, 0.0000, 0.0000, 0.0000, 0.0000, 0.0000, 0.0000, 0.0000, 0.0000,\n",
       "        0.0000, 0.0000, 0.1806, 0.0000, 0.0000, 0.0000, 0.0000, 0.0000, 0.0000,\n",
       "        0.3868], grad_fn=<ViewBackward>)"
      ]
     },
     "execution_count": 152,
     "metadata": {},
     "output_type": "execute_result"
    }
   ],
   "source": [
    "batch_size = 100\n",
    "channels = 1\n",
    "height = 6\n",
    "length = 121\n",
    "kernel_size = (height, 25)\n",
    "\n",
    "cnn = TimeSeriesCNN(kernel_size, 200)\n",
    "# train_dataset[0][0].shape\n",
    "x = torch.randn(batch_size, channels, height, length)\n",
    "cnn(x)\n",
    "# print(x.shape)\n",
    "# print(torch.unsqueeze(x, 1).shape)\n",
    "# res = cnn(x)\n",
    "# print(res)"
   ]
  },
  {
   "cell_type": "code",
   "execution_count": 94,
   "metadata": {},
   "outputs": [],
   "source": [
    "experimentList = []"
   ]
  },
  {
   "cell_type": "code",
   "execution_count": 139,
   "metadata": {
    "scrolled": true
   },
   "outputs": [
    {
     "name": "stdout",
     "output_type": "stream",
     "text": [
      "  epoch    train_loss    valid_loss     dur\n",
      "-------  ------------  ------------  ------\n",
      "      1       \u001b[36m31.5207\u001b[0m       \u001b[32m25.8403\u001b[0m  2.7361\n",
      "      2       \u001b[36m24.0617\u001b[0m       \u001b[32m25.1247\u001b[0m  1.6825\n",
      "      3       \u001b[36m23.4708\u001b[0m       \u001b[32m24.4144\u001b[0m  1.6325\n",
      "      4       \u001b[36m22.8964\u001b[0m       \u001b[32m23.8594\u001b[0m  1.6555\n",
      "      5       \u001b[36m22.5211\u001b[0m       \u001b[32m23.5858\u001b[0m  1.6315\n",
      "      6       \u001b[36m22.3131\u001b[0m       \u001b[32m23.3442\u001b[0m  1.6385\n",
      "      7       \u001b[36m22.1744\u001b[0m       \u001b[32m23.2138\u001b[0m  1.6255\n",
      "      8       \u001b[36m22.0456\u001b[0m       \u001b[32m23.1657\u001b[0m  1.6505\n",
      "      9       \u001b[36m21.9313\u001b[0m       \u001b[32m22.9768\u001b[0m  1.6405\n",
      "     10       \u001b[36m21.8125\u001b[0m       \u001b[32m22.8707\u001b[0m  1.6425\n",
      "     11       \u001b[36m21.7375\u001b[0m       \u001b[32m22.7863\u001b[0m  1.6435\n",
      "     12       \u001b[36m21.6166\u001b[0m       \u001b[32m22.6837\u001b[0m  1.6455\n",
      "     13       \u001b[36m21.5127\u001b[0m       \u001b[32m22.6158\u001b[0m  1.6355\n",
      "     14       \u001b[36m21.4494\u001b[0m       \u001b[32m22.5398\u001b[0m  1.6495\n",
      "     15       \u001b[36m21.3577\u001b[0m       \u001b[32m22.5251\u001b[0m  1.6345\n",
      "     16       \u001b[36m21.2886\u001b[0m       \u001b[32m22.3881\u001b[0m  1.6325\n",
      "     17       \u001b[36m21.2284\u001b[0m       \u001b[32m22.3683\u001b[0m  1.6375\n",
      "     18       \u001b[36m21.1495\u001b[0m       \u001b[32m22.3146\u001b[0m  1.6385\n",
      "     19       \u001b[36m21.0896\u001b[0m       \u001b[32m22.2368\u001b[0m  1.6435\n",
      "     20       \u001b[36m20.9983\u001b[0m       \u001b[32m22.1559\u001b[0m  1.6475\n",
      "     21       \u001b[36m20.9354\u001b[0m       \u001b[32m22.1473\u001b[0m  1.6545\n",
      "     22       \u001b[36m20.8626\u001b[0m       \u001b[32m22.0576\u001b[0m  1.6235\n",
      "     23       \u001b[36m20.7824\u001b[0m       \u001b[32m21.9932\u001b[0m  1.6305\n",
      "     24       \u001b[36m20.7136\u001b[0m       22.0056  1.6295\n",
      "     25       \u001b[36m20.6621\u001b[0m       \u001b[32m21.9073\u001b[0m  1.6345\n",
      "     26       \u001b[36m20.5863\u001b[0m       \u001b[32m21.8883\u001b[0m  1.6425\n",
      "     27       \u001b[36m20.5223\u001b[0m       \u001b[32m21.8460\u001b[0m  1.6515\n",
      "     28       \u001b[36m20.4644\u001b[0m       \u001b[32m21.7650\u001b[0m  1.6175\n",
      "     29       \u001b[36m20.3859\u001b[0m       \u001b[32m21.7315\u001b[0m  1.6285\n",
      "     30       \u001b[36m20.3512\u001b[0m       \u001b[32m21.6787\u001b[0m  1.6295\n",
      "     31       \u001b[36m20.2622\u001b[0m       \u001b[32m21.6470\u001b[0m  1.6305\n",
      "     32       \u001b[36m20.2225\u001b[0m       \u001b[32m21.6074\u001b[0m  1.6485\n",
      "     33       \u001b[36m20.1464\u001b[0m       \u001b[32m21.5626\u001b[0m  1.6465\n",
      "     34       \u001b[36m20.1004\u001b[0m       \u001b[32m21.5472\u001b[0m  1.6575\n",
      "     35       \u001b[36m20.0462\u001b[0m       \u001b[32m21.4717\u001b[0m  1.6375\n",
      "     36       \u001b[36m19.9811\u001b[0m       \u001b[32m21.4445\u001b[0m  1.6325\n",
      "     37       \u001b[36m19.9343\u001b[0m       21.5283  1.6295\n",
      "     38       \u001b[36m19.8854\u001b[0m       \u001b[32m21.3581\u001b[0m  1.6455\n",
      "     39       \u001b[36m19.8209\u001b[0m       \u001b[32m21.3375\u001b[0m  1.6475\n",
      "     40       \u001b[36m19.7626\u001b[0m       \u001b[32m21.2930\u001b[0m  1.7255\n",
      "     41       \u001b[36m19.7270\u001b[0m       \u001b[32m21.2245\u001b[0m  1.6625\n",
      "     42       \u001b[36m19.6473\u001b[0m       \u001b[32m21.1946\u001b[0m  1.6505\n",
      "     43       \u001b[36m19.6200\u001b[0m       21.3911  1.6485\n",
      "     44       \u001b[36m19.5827\u001b[0m       \u001b[32m21.1522\u001b[0m  2.5102\n",
      "     45       \u001b[36m19.5356\u001b[0m       \u001b[32m21.1123\u001b[0m  1.8114\n",
      "     46       \u001b[36m19.4701\u001b[0m       21.1124  1.6475\n",
      "     47       \u001b[36m19.4512\u001b[0m       \u001b[32m21.0919\u001b[0m  1.6395\n",
      "     48       \u001b[36m19.3818\u001b[0m       \u001b[32m21.0579\u001b[0m  1.6205\n",
      "     49       \u001b[36m19.3518\u001b[0m       \u001b[32m20.9702\u001b[0m  1.6255\n",
      "     50       \u001b[36m19.3327\u001b[0m       \u001b[32m20.9695\u001b[0m  1.6405\n",
      "     51       \u001b[36m19.2543\u001b[0m       \u001b[32m20.9040\u001b[0m  1.6435\n",
      "     52       \u001b[36m19.2141\u001b[0m       \u001b[32m20.8879\u001b[0m  1.6205\n",
      "     53       \u001b[36m19.1918\u001b[0m       \u001b[32m20.8774\u001b[0m  1.6535\n",
      "     54       \u001b[36m19.1518\u001b[0m       \u001b[32m20.8624\u001b[0m  1.6355\n",
      "     55       \u001b[36m19.0809\u001b[0m       \u001b[32m20.8306\u001b[0m  1.6355\n",
      "     56       \u001b[36m19.0552\u001b[0m       20.8750  1.6315\n",
      "     57       \u001b[36m19.0154\u001b[0m       20.9139  1.6345\n",
      "     58       \u001b[36m18.9864\u001b[0m       20.8373  1.6335\n",
      "     59       \u001b[36m18.9461\u001b[0m       \u001b[32m20.7829\u001b[0m  1.6415\n",
      "     60       \u001b[36m18.9054\u001b[0m       20.7911  1.6235\n",
      "     61       \u001b[36m18.8646\u001b[0m       \u001b[32m20.7002\u001b[0m  1.6595\n",
      "     62       \u001b[36m18.8476\u001b[0m       20.7244  1.6425\n",
      "     63       \u001b[36m18.8016\u001b[0m       \u001b[32m20.6697\u001b[0m  1.6645\n",
      "     64       \u001b[36m18.7489\u001b[0m       \u001b[32m20.5965\u001b[0m  1.6365\n",
      "     65       \u001b[36m18.7065\u001b[0m       \u001b[32m20.5728\u001b[0m  1.6285\n",
      "     66       \u001b[36m18.6939\u001b[0m       20.5810  1.6255\n",
      "     67       \u001b[36m18.6340\u001b[0m       \u001b[32m20.5375\u001b[0m  1.6415\n",
      "     68       18.6364       \u001b[32m20.5305\u001b[0m  1.6565\n",
      "     69       \u001b[36m18.5897\u001b[0m       \u001b[32m20.5022\u001b[0m  1.6475\n",
      "     70       \u001b[36m18.5529\u001b[0m       \u001b[32m20.4867\u001b[0m  1.6445\n",
      "     71       \u001b[36m18.5195\u001b[0m       \u001b[32m20.4648\u001b[0m  1.6395\n",
      "     72       \u001b[36m18.4563\u001b[0m       \u001b[32m20.4543\u001b[0m  1.6485\n",
      "     73       \u001b[36m18.4246\u001b[0m       \u001b[32m20.4331\u001b[0m  1.6465\n",
      "     74       \u001b[36m18.4096\u001b[0m       \u001b[32m20.3898\u001b[0m  1.6355\n",
      "     75       \u001b[36m18.3813\u001b[0m       \u001b[32m20.3876\u001b[0m  1.6365\n",
      "     76       \u001b[36m18.3351\u001b[0m       \u001b[32m20.3490\u001b[0m  1.7944\n",
      "     77       \u001b[36m18.3133\u001b[0m       20.3878  1.9294\n",
      "     78       \u001b[36m18.2919\u001b[0m       \u001b[32m20.3282\u001b[0m  1.8834\n",
      "     79       \u001b[36m18.2275\u001b[0m       \u001b[32m20.3157\u001b[0m  2.0893\n",
      "     80       \u001b[36m18.2257\u001b[0m       \u001b[32m20.2918\u001b[0m  1.7115\n",
      "     81       \u001b[36m18.1993\u001b[0m       \u001b[32m20.2581\u001b[0m  1.7814\n",
      "     82       \u001b[36m18.1621\u001b[0m       \u001b[32m20.2516\u001b[0m  1.7934\n",
      "     83       \u001b[36m18.1200\u001b[0m       \u001b[32m20.2257\u001b[0m  1.7924\n",
      "     84       \u001b[36m18.0918\u001b[0m       20.2584  2.1393\n",
      "     85       \u001b[36m18.0546\u001b[0m       20.2484  1.8254\n",
      "     86       \u001b[36m18.0290\u001b[0m       \u001b[32m20.2174\u001b[0m  1.7686\n",
      "     87       \u001b[36m17.9860\u001b[0m       \u001b[32m20.1776\u001b[0m  1.7624\n",
      "     88       \u001b[36m17.9768\u001b[0m       20.1913  1.7575\n",
      "     89       \u001b[36m17.9190\u001b[0m       \u001b[32m20.1397\u001b[0m  1.7781\n",
      "     90       \u001b[36m17.9038\u001b[0m       \u001b[32m20.1168\u001b[0m  1.7551\n",
      "     91       \u001b[36m17.8950\u001b[0m       20.1500  1.7594\n",
      "     92       \u001b[36m17.8277\u001b[0m       20.1224  1.7770\n",
      "     93       \u001b[36m17.8055\u001b[0m       \u001b[32m20.0663\u001b[0m  1.7908\n",
      "     94       \u001b[36m17.7886\u001b[0m       20.1098  1.7390\n",
      "     95       \u001b[36m17.7831\u001b[0m       \u001b[32m20.0629\u001b[0m  1.7855\n",
      "     96       \u001b[36m17.7374\u001b[0m       \u001b[32m20.0204\u001b[0m  1.7602\n",
      "     97       \u001b[36m17.6949\u001b[0m       20.0930  1.7574\n",
      "     98       \u001b[36m17.6703\u001b[0m       20.0283  1.7841\n",
      "     99       \u001b[36m17.6156\u001b[0m       20.0582  1.7745\n",
      "    100       17.6207       \u001b[32m19.9880\u001b[0m  1.7679\n",
      "    101       \u001b[36m17.5646\u001b[0m       \u001b[32m19.9637\u001b[0m  1.7479\n",
      "    102       \u001b[36m17.5187\u001b[0m       19.9825  1.7686\n",
      "    103       \u001b[36m17.5165\u001b[0m       \u001b[32m19.9405\u001b[0m  1.8989\n",
      "    104       \u001b[36m17.4957\u001b[0m       \u001b[32m19.9277\u001b[0m  1.7614\n",
      "    105       \u001b[36m17.4568\u001b[0m       \u001b[32m19.9166\u001b[0m  1.7673\n",
      "    106       \u001b[36m17.4363\u001b[0m       19.9863  1.7783\n",
      "    107       \u001b[36m17.3783\u001b[0m       \u001b[32m19.9142\u001b[0m  1.8019\n",
      "    108       \u001b[36m17.3466\u001b[0m       \u001b[32m19.8558\u001b[0m  3.5659\n",
      "    109       17.3587       19.8770  1.8104\n",
      "    110       \u001b[36m17.2892\u001b[0m       19.8629  1.6715\n",
      "    111       17.2896       \u001b[32m19.8125\u001b[0m  1.6835\n",
      "    112       \u001b[36m17.2878\u001b[0m       19.8269  1.6935\n",
      "    113       \u001b[36m17.2266\u001b[0m       19.8791  1.7464\n",
      "    114       \u001b[36m17.2112\u001b[0m       \u001b[32m19.7840\u001b[0m  2.4634\n",
      "    115       \u001b[36m17.1955\u001b[0m       \u001b[32m19.7528\u001b[0m  2.0873\n",
      "    116       \u001b[36m17.1761\u001b[0m       19.9065  1.9854\n",
      "    117       \u001b[36m17.1411\u001b[0m       \u001b[32m19.6819\u001b[0m  1.9567\n",
      "    118       \u001b[36m17.1032\u001b[0m       19.7752  1.9770\n",
      "    119       \u001b[36m17.0742\u001b[0m       19.6916  1.9549\n",
      "    120       \u001b[36m17.0504\u001b[0m       19.6932  1.9640\n",
      "    121       \u001b[36m17.0079\u001b[0m       19.6889  1.9471\n",
      "    122       \u001b[36m16.9731\u001b[0m       19.6905  1.9327\n",
      "    123       \u001b[36m16.9595\u001b[0m       19.6821  1.9034\n",
      "    124       \u001b[36m16.9374\u001b[0m       \u001b[32m19.6797\u001b[0m  1.9427\n",
      "    125       \u001b[36m16.9213\u001b[0m       \u001b[32m19.6120\u001b[0m  1.9707\n",
      "    126       \u001b[36m16.8985\u001b[0m       \u001b[32m19.6099\u001b[0m  1.9318\n",
      "    127       \u001b[36m16.8637\u001b[0m       19.6473  1.9817\n",
      "    128       \u001b[36m16.8481\u001b[0m       \u001b[32m19.5989\u001b[0m  1.9758\n",
      "    129       \u001b[36m16.8329\u001b[0m       19.6152  1.9881\n",
      "    130       \u001b[36m16.8083\u001b[0m       \u001b[32m19.5414\u001b[0m  1.9150\n",
      "    131       \u001b[36m16.7727\u001b[0m       19.6082  1.9248\n",
      "    132       \u001b[36m16.7397\u001b[0m       19.6867  1.9264\n",
      "    133       \u001b[36m16.7185\u001b[0m       \u001b[32m19.4965\u001b[0m  1.9331\n",
      "    134       \u001b[36m16.7085\u001b[0m       19.6282  1.8890\n",
      "    135       \u001b[36m16.6579\u001b[0m       19.5312  1.9414\n",
      "    136       \u001b[36m16.6235\u001b[0m       \u001b[32m19.4488\u001b[0m  1.9354\n",
      "    137       \u001b[36m16.6142\u001b[0m       19.4737  1.9231\n",
      "    138       \u001b[36m16.5979\u001b[0m       19.5293  1.9253\n"
     ]
    },
    {
     "name": "stdout",
     "output_type": "stream",
     "text": [
      "    139       \u001b[36m16.5787\u001b[0m       \u001b[32m19.4290\u001b[0m  1.8989\n",
      "    140       \u001b[36m16.5415\u001b[0m       19.4530  1.8824\n",
      "    141       \u001b[36m16.5096\u001b[0m       19.4728  1.8831\n",
      "    142       \u001b[36m16.4860\u001b[0m       19.5276  1.9709\n",
      "    143       \u001b[36m16.4660\u001b[0m       \u001b[32m19.3796\u001b[0m  1.9244\n",
      "    144       \u001b[36m16.4239\u001b[0m       19.4303  1.9269\n",
      "    145       \u001b[36m16.3951\u001b[0m       19.3928  1.9549\n",
      "    146       \u001b[36m16.3738\u001b[0m       19.3930  2.0029\n",
      "    147       \u001b[36m16.3550\u001b[0m       19.4404  1.9110\n",
      "    148       \u001b[36m16.3156\u001b[0m       19.4096  1.9350\n",
      "    149       \u001b[36m16.2993\u001b[0m       \u001b[32m19.3605\u001b[0m  1.8670\n",
      "    150       \u001b[36m16.2881\u001b[0m       19.3612  1.9835\n",
      "    151       \u001b[36m16.2420\u001b[0m       \u001b[32m19.3352\u001b[0m  1.9329\n",
      "    152       \u001b[36m16.2302\u001b[0m       19.3364  1.9089\n",
      "    153       \u001b[36m16.1983\u001b[0m       \u001b[32m19.2823\u001b[0m  1.9620\n",
      "    154       \u001b[36m16.1435\u001b[0m       19.3053  1.9422\n",
      "    155       \u001b[36m16.1423\u001b[0m       \u001b[32m19.2741\u001b[0m  1.9738\n",
      "    156       \u001b[36m16.1238\u001b[0m       19.3557  1.9540\n",
      "    157       16.1245       \u001b[32m19.2386\u001b[0m  1.9654\n",
      "    158       \u001b[36m16.0871\u001b[0m       19.3041  1.9462\n",
      "    159       \u001b[36m16.0540\u001b[0m       19.3000  3.6826\n",
      "    160       16.0730       \u001b[32m19.2165\u001b[0m  1.8905\n",
      "    161       \u001b[36m16.0104\u001b[0m       19.2596  1.9341\n",
      "    162       \u001b[36m15.9873\u001b[0m       \u001b[32m19.1874\u001b[0m  1.9800\n",
      "    163       15.9916       19.2568  1.9146\n",
      "    164       \u001b[36m15.9423\u001b[0m       19.1929  1.9870\n",
      "    165       \u001b[36m15.9019\u001b[0m       \u001b[32m19.1443\u001b[0m  1.9701\n",
      "    166       15.9050       \u001b[32m19.1301\u001b[0m  1.9200\n",
      "    167       \u001b[36m15.8925\u001b[0m       19.1945  1.9349\n",
      "    168       \u001b[36m15.8592\u001b[0m       19.1929  1.9514\n",
      "    169       \u001b[36m15.7953\u001b[0m       19.1647  1.9040\n",
      "    170       15.8281       19.1507  1.9579\n",
      "    171       \u001b[36m15.7846\u001b[0m       \u001b[32m19.0863\u001b[0m  1.9400\n",
      "    172       \u001b[36m15.7688\u001b[0m       19.1556  1.9350\n",
      "    173       \u001b[36m15.7340\u001b[0m       19.0922  1.9420\n",
      "    174       15.7346       19.1028  1.9009\n",
      "    175       \u001b[36m15.6967\u001b[0m       19.1335  1.9001\n",
      "    176       \u001b[36m15.6756\u001b[0m       \u001b[32m19.0377\u001b[0m  1.9330\n",
      "    177       \u001b[36m15.6519\u001b[0m       19.0532  1.9120\n",
      "    178       \u001b[36m15.6390\u001b[0m       19.0790  1.9759\n",
      "    179       \u001b[36m15.6070\u001b[0m       19.2028  1.9314\n",
      "    180       \u001b[36m15.5793\u001b[0m       \u001b[32m19.0312\u001b[0m  1.9250\n",
      "    181       \u001b[36m15.5550\u001b[0m       19.0406  1.9459\n",
      "    182       \u001b[36m15.5200\u001b[0m       19.0502  1.9370\n",
      "    183       15.5227       19.0961  1.9571\n",
      "    184       \u001b[36m15.4482\u001b[0m       \u001b[32m19.0240\u001b[0m  1.8850\n",
      "    185       15.4760       \u001b[32m19.0015\u001b[0m  1.9250\n",
      "    186       \u001b[36m15.4450\u001b[0m       \u001b[32m18.9744\u001b[0m  1.9080\n",
      "    187       \u001b[36m15.4168\u001b[0m       19.0150  1.9124\n",
      "    188       15.4175       \u001b[32m18.9645\u001b[0m  2.0170\n",
      "    189       \u001b[36m15.3906\u001b[0m       \u001b[32m18.9556\u001b[0m  2.0300\n",
      "    190       \u001b[36m15.3671\u001b[0m       \u001b[32m18.9471\u001b[0m  1.9634\n",
      "    191       \u001b[36m15.3391\u001b[0m       18.9675  2.0151\n",
      "    192       \u001b[36m15.3193\u001b[0m       18.9784  1.9840\n",
      "    193       \u001b[36m15.2671\u001b[0m       18.9569  1.9310\n",
      "    194       15.2790       \u001b[32m18.9423\u001b[0m  2.0179\n",
      "    195       \u001b[36m15.2295\u001b[0m       18.9592  1.9540\n",
      "    196       15.2377       \u001b[32m18.9393\u001b[0m  1.9659\n",
      "    197       \u001b[36m15.2214\u001b[0m       18.9621  1.9635\n",
      "    198       \u001b[36m15.2071\u001b[0m       19.0033  1.9492\n",
      "    199       \u001b[36m15.1827\u001b[0m       \u001b[32m18.8782\u001b[0m  1.9341\n",
      "    200       \u001b[36m15.1559\u001b[0m       18.9035  1.9120\n",
      "    201       \u001b[36m15.1436\u001b[0m       18.9193  1.9479\n",
      "    202       \u001b[36m15.0992\u001b[0m       18.8913  2.1110\n",
      "    203       \u001b[36m15.0902\u001b[0m       18.8930  1.9519\n",
      "    204       \u001b[36m15.0668\u001b[0m       \u001b[32m18.8717\u001b[0m  2.0664\n",
      "    205       \u001b[36m15.0486\u001b[0m       \u001b[32m18.8563\u001b[0m  1.9499\n",
      "    206       \u001b[36m15.0378\u001b[0m       18.8871  1.9259\n",
      "    207       \u001b[36m15.0104\u001b[0m       18.9269  2.4354\n",
      "    208       \u001b[36m14.9743\u001b[0m       \u001b[32m18.8554\u001b[0m  1.8719\n",
      "    209       \u001b[36m14.9710\u001b[0m       \u001b[32m18.8457\u001b[0m  1.9091\n",
      "    210       \u001b[36m14.9641\u001b[0m       \u001b[32m18.8393\u001b[0m  1.9233\n",
      "    211       \u001b[36m14.9282\u001b[0m       \u001b[32m18.8097\u001b[0m  1.9030\n",
      "    212       \u001b[36m14.8895\u001b[0m       18.8598  1.8715\n",
      "    213       \u001b[36m14.8647\u001b[0m       18.8280  1.9329\n",
      "    214       \u001b[36m14.8632\u001b[0m       \u001b[32m18.8029\u001b[0m  1.9221\n",
      "    215       \u001b[36m14.8454\u001b[0m       18.8506  2.0159\n",
      "    216       \u001b[36m14.8240\u001b[0m       18.8254  1.9669\n",
      "    217       \u001b[36m14.7967\u001b[0m       18.8188  1.9549\n",
      "    218       \u001b[36m14.7592\u001b[0m       18.8451  1.9510\n",
      "    219       14.7667       18.9095  2.0060\n",
      "    220       \u001b[36m14.7357\u001b[0m       \u001b[32m18.7981\u001b[0m  1.9290\n",
      "    221       \u001b[36m14.7273\u001b[0m       18.8035  1.8939\n",
      "    222       \u001b[36m14.6968\u001b[0m       \u001b[32m18.7656\u001b[0m  1.9320\n",
      "    223       \u001b[36m14.6880\u001b[0m       18.7832  2.0069\n",
      "    224       \u001b[36m14.6391\u001b[0m       \u001b[32m18.7406\u001b[0m  1.9640\n",
      "    225       14.6428       18.7538  1.9100\n",
      "    226       \u001b[36m14.6254\u001b[0m       18.7809  1.9934\n",
      "    227       \u001b[36m14.5923\u001b[0m       18.8301  1.9319\n",
      "    228       \u001b[36m14.5846\u001b[0m       \u001b[32m18.7205\u001b[0m  1.9460\n",
      "    229       \u001b[36m14.5699\u001b[0m       \u001b[32m18.7167\u001b[0m  1.9358\n",
      "    230       \u001b[36m14.5459\u001b[0m       \u001b[32m18.7118\u001b[0m  1.9425\n",
      "    231       \u001b[36m14.5255\u001b[0m       18.7235  1.9682\n",
      "    232       \u001b[36m14.5008\u001b[0m       18.7181  1.9530\n",
      "    233       \u001b[36m14.4722\u001b[0m       \u001b[32m18.7069\u001b[0m  1.9849\n",
      "    234       \u001b[36m14.4574\u001b[0m       18.7129  1.9089\n",
      "    235       \u001b[36m14.4284\u001b[0m       \u001b[32m18.6937\u001b[0m  1.9059\n",
      "    236       14.4369       18.7187  1.9449\n",
      "    237       \u001b[36m14.3993\u001b[0m       \u001b[32m18.6683\u001b[0m  1.9599\n",
      "    238       14.4007       18.7212  1.9640\n",
      "    239       \u001b[36m14.3818\u001b[0m       18.6715  1.9499\n",
      "    240       \u001b[36m14.3684\u001b[0m       18.6888  1.9779\n",
      "    241       \u001b[36m14.3441\u001b[0m       18.7145  2.0294\n",
      "    242       \u001b[36m14.3174\u001b[0m       \u001b[32m18.6410\u001b[0m  1.9629\n",
      "    243       \u001b[36m14.3052\u001b[0m       18.6526  1.9020\n",
      "    244       \u001b[36m14.2637\u001b[0m       18.6605  1.9351\n",
      "    245       14.2718       18.7233  1.9497\n",
      "    246       \u001b[36m14.2463\u001b[0m       18.7185  1.9981\n",
      "    247       \u001b[36m14.2447\u001b[0m       18.6826  1.8910\n",
      "    248       \u001b[36m14.1882\u001b[0m       18.6637  1.8670\n",
      "    249       \u001b[36m14.1697\u001b[0m       \u001b[32m18.6197\u001b[0m  1.9444\n",
      "    250       \u001b[36m14.1620\u001b[0m       \u001b[32m18.6189\u001b[0m  1.9970\n",
      "    251       \u001b[36m14.1542\u001b[0m       \u001b[32m18.6067\u001b[0m  1.9515\n",
      "    252       \u001b[36m14.1301\u001b[0m       18.6187  1.9849\n",
      "    253       \u001b[36m14.1282\u001b[0m       18.6564  3.8059\n",
      "    254       \u001b[36m14.0580\u001b[0m       18.6250  1.9344\n",
      "    255       \u001b[36m14.0539\u001b[0m       18.6361  1.9300\n",
      "    256       14.0561       \u001b[32m18.5832\u001b[0m  1.9479\n",
      "    257       \u001b[36m14.0347\u001b[0m       \u001b[32m18.5819\u001b[0m  1.9660\n",
      "    258       \u001b[36m13.9845\u001b[0m       18.5824  1.8590\n",
      "    259       \u001b[36m13.9829\u001b[0m       18.6205  1.8851\n",
      "    260       \u001b[36m13.9798\u001b[0m       \u001b[32m18.5704\u001b[0m  1.9540\n",
      "    261       \u001b[36m13.9661\u001b[0m       \u001b[32m18.5544\u001b[0m  1.9469\n",
      "    262       \u001b[36m13.9391\u001b[0m       \u001b[32m18.5244\u001b[0m  1.8840\n",
      "    263       13.9611       18.5565  1.9139\n",
      "    264       \u001b[36m13.8777\u001b[0m       18.6133  1.9769\n",
      "    265       13.9053       \u001b[32m18.5231\u001b[0m  1.9100\n",
      "    266       \u001b[36m13.8734\u001b[0m       18.5614  1.9410\n",
      "    267       13.8754       18.5281  1.9592\n",
      "    268       \u001b[36m13.8175\u001b[0m       \u001b[32m18.5106\u001b[0m  1.9231\n",
      "    269       \u001b[36m13.8057\u001b[0m       \u001b[32m18.5029\u001b[0m  1.9470\n",
      "    270       \u001b[36m13.7829\u001b[0m       \u001b[32m18.5004\u001b[0m  1.9409\n",
      "    271       \u001b[36m13.7812\u001b[0m       18.5196  1.9359\n",
      "    272       \u001b[36m13.7759\u001b[0m       18.5125  1.9810\n",
      "    273       \u001b[36m13.7509\u001b[0m       18.5191  1.9849\n",
      "    274       13.7562       \u001b[32m18.4814\u001b[0m  1.9910\n",
      "    275       \u001b[36m13.7181\u001b[0m       18.5488  1.9321\n",
      "    276       \u001b[36m13.6920\u001b[0m       18.4901  1.9309\n",
      "    277       13.6953       18.5140  1.9129\n",
      "    278       \u001b[36m13.6682\u001b[0m       \u001b[32m18.4757\u001b[0m  1.9435\n",
      "    279       \u001b[36m13.6413\u001b[0m       \u001b[32m18.4511\u001b[0m  1.9379\n",
      "    280       \u001b[36m13.6215\u001b[0m       18.5153  1.9669\n",
      "    281       \u001b[36m13.6031\u001b[0m       18.4698  1.8740\n",
      "    282       \u001b[36m13.5844\u001b[0m       18.5228  1.9539\n",
      "    283       \u001b[36m13.5382\u001b[0m       18.4755  1.8580\n",
      "    284       13.5544       18.4532  1.9259\n",
      "    285       \u001b[36m13.5247\u001b[0m       18.4820  1.9110\n",
      "    286       \u001b[36m13.5221\u001b[0m       18.4775  1.9359\n",
      "    287       \u001b[36m13.4950\u001b[0m       18.4545  1.9320\n",
      "    288       \u001b[36m13.4907\u001b[0m       \u001b[32m18.4206\u001b[0m  1.9539\n"
     ]
    },
    {
     "name": "stdout",
     "output_type": "stream",
     "text": [
      "    289       \u001b[36m13.4546\u001b[0m       18.4360  1.9211\n",
      "    290       13.4585       18.4368  1.9549\n",
      "    291       \u001b[36m13.4217\u001b[0m       18.4312  2.0006\n",
      "    292       13.4230       \u001b[32m18.3979\u001b[0m  1.9289\n",
      "    293       \u001b[36m13.3795\u001b[0m       18.4342  1.8740\n",
      "    294       13.3971       18.4169  2.0378\n",
      "    295       13.3802       18.4196  1.8760\n",
      "    296       \u001b[36m13.3534\u001b[0m       18.4002  1.8409\n",
      "    297       \u001b[36m13.3231\u001b[0m       \u001b[32m18.3915\u001b[0m  1.9181\n",
      "    298       \u001b[36m13.3192\u001b[0m       18.4459  2.0041\n",
      "    299       \u001b[36m13.2995\u001b[0m       \u001b[32m18.3850\u001b[0m  1.8961\n",
      "    300       \u001b[36m13.2945\u001b[0m       \u001b[32m18.3789\u001b[0m  1.9819\n",
      "    301       \u001b[36m13.2685\u001b[0m       18.3925  1.9480\n",
      "    302       \u001b[36m13.2261\u001b[0m       18.4326  1.9550\n",
      "    303       \u001b[36m13.2255\u001b[0m       18.4243  1.9590\n",
      "    304       \u001b[36m13.2119\u001b[0m       18.4411  1.9364\n",
      "    305       \u001b[36m13.1818\u001b[0m       \u001b[32m18.3730\u001b[0m  1.9257\n",
      "    306       \u001b[36m13.1596\u001b[0m       18.4095  1.9210\n",
      "    307       13.1775       \u001b[32m18.3527\u001b[0m  1.9810\n",
      "    308       \u001b[36m13.1526\u001b[0m       18.3918  1.9122\n",
      "    309       \u001b[36m13.1252\u001b[0m       18.3608  1.9782\n",
      "    310       13.1516       18.3627  1.9697\n",
      "    311       \u001b[36m13.0754\u001b[0m       18.3698  1.9509\n",
      "    312       \u001b[36m13.0612\u001b[0m       18.3805  1.9370\n",
      "    313       \u001b[36m13.0559\u001b[0m       \u001b[32m18.3526\u001b[0m  1.9320\n",
      "    314       \u001b[36m13.0471\u001b[0m       18.4202  2.5357\n",
      "    315       13.0583       \u001b[32m18.3450\u001b[0m  2.1310\n",
      "    316       \u001b[36m13.0230\u001b[0m       18.3665  1.9704\n",
      "    317       \u001b[36m12.9627\u001b[0m       \u001b[32m18.3377\u001b[0m  1.9410\n",
      "    318       12.9859       \u001b[32m18.3287\u001b[0m  1.9460\n",
      "    319       12.9694       \u001b[32m18.3161\u001b[0m  1.9301\n",
      "    320       12.9639       18.3300  1.9509\n",
      "    321       12.9643       18.3412  1.9749\n",
      "    322       \u001b[36m12.9482\u001b[0m       18.3314  1.9201\n",
      "    323       \u001b[36m12.9178\u001b[0m       18.3263  1.9170\n",
      "    324       \u001b[36m12.8966\u001b[0m       18.3162  1.9301\n",
      "    325       \u001b[36m12.8716\u001b[0m       \u001b[32m18.2930\u001b[0m  1.9699\n",
      "    326       \u001b[36m12.8643\u001b[0m       \u001b[32m18.2844\u001b[0m  1.9099\n",
      "    327       \u001b[36m12.8351\u001b[0m       18.3032  1.9722\n",
      "    328       12.8364       18.3564  1.9540\n",
      "    329       \u001b[36m12.8212\u001b[0m       18.3206  1.8372\n",
      "    330       \u001b[36m12.8084\u001b[0m       18.3160  1.8726\n",
      "    331       \u001b[36m12.8045\u001b[0m       18.3231  1.8382\n",
      "    332       \u001b[36m12.7794\u001b[0m       18.3052  1.9129\n",
      "    333       \u001b[36m12.7578\u001b[0m       18.3356  1.9003\n",
      "    334       \u001b[36m12.7538\u001b[0m       \u001b[32m18.2694\u001b[0m  1.9658\n",
      "    335       \u001b[36m12.7382\u001b[0m       18.3109  1.9437\n",
      "    336       \u001b[36m12.7100\u001b[0m       \u001b[32m18.2349\u001b[0m  2.0325\n",
      "    337       12.7120       18.3000  1.9479\n",
      "    338       \u001b[36m12.6899\u001b[0m       18.3049  1.9343\n",
      "    339       \u001b[36m12.6874\u001b[0m       18.2589  2.8987\n",
      "    340       \u001b[36m12.6514\u001b[0m       18.2894  1.9640\n",
      "    341       \u001b[36m12.6511\u001b[0m       18.3095  1.9780\n",
      "    342       \u001b[36m12.6266\u001b[0m       18.2787  1.9940\n",
      "    343       \u001b[36m12.5958\u001b[0m       18.2656  1.9730\n",
      "    344       \u001b[36m12.5894\u001b[0m       18.2739  1.9340\n",
      "    345       \u001b[36m12.5869\u001b[0m       18.2737  1.9594\n",
      "Stopping since valid_loss has not improved in the last 10 epochs.\n"
     ]
    },
    {
     "data": {
      "text/plain": [
       "<class 'skorch.net.NeuralNet'>[initialized](\n",
       "  module_=TimeSeriesCNN(\n",
       "    (conv1): Conv2d(1, 128, kernel_size=(6, 25), stride=(1, 1))\n",
       "    (relu1): ReLU()\n",
       "    (pool1): MaxPool2d(kernel_size=(1, 2), stride=(1, 2), padding=0, dilation=1, ceil_mode=False)\n",
       "    (relu2): ReLU()\n",
       "    (fc1): Linear(in_features=6144, out_features=1, bias=True)\n",
       "  ),\n",
       ")"
      ]
     },
     "execution_count": 139,
     "metadata": {},
     "output_type": "execute_result"
    }
   ],
   "source": [
    "    from skorch.helper import predefined_split\n",
    "outChannelList = [64, 128, 256, 512]\n",
    "for outChan in outChannelList:\n",
    "    cnnModel = NeuralNet(\n",
    "                module=TimeSeriesCNN,\n",
    "                module__kernel_size = (height, 25),\n",
    "                module__outChan = outChan\n",
    "                batch_size=32,\n",
    "                criterion=torch.nn.L1Loss,\n",
    "                optimizer=torch.optim.Adam,\n",
    "                max_epochs=500,\n",
    "                lr = 0.0001,\n",
    "                device='cuda',\n",
    "                iterator_train__shuffle=True,\n",
    "                iterator_train__drop_last=True,\n",
    "                iterator_valid__drop_last=True,\n",
    "                train_split=predefined_split(validation_dataset),\n",
    "                 callbacks=[\n",
    "    #                     EarlyStoppingWaiter(),\n",
    "                    EarlyStopping(patience=10)\n",
    "                ]\n",
    "            )\n",
    "    cnnModel.fit(train_dataset)"
   ]
  },
  {
   "cell_type": "code",
   "execution_count": 140,
   "metadata": {},
   "outputs": [],
   "source": [
    "l = cnnModel.history[:, 'train_loss']\n",
    "v = cnnModel.history[:, 'valid_loss']\n",
    "windowSize = 25\n",
    "experimentList.append({f\"run_cnn_loss_imputed_winSize{windowSize}\" : {'train' : l, 'val' : v} })\n",
    "cnnModel.save_params(f_params=f\"run_cnn_imputed_window{windowSize}.pkl\")\n"
   ]
  },
  {
   "cell_type": "code",
   "execution_count": 154,
   "metadata": {},
   "outputs": [],
   "source": [
    "import pickle\n",
    "with open('runs_cnn_imputed_windowtest_experimentlist_no_metadata.pkl', 'wb') as f:\n",
    "    pickle.dump(experimentList, f)"
   ]
  },
  {
   "cell_type": "code",
   "execution_count": 153,
   "metadata": {},
   "outputs": [
    {
     "data": {
      "image/png": "[encoded data removed]",
      "text/plain": [
       "<Figure size 432x288 with 1 Axes>"
      ]
     },
     "metadata": {
      "needs_background": "light"
     },
     "output_type": "display_data"
    }
   ],
   "source": [
    "for el in experimentList:\n",
    "    for k in el:\n",
    "#         print(k)\n",
    "#         print(el[k]['val'])\n",
    "        ind = k\n",
    "        k = k[-2:]\n",
    "        if k[0] == 'e':\n",
    "            k = k[1]\n",
    "        k= 'Kernel Width: ' + k\n",
    "#         k = 'L:' + k\n",
    "# #         k = k[:-3]\n",
    "#         k = k.replace('b_', 'B:')\n",
    "#         k = k.replace('n_', 'N:')\n",
    "#         k = k[-3:]\n",
    "        plt.plot(el[ind]['val'][:250], label = k)\n",
    "# plt.axvline(x=100, color='k', linestyle='--', label='Early Stopping')\n",
    "plt.legend()\n",
    "plt.ylabel('Validation Loss (MAE)')\n",
    "plt.xlabel('Epochs')\n",
    "plt.show()"
   ]
  },
  {
   "cell_type": "code",
   "execution_count": 85,
   "metadata": {},
   "outputs": [
    {
     "name": "stdout",
     "output_type": "stream",
     "text": [
      "tensor([106.3734], device='cuda:0', grad_fn=<ViewBackward>)\n",
      "tensor(46.6800)\n"
     ]
    }
   ],
   "source": [
    "x = 150\n",
    "p = cnnModel.infer(torch.unsqueeze(validation_dataset[x][0], 0))\n",
    "t = validation_dataset[x][1]\n",
    "print(p)\n",
    "print(t)#\n",
    "# train_dataset[0]"
   ]
  },
  {
   "cell_type": "code",
   "execution_count": null,
   "metadata": {
    "scrolled": true
   },
   "outputs": [],
   "source": [
    "# from sklearn.model_selection import GridSearchCV\n",
    "# from torch.utils.data.dataloader import default_collate\n",
    "\n",
    "# class SliceDatasetX(Dataset):\n",
    "#     \"\"\"Helper class that wraps a torch dataset to make it work with sklearn\"\"\"\n",
    "#     def __init__(self, dataset, collate_fn=default_collate):\n",
    "#         self.dataset = dataset\n",
    "#         self.collate_fn = collate_fn\n",
    "#         self._indices = list(range(len(self.dataset)))\n",
    "        \n",
    "#     def __len__(self):\n",
    "#         return len(self.dataset)\n",
    "        \n",
    "#     @property\n",
    "#     def shape(self):\n",
    "#         return len(self),\n",
    "    \n",
    "#     def __getitem__(self, i):\n",
    "#         if isinstance(i, (int, np.integer)):\n",
    "#             Xb = self.dataset[i][0]\n",
    "#             return Xb\n",
    "        \n",
    "#         if isinstance(i, slice):\n",
    "#             i = self._indices[i]\n",
    "\n",
    "#         Xb = self.collate_fn([self.dataset[j][0] for j in i])\n",
    "#         return Xb\n",
    "    \n",
    "# weather_dataset = WeatherDataset(dfCollection, dfCollectionTargets)\n",
    "# y_from_ds = np.asarray([weather_dataset[i][1] for i in range(len(weather_dataset))])\n",
    "# print(y_from_ds.shape)\n",
    "# ds_sliceable = SliceDatasetX(weather_dataset)\n",
    "# print(ds_sliceable.shape)\n",
    "# print(y_from_ds[0])\n"
   ]
  },
  {
   "cell_type": "code",
   "execution_count": null,
   "metadata": {},
   "outputs": [],
   "source": [
    "# params = {\n",
    "#     'lr': [0.01, 0.02],\n",
    "#     'max_epochs': [10, 20],\n",
    "# #     'module__num_units': [10, 20],\n",
    "# }\n",
    "\n",
    "# gs = GridSearchCV(lstmModel, params, refit=False, cv=3, scoring='neg_mean_absolute_error')\n",
    "# gs.fit(ds_sliceable, y_from_ds)\n",
    "# print(gs.best_score_, gs.best_params_)\n"
   ]
  },
  {
   "cell_type": "code",
   "execution_count": null,
   "metadata": {},
   "outputs": [],
   "source": [
    "# lstmModel.predict(weather_dataset.__getitem__(0))\n",
    "# l = lstmModel.history[:, 'train_loss']\n",
    "# v = lstmModel.history[:, 'valid_loss']\n",
    "# print(v)\n",
    "# plt.clf()\n",
    "# plt.plot([i for i in range(len(l))], l, label='Train loss')\n",
    "# plt.plot([i for i in range(len(v))], v,  label='Valid loss')\n",
    "# plt.legend()\n",
    "# plt.show()"
   ]
  },
  {
   "cell_type": "markdown",
   "metadata": {},
   "source": [
    "## Training"
   ]
  },
  {
   "cell_type": "code",
   "execution_count": null,
   "metadata": {},
   "outputs": [],
   "source": [
    "# batch_size = 32\n",
    "# num_epochs = 500\n",
    "# hidden_dimension = 121\n",
    "# num_layers = 2 #todo add multiple layers with dropout\n",
    "# lossesOverTime = []"
   ]
  },
  {
   "cell_type": "code",
   "execution_count": null,
   "metadata": {
    "scrolled": true
   },
   "outputs": [],
   "source": [
    "# weather_dataset = WeatherDataset(dfCollection, dfCollectionTargets)\n",
    "# data_loader = torch.utils.data.DataLoader(weather_dataset, batch_size=batch_size, shuffle=True, num_workers=0, drop_last=True)\n",
    "# model = LSTMModel(inputDim = 6, hiddenDim = hidden_dimension, seqLength = 121, numLayers = num_layers, batch_size=batch_size).cuda()\n",
    "# # hiddenState = model.get_initial_hidden_state(batch_size=batch_size)\n",
    "\n",
    "# loss_function = nn.L1Loss()\n",
    "# optimizer = torch.optim.Adam(model.parameters(), lr=1e-3)\n",
    "\n",
    "# for epoch in tqdm(range(num_epochs)):\n",
    "#     for i_batch, (x, y) in enumerate(data_loader):\n",
    "#         x = Variable(x.float()).cuda()\n",
    "#         y = Variable(y.float()).cuda()\n",
    "# #         out, hiddenState = model(x, hiddenState)\n",
    "#         model.reset_hidden_state() #batches are unrelated, and should have different states\n",
    "#         out = model(x)\n",
    "# #         hiddenState = repackage_hidden(hiddenState)        \n",
    "#         model.zero_grad()\n",
    "#         loss = loss_function(out, y)\n",
    "#         if i_batch % 50 == 0: \n",
    "#             print(f\"batch: {i_batch}, loss: {loss}\\n predicted: {out} target: {y}\")\n",
    "#         lossesOverTime.append(loss.item())\n",
    "#         loss.backward()\n",
    "#         optimizer.step()"
   ]
  },
  {
   "cell_type": "code",
   "execution_count": null,
   "metadata": {},
   "outputs": [],
   "source": [
    "# plt.plot(lossesOverTime)\n",
    "# plt.show()"
   ]
  },
  {
   "cell_type": "code",
   "execution_count": null,
   "metadata": {},
   "outputs": [],
   "source": [
    "# test_actual.head()"
   ]
  }
 ],
 "metadata": {
  "kernelspec": {
   "display_name": "Python 3",
   "language": "python",
   "name": "python3"
  },
  "language_info": {
   "codemirror_mode": {
    "name": "ipython",
    "version": 3
   },
   "file_extension": ".py",
   "mimetype": "text/x-python",
   "name": "python",
   "nbconvert_exporter": "python",
   "pygments_lexer": "ipython3",
   "version": "3.7.7"
  }
 },
 "nbformat": 4,
 "nbformat_minor": 4
}
