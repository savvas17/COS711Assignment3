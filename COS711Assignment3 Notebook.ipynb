{
 "cells": [
  {
   "cell_type": "markdown",
   "metadata": {},
   "source": [
    "# Imports and Flags\n",
    "The boolean flags here are important to determine what runs"
   ]
  },
  {
   "cell_type": "code",
   "execution_count": 1,
   "metadata": {},
   "outputs": [],
   "source": [
    "import pandas as pd \n",
    "import numpy as np \n",
    "from tqdm import tqdm\n",
    "import math\n",
    "import gc\n",
    "import os\n",
    "import matplotlib.pyplot as plt\n",
    "from sklearn.preprocessing import MinMaxScaler\n",
    "from sklearn.preprocessing import StandardScaler\n",
    "from skorch.helper import predefined_split\n",
    "\n",
    "isGoogleDrive = False\n",
    "shouldImputeData = False\n",
    "shouldRestoreImputer = False\n",
    "isUsingMetadata = True\n",
    "isUsingCNN = False\n",
    "if isGoogleDrive:\n",
    "    from google.colab import drive\n",
    "    drive.mount('/content/drive')\n",
    "else:\n",
    "    workingDirectory = r'E:\\Google Drive\\University 17215286\\Honours\\Semester 1\\COS 711 Artificial Intelligence II\\Assignments\\Assignment 3\\Code'\n",
    "    os.getcwd()\n",
    "    os.chdir(workingDirectory)\n",
    "    os.getcwd()\n",
    "    train=pd.read_csv(\"./data/Train.csv\")\n",
    "    test_no_labels=pd.read_csv(\"./data/Test.csv\")\n",
    "    metadata_station=pd.read_csv(\"./data/airqo_metadata.csv\")"
   ]
  },
  {
   "cell_type": "code",
   "execution_count": 2,
   "metadata": {},
   "outputs": [
    {
     "data": {
      "text/plain": [
       "<torch._C.Generator at 0x1f7bb8b18b0>"
      ]
     },
     "execution_count": 2,
     "metadata": {},
     "output_type": "execute_result"
    }
   ],
   "source": [
    "import torch\n",
    "import torch.nn as nn\n",
    "import torch.nn.functional as F\n",
    "import torch.optim as optim\n",
    "from torch.autograd import Variable\n",
    "from torch.utils.data import Dataset\n",
    "from sklearn.datasets import make_classification\n",
    "from skorch import NeuralNetClassifier\n",
    "torch.manual_seed(7)"
   ]
  },
  {
   "cell_type": "code",
   "execution_count": 3,
   "metadata": {},
   "outputs": [],
   "source": [
    "if isGoogleDrive:\n",
    "    train = pd.read_csv(\"/content/drive/My Drive/COS 711 Assignment 3/data/Train.csv\")\n",
    "    test_no_labels = pd.read_csv(\"/content/drive/My Drive/COS 711 Assignment 3/data/Test.csv\")\n",
    "    metadata_station=pd.read_csv(\"./data/airqo_metadata.csv\")"
   ]
  },
  {
   "cell_type": "code",
   "execution_count": 4,
   "metadata": {
    "scrolled": true
   },
   "outputs": [
    {
     "data": {
      "text/html": [
       "<div>\n",
       "<style scoped>\n",
       "    .dataframe tbody tr th:only-of-type {\n",
       "        vertical-align: middle;\n",
       "    }\n",
       "\n",
       "    .dataframe tbody tr th {\n",
       "        vertical-align: top;\n",
       "    }\n",
       "\n",
       "    .dataframe thead th {\n",
       "        text-align: right;\n",
       "    }\n",
       "</style>\n",
       "<table border=\"1\" class=\"dataframe\">\n",
       "  <thead>\n",
       "    <tr style=\"text-align: right;\">\n",
       "      <th></th>\n",
       "      <th>ID</th>\n",
       "      <th>location</th>\n",
       "      <th>temp</th>\n",
       "      <th>precip</th>\n",
       "      <th>rel_humidity</th>\n",
       "      <th>wind_dir</th>\n",
       "      <th>wind_spd</th>\n",
       "      <th>atmos_press</th>\n",
       "      <th>target</th>\n",
       "    </tr>\n",
       "  </thead>\n",
       "  <tbody>\n",
       "    <tr>\n",
       "      <th>0</th>\n",
       "      <td>ID_train_0</td>\n",
       "      <td>C</td>\n",
       "      <td>nan,nan,nan,nan,nan,nan,nan,nan,nan,nan,nan,na...</td>\n",
       "      <td>nan,nan,nan,nan,nan,nan,nan,nan,nan,nan,nan,na...</td>\n",
       "      <td>nan,nan,nan,nan,nan,nan,nan,nan,nan,nan,nan,na...</td>\n",
       "      <td>nan,nan,nan,nan,nan,nan,nan,nan,nan,nan,nan,na...</td>\n",
       "      <td>nan,nan,nan,nan,nan,nan,nan,nan,nan,nan,nan,na...</td>\n",
       "      <td>nan,nan,nan,nan,nan,nan,nan,nan,nan,nan,nan,na...</td>\n",
       "      <td>45.126304</td>\n",
       "    </tr>\n",
       "    <tr>\n",
       "      <th>1</th>\n",
       "      <td>ID_train_1</td>\n",
       "      <td>D</td>\n",
       "      <td>22.53333333,21.71666667,20.83333333,20.9833333...</td>\n",
       "      <td>0.102,0.0,0.0,0.0,0.0,0.0,0.0,0.034,0.017,0.01...</td>\n",
       "      <td>0.744583333,0.808083333,0.911166667,0.91633333...</td>\n",
       "      <td>281.6643101,89.15629262,81.96853891,291.018632...</td>\n",
       "      <td>2.3775,1.126666667,0.700833333,0.3416666670000...</td>\n",
       "      <td>90.32,90.3775,90.44083333,90.4725,90.45416667,...</td>\n",
       "      <td>79.131702</td>\n",
       "    </tr>\n",
       "    <tr>\n",
       "      <th>2</th>\n",
       "      <td>ID_train_10</td>\n",
       "      <td>A</td>\n",
       "      <td>28.975,27.95,29.6,26.425,22.09166667,21.775,22...</td>\n",
       "      <td>0.0,0.0,0.0,0.102,0.136,0.0,0.0,2.16,1.276,0.0...</td>\n",
       "      <td>0.573333333,0.597166667,0.5668333329999999,0.6...</td>\n",
       "      <td>nan,nan,nan,nan,nan,nan,nan,nan,nan,nan,nan,na...</td>\n",
       "      <td>nan,nan,nan,nan,nan,nan,nan,nan,nan,nan,nan,na...</td>\n",
       "      <td>88.55166667,88.46416667,88.31916667,88.24,88.2...</td>\n",
       "      <td>32.661304</td>\n",
       "    </tr>\n",
       "    <tr>\n",
       "      <th>3</th>\n",
       "      <td>ID_train_100</td>\n",
       "      <td>A</td>\n",
       "      <td>22.96666667,24.26666667,25.275,25.625,25.86666...</td>\n",
       "      <td>0.0,0.0,0.0,0.0,0.0,0.0,0.0,0.0,7.77,3.012,1.0...</td>\n",
       "      <td>0.8430833329999999,0.79025,0.7375,0.728,0.7049...</td>\n",
       "      <td>300.0850574,293.6769595,294.5174647,301.921416...</td>\n",
       "      <td>1.446666667,1.1925,1.324166667,1.5441666669999...</td>\n",
       "      <td>88.615,88.53083333,88.4,88.27166667,88.2075,88...</td>\n",
       "      <td>53.850238</td>\n",
       "    </tr>\n",
       "    <tr>\n",
       "      <th>4</th>\n",
       "      <td>ID_train_1000</td>\n",
       "      <td>A</td>\n",
       "      <td>21.875,21.575,21.525,21.43333333,20.50833333,1...</td>\n",
       "      <td>0.0,0.0,0.0,0.0,0.0,0.0,0.0,0.0,0.0,0.0,0.0,0....</td>\n",
       "      <td>0.8564166670000001,0.874916667,0.879833333,0.8...</td>\n",
       "      <td>21.83997432,17.05405341,89.26406044,123.585424...</td>\n",
       "      <td>0.1975,0.244166667,0.411666667,0.56,0.5775,0.4...</td>\n",
       "      <td>88.55666667,88.64083333,88.65833333,88.6475,88...</td>\n",
       "      <td>177.418750</td>\n",
       "    </tr>\n",
       "  </tbody>\n",
       "</table>\n",
       "</div>"
      ],
      "text/plain": [
       "              ID location                                               temp  \\\n",
       "0     ID_train_0        C  nan,nan,nan,nan,nan,nan,nan,nan,nan,nan,nan,na...   \n",
       "1     ID_train_1        D  22.53333333,21.71666667,20.83333333,20.9833333...   \n",
       "2    ID_train_10        A  28.975,27.95,29.6,26.425,22.09166667,21.775,22...   \n",
       "3   ID_train_100        A  22.96666667,24.26666667,25.275,25.625,25.86666...   \n",
       "4  ID_train_1000        A  21.875,21.575,21.525,21.43333333,20.50833333,1...   \n",
       "\n",
       "                                              precip  \\\n",
       "0  nan,nan,nan,nan,nan,nan,nan,nan,nan,nan,nan,na...   \n",
       "1  0.102,0.0,0.0,0.0,0.0,0.0,0.0,0.034,0.017,0.01...   \n",
       "2  0.0,0.0,0.0,0.102,0.136,0.0,0.0,2.16,1.276,0.0...   \n",
       "3  0.0,0.0,0.0,0.0,0.0,0.0,0.0,0.0,7.77,3.012,1.0...   \n",
       "4  0.0,0.0,0.0,0.0,0.0,0.0,0.0,0.0,0.0,0.0,0.0,0....   \n",
       "\n",
       "                                        rel_humidity  \\\n",
       "0  nan,nan,nan,nan,nan,nan,nan,nan,nan,nan,nan,na...   \n",
       "1  0.744583333,0.808083333,0.911166667,0.91633333...   \n",
       "2  0.573333333,0.597166667,0.5668333329999999,0.6...   \n",
       "3  0.8430833329999999,0.79025,0.7375,0.728,0.7049...   \n",
       "4  0.8564166670000001,0.874916667,0.879833333,0.8...   \n",
       "\n",
       "                                            wind_dir  \\\n",
       "0  nan,nan,nan,nan,nan,nan,nan,nan,nan,nan,nan,na...   \n",
       "1  281.6643101,89.15629262,81.96853891,291.018632...   \n",
       "2  nan,nan,nan,nan,nan,nan,nan,nan,nan,nan,nan,na...   \n",
       "3  300.0850574,293.6769595,294.5174647,301.921416...   \n",
       "4  21.83997432,17.05405341,89.26406044,123.585424...   \n",
       "\n",
       "                                            wind_spd  \\\n",
       "0  nan,nan,nan,nan,nan,nan,nan,nan,nan,nan,nan,na...   \n",
       "1  2.3775,1.126666667,0.700833333,0.3416666670000...   \n",
       "2  nan,nan,nan,nan,nan,nan,nan,nan,nan,nan,nan,na...   \n",
       "3  1.446666667,1.1925,1.324166667,1.5441666669999...   \n",
       "4  0.1975,0.244166667,0.411666667,0.56,0.5775,0.4...   \n",
       "\n",
       "                                         atmos_press      target  \n",
       "0  nan,nan,nan,nan,nan,nan,nan,nan,nan,nan,nan,na...   45.126304  \n",
       "1  90.32,90.3775,90.44083333,90.4725,90.45416667,...   79.131702  \n",
       "2  88.55166667,88.46416667,88.31916667,88.24,88.2...   32.661304  \n",
       "3  88.615,88.53083333,88.4,88.27166667,88.2075,88...   53.850238  \n",
       "4  88.55666667,88.64083333,88.65833333,88.6475,88...  177.418750  "
      ]
     },
     "execution_count": 4,
     "metadata": {},
     "output_type": "execute_result"
    }
   ],
   "source": [
    "train.head()"
   ]
  },
  {
   "cell_type": "code",
   "execution_count": 5,
   "metadata": {},
   "outputs": [],
   "source": [
    "# covert features from string to List of values \n",
    "def replace_nan(x):\n",
    "    if x==\" \":\n",
    "        return np.nan\n",
    "    else :\n",
    "        return float(x)\n",
    "features=[\"temp\",\"precip\",\"rel_humidity\",\"wind_dir\",\"wind_spd\",\"atmos_press\"]\n",
    "for feature in features : \n",
    "    train[feature]=train[feature].apply(lambda x: [ replace_nan(X) for X in x.replace(\"nan\",\" \").split(\",\")])\n",
    "    test_no_labels[feature]=test_no_labels[feature].apply(lambda x: [ replace_nan(X)  for X in x.replace(\"nan\",\" \").split(\",\")])    "
   ]
  },
  {
   "cell_type": "code",
   "execution_count": 6,
   "metadata": {},
   "outputs": [],
   "source": [
    "train = train.drop(columns=['ID']) #no need for ID column\n",
    "test_no_labels = test_no_labels.drop(columns=['ID']) #no need for ID column"
   ]
  },
  {
   "cell_type": "markdown",
   "metadata": {},
   "source": [
    "## Segment the data to have a separate test set"
   ]
  },
  {
   "cell_type": "code",
   "execution_count": 7,
   "metadata": {},
   "outputs": [],
   "source": [
    "from sklearn.model_selection import train_test_split"
   ]
  },
  {
   "cell_type": "code",
   "execution_count": 8,
   "metadata": {},
   "outputs": [],
   "source": [
    "train_actual, test_actual = train_test_split(train, test_size=0.15, random_state=7) #default random shuffle\n",
    "train = train_actual"
   ]
  },
  {
   "cell_type": "code",
   "execution_count": 9,
   "metadata": {},
   "outputs": [
    {
     "name": "stdout",
     "output_type": "stream",
     "text": [
      "(13208, 8)\n",
      "(2331, 8)\n"
     ]
    }
   ],
   "source": [
    "print(train.shape)\n",
    "print(test_actual.shape)"
   ]
  },
  {
   "cell_type": "markdown",
   "metadata": {},
   "source": [
    "# Processing the training data\n",
    "### Visualisation of missing data\n",
    "The following cell plots some random examples of missing data given a feature_index and num_to_select"
   ]
  },
  {
   "cell_type": "code",
   "execution_count": 10,
   "metadata": {},
   "outputs": [
    {
     "data": {
      "image/png": "[encoded data removed]",
      "text/plain": [
       "<Figure size 432x288 with 1 Axes>"
      ]
     },
     "metadata": {
      "needs_background": "light"
     },
     "output_type": "display_data"
    }
   ],
   "source": [
    "import random\n",
    "feature_index =3\n",
    "num_to_select = 2\n",
    "list_vals = []\n",
    "for index, row in train.iterrows():\n",
    "    currFeature = row[features[feature_index]]\n",
    "    if num_to_select == 0:\n",
    "        break\n",
    "    if(pd.Series(currFeature).isna().sum() > 0):\n",
    "        if random.random() < 0.5:\n",
    "            num_to_select -= 1\n",
    "            list_vals.append(currFeature)\n",
    "        \n",
    "for l in list_vals:\n",
    "    plt.plot(l)\n",
    "plt.title(features[feature_index])\n",
    "plt.show()"
   ]
  },
  {
   "cell_type": "code",
   "execution_count": 11,
   "metadata": {},
   "outputs": [],
   "source": [
    "def dropRowsWithAnyNulls(df):\n",
    "    for index, row in tqdm(df.iterrows()):\n",
    "        for feature in features:\n",
    "            if(pd.Series(row[feature]).isna().sum() > 0):\n",
    "                df.drop(index, inplace= True, axis=0)\n",
    "                break"
   ]
  },
  {
   "cell_type": "markdown",
   "metadata": {},
   "source": [
    "### Creating a copy of the data set for Autoencoder imputation"
   ]
  },
  {
   "cell_type": "code",
   "execution_count": 12,
   "metadata": {},
   "outputs": [],
   "source": [
    "if shouldImputeData:\n",
    "    train_copy = train.copy() "
   ]
  },
  {
   "cell_type": "markdown",
   "metadata": {},
   "source": [
    "Remove nulls and generate training data for the autoencoder"
   ]
  },
  {
   "cell_type": "code",
   "execution_count": 13,
   "metadata": {},
   "outputs": [],
   "source": [
    "if shouldImputeData:\n",
    "    print(train_copy.shape)\n",
    "    dropRowsWithAnyNulls(train_copy)\n",
    "    print(train_copy.shape)"
   ]
  },
  {
   "cell_type": "code",
   "execution_count": 14,
   "metadata": {},
   "outputs": [],
   "source": [
    "class AutoencoderImputer(nn.Module):\n",
    "    def __init__(self, inputDim):\n",
    "        super(AutoencoderImputer, self).__init__()\n",
    "        \n",
    "        self.inputDim = inputDim\n",
    "        self.h1Dim = int(inputDim * (2 / 3))\n",
    "        self.h2Dim = int(inputDim * (1 / 3))\n",
    "        self.h3Dim = self.h1Dim\n",
    "        \n",
    "        self.bn1 = nn.BatchNorm1d(self.h1Dim)\n",
    "        self.bn2 = nn.BatchNorm1d(self.h2Dim)\n",
    "        self.bn3 = nn.BatchNorm1d(self.h3Dim)\n",
    "        self.ln1 = nn.Linear(inputDim, self.h1Dim)\n",
    "        self.ln2 = nn.Linear(self.h1Dim, self.h2Dim) \n",
    "        self.ln3 = nn.Linear(self.h2Dim, self.h3Dim) \n",
    "        self.ln4 = nn.Linear(self.h3Dim, self.inputDim) \n",
    "\n",
    "    def forward(self, t):\n",
    "        t = F.relu(self.bn1(self.ln1(t)))\n",
    "        t = F.relu(self.bn2(self.ln2(t)))\n",
    "        t = F.relu(self.bn3(self.ln3(t)))\n",
    "        t = F.relu(self.ln4(t))\n",
    "        return t"
   ]
  },
  {
   "cell_type": "markdown",
   "metadata": {},
   "source": [
    "#### Utility functions"
   ]
  },
  {
   "cell_type": "code",
   "execution_count": 15,
   "metadata": {},
   "outputs": [],
   "source": [
    "def convertRowToFlatTensor(row):\n",
    "    tens = torch.tensor([])\n",
    "    for feature in features:\n",
    "        tens = torch.cat((tens, torch.tensor(row[feature])), -1)\n",
    "    return tens\n",
    "\n",
    "def convertNullsToConst(tens):\n",
    "    tens[tens != tens] = -1\n",
    "    return tens"
   ]
  },
  {
   "cell_type": "markdown",
   "metadata": {},
   "source": [
    "#### Dataset "
   ]
  },
  {
   "cell_type": "code",
   "execution_count": 16,
   "metadata": {},
   "outputs": [],
   "source": [
    "class ImputeDataset(Dataset):\n",
    "    #The initialisation of this dataset generates the inputs using random nulls\n",
    "    def __init__(self, trainingDataframe, testDataframe=None):\n",
    "        tmp = []\n",
    "        for index, row in trainingDataframe.iterrows():\n",
    "            tens = convertRowToFlatTensor(row)\n",
    "            tmp.append(tens)\n",
    "            \n",
    "        self.targets = tmp #targets are the non null tensors\n",
    "        self.data = self.getNullifiedData(self.targets)\n",
    "        if testDataframe is not None:\n",
    "            self.augmentWithTestData(testDataframe)\n",
    "        print(\"Initiated Dataset\\n\")\n",
    "    \n",
    "    def getNullifiedData(self, listOfCompleteTargets):\n",
    "        inputList = []\n",
    "        for example in listOfCompleteTargets:\n",
    "            inputList.append(self.generateRandomNulls(example))\n",
    "        return inputList\n",
    "         \n",
    "    def generateRandomNulls(self, example):\n",
    "        totalNullsAdded = 0\n",
    "        targetTensor = example.clone()\n",
    "        numTimes = random.randint(1, 4)\n",
    "        while numTimes > 0:\n",
    "            indexToStartNulls = random.randint(0, 120) \n",
    "            numNullsToAdd = random.randint(1, 20)  \n",
    "            while numNullsToAdd > 0 and indexToStartNulls < 121:\n",
    "                for i in range(len(features)):\n",
    "                    targetTensor[indexToStartNulls + i * 121] = -1\n",
    "                numNullsToAdd -= 1\n",
    "                indexToStartNulls += 1\n",
    "            numTimes -= 1    \n",
    "        return targetTensor\n",
    "    \n",
    "    def augmentWithTestData(self, dataframe):\n",
    "        dropRowsWithAnyNulls(dataframe)\n",
    "        tmp = []\n",
    "        for index, row in dataframe.iterrows():\n",
    "            tens = convertRowToFlatTensor(row)\n",
    "            tmp.append(tens)\n",
    "        nullified = self.getNullifiedData(tmp)\n",
    "        self.data.extend(nullified)\n",
    "        self.targets.extend(tmp)        \n",
    "            \n",
    "    def __getitem__(self, index):\n",
    "        return (self.data[index], self.targets[index])\n",
    "    \n",
    "    def __len__(self):\n",
    "        return len(self.data)"
   ]
  },
  {
   "cell_type": "code",
   "execution_count": 17,
   "metadata": {},
   "outputs": [],
   "source": [
    "if shouldRestoreImputer == False and shouldImputeData == True: \n",
    "    imputation_dataset = ImputeDataset(train_copy, test_no_labels) #preparing dataset with inputs containing random nulls and target outputss"
   ]
  },
  {
   "cell_type": "code",
   "execution_count": 18,
   "metadata": {
    "scrolled": true
   },
   "outputs": [],
   "source": [
    "from sklearn.datasets import make_regression\n",
    "import skorch\n",
    "from skorch import NeuralNet\n",
    "from skorch.callbacks import EarlyStopping\n",
    "from sklearn.model_selection import cross_validate\n",
    "\n",
    "autoencoder_regressor = NeuralNet(\n",
    "    module=AutoencoderImputer,\n",
    "    module__inputDim= 121*len(features),\n",
    "    criterion=torch.nn.L1Loss,\n",
    "    optimizer=torch.optim.Adam,\n",
    "    max_epochs=1000,\n",
    "    lr = 1e-3,\n",
    "    device='cuda',\n",
    "    iterator_train__shuffle=True,\n",
    "    callbacks=[EarlyStopping(patience=5)]\n",
    ")"
   ]
  },
  {
   "cell_type": "code",
   "execution_count": 19,
   "metadata": {
    "scrolled": true
   },
   "outputs": [],
   "source": [
    "if shouldRestoreImputer == False and shouldImputeData == True: \n",
    "    autoencoder_regressor.fit(imputation_dataset)"
   ]
  },
  {
   "cell_type": "markdown",
   "metadata": {},
   "source": [
    "#### Save the model"
   ]
  },
  {
   "cell_type": "code",
   "execution_count": 20,
   "metadata": {},
   "outputs": [],
   "source": [
    "if shouldRestoreImputer == False and shouldImputeData == True: \n",
    "    autoencoder_regressor.save_params(f_params='autoencoder_imputer2.pkl')"
   ]
  },
  {
   "cell_type": "markdown",
   "metadata": {},
   "source": [
    "#### Load the model"
   ]
  },
  {
   "cell_type": "code",
   "execution_count": 21,
   "metadata": {},
   "outputs": [],
   "source": [
    "if shouldRestoreImputer == True and shouldImputeData == True: \n",
    "    autoencoder_regressor.initialize()  # This is important!\n",
    "    autoencoder_regressor.load_params(f_params='autoencoder_imputer2.pkl')"
   ]
  },
  {
   "cell_type": "markdown",
   "metadata": {},
   "source": [
    "#### Illustrate an imputation example"
   ]
  },
  {
   "cell_type": "code",
   "execution_count": 22,
   "metadata": {
    "scrolled": true
   },
   "outputs": [],
   "source": [
    "if shouldImputeData == True: \n",
    "    with torch.no_grad():\n",
    "        inp = convertRowToFlatTensor(train.iloc[255])\n",
    "        mask = inp != inp\n",
    "        beforeNullsRemoved = inp.clone()\n",
    "        inp = convertNullsToConst(inp)\n",
    "        inp = torch.unsqueeze(inp, 0)\n",
    "        res = autoencoder_regressor.predict(inp)\n",
    "        res = res[0]\n",
    "        toGraph = res\n",
    "    #     for ind, truth in enumerate(mask):\n",
    "    #         if truth:\n",
    "    #             toGraph.append(res[ind])\n",
    "    #         else:\n",
    "    #             toGraph.append(np.nan)\n",
    "        for i in range( int(len(beforeNullsRemoved) / 121)) :\n",
    "            plt.plot(beforeNullsRemoved[(i * 121): ((i+1) * 121)], 'b-')\n",
    "            plt.plot(toGraph[(i * 121): ((i+1) * 121)] , 'r--')\n",
    "            plt.show()"
   ]
  },
  {
   "cell_type": "markdown",
   "metadata": {},
   "source": [
    "### Filling in missing values\n",
    "Use the autoencoder to fill in missing values"
   ]
  },
  {
   "cell_type": "code",
   "execution_count": 23,
   "metadata": {},
   "outputs": [],
   "source": [
    "def shouldFillInMissingValues(row):\n",
    "    for feature in features:\n",
    "        sumOfNulls = pd.Series(row[feature]).isna().sum()\n",
    "        if sumOfNulls > 60:\n",
    "            return False\n",
    "    return True\n",
    "\n",
    "def getFeatureBucket(index):\n",
    "    bucket =  int(index / 121) \n",
    "    for i in range(len(features)):\n",
    "        if bucket == i:\n",
    "            return features[i]\n",
    "    return None"
   ]
  },
  {
   "cell_type": "code",
   "execution_count": 24,
   "metadata": {},
   "outputs": [],
   "source": [
    "def imputeRow(row, model):\n",
    "    inp = convertRowToFlatTensor(row)\n",
    "    mask = inp != inp #find the nan values\n",
    "    beforeNullsRemoved = inp.clone()\n",
    "    inp = convertNullsToConst(inp)\n",
    "    inp = torch.unsqueeze(inp, 0)\n",
    "#     print(inp.shape)\n",
    "    res = model.predict(inp)\n",
    "    res = res[0]\n",
    "    toGraph = []\n",
    "    for ind, truth in enumerate(mask):\n",
    "        if truth:\n",
    "            featureBucket = getFeatureBucket(ind)\n",
    "            index = ind % 121\n",
    "            row[featureBucket][index] = res[ind]\n"
   ]
  },
  {
   "cell_type": "code",
   "execution_count": 25,
   "metadata": {},
   "outputs": [],
   "source": [
    "if shouldImputeData == True: \n",
    "    r = train.iloc[0]\n",
    "    print(r)\n",
    "    imputeRow(r, autoencoder_regressor)\n",
    "    # print()\n",
    "    # autoencoder_regressor.predict(torch.rand(1,726))\n",
    "    print(r)"
   ]
  },
  {
   "cell_type": "code",
   "execution_count": 26,
   "metadata": {},
   "outputs": [],
   "source": [
    "def imputeOnData(df, model):\n",
    "    for index, row in tqdm(df.iterrows()):\n",
    "        for feature in features:\n",
    "            if(pd.Series(row[feature]).isna().sum() > 0):\n",
    "                if shouldFillInMissingValues(row):\n",
    "#                     print(row.head())\n",
    "                    imputeRow(row, model)\n",
    "#                     print(row.head())\n",
    "                else:\n",
    "#                     print('dropping row')\n",
    "                    df.drop(index, inplace= True, axis=0)\n",
    "                break"
   ]
  },
  {
   "cell_type": "code",
   "execution_count": 27,
   "metadata": {},
   "outputs": [
    {
     "name": "stdout",
     "output_type": "stream",
     "text": [
      "(13208, 8)\n",
      "(2331, 8)\n"
     ]
    }
   ],
   "source": [
    "print(train.shape)\n",
    "print(test_actual.shape)"
   ]
  },
  {
   "cell_type": "code",
   "execution_count": 28,
   "metadata": {},
   "outputs": [
    {
     "name": "stderr",
     "output_type": "stream",
     "text": [
      "13208it [00:43, 305.47it/s]\n",
      "2331it [00:04, 516.74it/s]\n"
     ]
    }
   ],
   "source": [
    "if shouldImputeData == True: \n",
    "    imputeOnData(train, autoencoder_regressor)\n",
    "    imputeOnData(test_actual, autoencoder_regressor)\n",
    "else:\n",
    "    dropRowsWithAnyNulls(train)\n",
    "    dropRowsWithAnyNulls(test_actual)"
   ]
  },
  {
   "cell_type": "code",
   "execution_count": 29,
   "metadata": {},
   "outputs": [
    {
     "name": "stdout",
     "output_type": "stream",
     "text": [
      "(6125, 8)\n",
      "(1087, 8)\n"
     ]
    }
   ],
   "source": [
    "print(train.shape)\n",
    "print(test_actual.shape)"
   ]
  },
  {
   "cell_type": "markdown",
   "metadata": {},
   "source": [
    "### Scaling data\n",
    "The following functions help apply transforms the timeseries columns. The test dataset is scaled only based on the training dataset to prevent information leakage of test data into the training data"
   ]
  },
  {
   "cell_type": "code",
   "execution_count": 30,
   "metadata": {},
   "outputs": [],
   "source": [
    "def convertSeriesofListsToDataFrame(series):\n",
    "    listToConv = []\n",
    "    for item in series:\n",
    "        listToConv.append(item)\n",
    "    newDF = pd.DataFrame(listToConv )\n",
    "    return newDF\n",
    "\n",
    "class CustomMinMaxScaler():\n",
    "    def __init__(self, minVal, maxVal, feature_range=(-1, 1)):\n",
    "        self.a = feature_range[0]\n",
    "        self.b = feature_range[1]\n",
    "        self.A = minVal\n",
    "        self.B = maxVal\n",
    "        self.scale_ = (self.b-self.a) / (self.B - self.A)\n",
    "        \n",
    "    def fit(self, data):\n",
    "        return\n",
    "    \n",
    "    def transform(self,df):\n",
    "        df -= self.A\n",
    "        df *= self.scale_\n",
    "        df += self.a\n",
    "        return df.to_numpy()\n",
    "    \n",
    "class CustomStandardScaler():\n",
    "    def __init__(self):\n",
    "        self.mean = -1 #init\n",
    "        self.std = -1\n",
    "        \n",
    "    def fit(self, dataframe, isTraining=True):\n",
    "        if isTraining:\n",
    "            self.mean = dataframe.stack().mean()\n",
    "            self.std = dataframe.stack().std()\n",
    "        return\n",
    "    \n",
    "    def transform(self, df):\n",
    "        df -= self.mean\n",
    "        df /= self.std\n",
    "        return df.to_numpy() \n",
    "        \n",
    "def scaleDataFrame(scaler, df, isTraining=True):\n",
    "    if isTraining:\n",
    "        scaler.fit(df) #the scalers are fit according to the training set and not the test set\n",
    "    return scaler.transform(df)\n",
    "\n",
    "def applyScaleTransformations(trainDataframe, infoDict, testDataframe):\n",
    "    for key, value in infoDict.items():\n",
    "        scaleResTrain = scaleDataFrame(value, convertSeriesofListsToDataFrame(trainDataframe[key]))\n",
    "        scaleResTest = scaleDataFrame(value, convertSeriesofListsToDataFrame(testDataframe[key]), False)\n",
    "        trainDataframe.drop(columns=[key])\n",
    "        testDataframe.drop(columns=[key])\n",
    "\n",
    "        seriesTrain = pd.Series(scaleResTrain.tolist())\n",
    "        kwargs = {key : seriesTrain.values}\n",
    "        trainDataframe = trainDataframe.assign(**kwargs)\n",
    "        \n",
    "        seriesTest = pd.Series(scaleResTest.tolist())\n",
    "        kwargs = {key : seriesTest.values}\n",
    "        testDataframe = testDataframe.assign(**kwargs)\n",
    "        \n",
    "    return trainDataframe, testDataframe"
   ]
  },
  {
   "cell_type": "code",
   "execution_count": 31,
   "metadata": {},
   "outputs": [
    {
     "data": {
      "text/html": [
       "<div>\n",
       "<style scoped>\n",
       "    .dataframe tbody tr th:only-of-type {\n",
       "        vertical-align: middle;\n",
       "    }\n",
       "\n",
       "    .dataframe tbody tr th {\n",
       "        vertical-align: top;\n",
       "    }\n",
       "\n",
       "    .dataframe thead th {\n",
       "        text-align: right;\n",
       "    }\n",
       "</style>\n",
       "<table border=\"1\" class=\"dataframe\">\n",
       "  <thead>\n",
       "    <tr style=\"text-align: right;\">\n",
       "      <th></th>\n",
       "      <th>location</th>\n",
       "      <th>temp</th>\n",
       "      <th>precip</th>\n",
       "      <th>rel_humidity</th>\n",
       "      <th>wind_dir</th>\n",
       "      <th>wind_spd</th>\n",
       "      <th>atmos_press</th>\n",
       "      <th>target</th>\n",
       "    </tr>\n",
       "  </thead>\n",
       "  <tbody>\n",
       "    <tr>\n",
       "      <th>1740</th>\n",
       "      <td>B</td>\n",
       "      <td>[21.88333333, 21.49166667, 21.35, 21.46666667,...</td>\n",
       "      <td>[0.0, 0.0, 0.0, 0.0, 0.0, 0.0, 0.0, 0.0, 0.0, ...</td>\n",
       "      <td>[0.7925, 0.788333333, 0.779166667, 0.783333333...</td>\n",
       "      <td>[185.1598778, 179.0868879, 174.41672069999996,...</td>\n",
       "      <td>[1.198333333, 1.464166667, 1.6791666669999998,...</td>\n",
       "      <td>[88.64, 88.685, 88.72333333, 88.75166667, 88.7...</td>\n",
       "      <td>106.118293</td>\n",
       "    </tr>\n",
       "    <tr>\n",
       "      <th>10598</th>\n",
       "      <td>C</td>\n",
       "      <td>[18.61666667, 18.55, 18.55833333, 18.34166667,...</td>\n",
       "      <td>[0.034, 0.034, 0.0, 0.017, 0.017, 0.0, 0.068, ...</td>\n",
       "      <td>[0.995666667, 0.999, 0.999833333, 0.99975, 0.9...</td>\n",
       "      <td>[305.9133537, 301.9505753, 287.8784468, 268.63...</td>\n",
       "      <td>[0.901666667, 0.8091666670000001, 0.625833333,...</td>\n",
       "      <td>[87.69083333, 87.72833333, 87.8, 87.845, 87.87...</td>\n",
       "      <td>90.960889</td>\n",
       "    </tr>\n",
       "    <tr>\n",
       "      <th>12825</th>\n",
       "      <td>C</td>\n",
       "      <td>[19.11666667, 19.50833333, 18.98333333, 17.983...</td>\n",
       "      <td>[1.598, 0.868, 14.744000000000002, 0.017, 0.0,...</td>\n",
       "      <td>[0.996666667, 0.995833333, 1.0, 1.0, 1.0, 1.0,...</td>\n",
       "      <td>[157.8534891, 207.0230755, 203.7432369, 174.33...</td>\n",
       "      <td>[0.6841666670000001, 0.6333333329999999, 1.064...</td>\n",
       "      <td>[87.68666667, 87.66333333, 87.70583333, 87.73,...</td>\n",
       "      <td>83.935000</td>\n",
       "    </tr>\n",
       "    <tr>\n",
       "      <th>11513</th>\n",
       "      <td>D</td>\n",
       "      <td>[21.41666667, 19.91666667, 19.35, 19.66666667,...</td>\n",
       "      <td>[0.0, 0.0, 0.0, 0.0, 0.0, 0.0, 0.0, 0.0, 0.0, ...</td>\n",
       "      <td>[0.706833333, 0.7928333329999999, 0.813916667,...</td>\n",
       "      <td>[32.25640137, 30.19062788, 1.425609443, 352.44...</td>\n",
       "      <td>[0.78, 0.609166667, 0.72, 0.591666667, 0.53833...</td>\n",
       "      <td>[90.90083333, 90.9325, 90.92333333, 90.8808333...</td>\n",
       "      <td>91.066500</td>\n",
       "    </tr>\n",
       "    <tr>\n",
       "      <th>7128</th>\n",
       "      <td>B</td>\n",
       "      <td>[26.95, 26.96666667, 26.6, 26.26666667, 25.675...</td>\n",
       "      <td>[0.0, 0.0, 0.0, 0.0, 0.0, 0.0, 0.0, 0.0, 0.0, ...</td>\n",
       "      <td>[0.763333333, 0.765833333, 0.7863636359999999,...</td>\n",
       "      <td>[155.8670536, 148.4923311, 151.2655361, 142.42...</td>\n",
       "      <td>[1.995, 2.296666667, 2.768181818, 2.126666667,...</td>\n",
       "      <td>[88.44916667, 88.38666667, 88.35636364, 88.33,...</td>\n",
       "      <td>38.161628</td>\n",
       "    </tr>\n",
       "  </tbody>\n",
       "</table>\n",
       "</div>"
      ],
      "text/plain": [
       "      location                                               temp  \\\n",
       "1740         B  [21.88333333, 21.49166667, 21.35, 21.46666667,...   \n",
       "10598        C  [18.61666667, 18.55, 18.55833333, 18.34166667,...   \n",
       "12825        C  [19.11666667, 19.50833333, 18.98333333, 17.983...   \n",
       "11513        D  [21.41666667, 19.91666667, 19.35, 19.66666667,...   \n",
       "7128         B  [26.95, 26.96666667, 26.6, 26.26666667, 25.675...   \n",
       "\n",
       "                                                  precip  \\\n",
       "1740   [0.0, 0.0, 0.0, 0.0, 0.0, 0.0, 0.0, 0.0, 0.0, ...   \n",
       "10598  [0.034, 0.034, 0.0, 0.017, 0.017, 0.0, 0.068, ...   \n",
       "12825  [1.598, 0.868, 14.744000000000002, 0.017, 0.0,...   \n",
       "11513  [0.0, 0.0, 0.0, 0.0, 0.0, 0.0, 0.0, 0.0, 0.0, ...   \n",
       "7128   [0.0, 0.0, 0.0, 0.0, 0.0, 0.0, 0.0, 0.0, 0.0, ...   \n",
       "\n",
       "                                            rel_humidity  \\\n",
       "1740   [0.7925, 0.788333333, 0.779166667, 0.783333333...   \n",
       "10598  [0.995666667, 0.999, 0.999833333, 0.99975, 0.9...   \n",
       "12825  [0.996666667, 0.995833333, 1.0, 1.0, 1.0, 1.0,...   \n",
       "11513  [0.706833333, 0.7928333329999999, 0.813916667,...   \n",
       "7128   [0.763333333, 0.765833333, 0.7863636359999999,...   \n",
       "\n",
       "                                                wind_dir  \\\n",
       "1740   [185.1598778, 179.0868879, 174.41672069999996,...   \n",
       "10598  [305.9133537, 301.9505753, 287.8784468, 268.63...   \n",
       "12825  [157.8534891, 207.0230755, 203.7432369, 174.33...   \n",
       "11513  [32.25640137, 30.19062788, 1.425609443, 352.44...   \n",
       "7128   [155.8670536, 148.4923311, 151.2655361, 142.42...   \n",
       "\n",
       "                                                wind_spd  \\\n",
       "1740   [1.198333333, 1.464166667, 1.6791666669999998,...   \n",
       "10598  [0.901666667, 0.8091666670000001, 0.625833333,...   \n",
       "12825  [0.6841666670000001, 0.6333333329999999, 1.064...   \n",
       "11513  [0.78, 0.609166667, 0.72, 0.591666667, 0.53833...   \n",
       "7128   [1.995, 2.296666667, 2.768181818, 2.126666667,...   \n",
       "\n",
       "                                             atmos_press      target  \n",
       "1740   [88.64, 88.685, 88.72333333, 88.75166667, 88.7...  106.118293  \n",
       "10598  [87.69083333, 87.72833333, 87.8, 87.845, 87.87...   90.960889  \n",
       "12825  [87.68666667, 87.66333333, 87.70583333, 87.73,...   83.935000  \n",
       "11513  [90.90083333, 90.9325, 90.92333333, 90.8808333...   91.066500  \n",
       "7128   [88.44916667, 88.38666667, 88.35636364, 88.33,...   38.161628  "
      ]
     },
     "execution_count": 31,
     "metadata": {},
     "output_type": "execute_result"
    }
   ],
   "source": [
    "train.head()"
   ]
  },
  {
   "cell_type": "code",
   "execution_count": 32,
   "metadata": {},
   "outputs": [],
   "source": [
    "scalesToDo =  { 'wind_dir': CustomMinMaxScaler(0, 360),'temp' : CustomStandardScaler(), 'precip' : CustomStandardScaler()\n",
    "              ,'wind_spd' : CustomStandardScaler(), 'atmos_press' : CustomStandardScaler(), 'rel_humidity' : CustomMinMaxScaler(0,1)\n",
    "              }\n",
    "train, test_actual = applyScaleTransformations(train, scalesToDo, test_actual)"
   ]
  },
  {
   "cell_type": "code",
   "execution_count": 33,
   "metadata": {
    "scrolled": true
   },
   "outputs": [
    {
     "data": {
      "text/html": [
       "<div>\n",
       "<style scoped>\n",
       "    .dataframe tbody tr th:only-of-type {\n",
       "        vertical-align: middle;\n",
       "    }\n",
       "\n",
       "    .dataframe tbody tr th {\n",
       "        vertical-align: top;\n",
       "    }\n",
       "\n",
       "    .dataframe thead th {\n",
       "        text-align: right;\n",
       "    }\n",
       "</style>\n",
       "<table border=\"1\" class=\"dataframe\">\n",
       "  <thead>\n",
       "    <tr style=\"text-align: right;\">\n",
       "      <th></th>\n",
       "      <th>location</th>\n",
       "      <th>temp</th>\n",
       "      <th>precip</th>\n",
       "      <th>rel_humidity</th>\n",
       "      <th>wind_dir</th>\n",
       "      <th>wind_spd</th>\n",
       "      <th>atmos_press</th>\n",
       "      <th>target</th>\n",
       "    </tr>\n",
       "  </thead>\n",
       "  <tbody>\n",
       "    <tr>\n",
       "      <th>1740</th>\n",
       "      <td>B</td>\n",
       "      <td>[-0.308341922055949, -0.4181240920179991, -0.4...</td>\n",
       "      <td>[-0.1042337187792622, -0.1042337187792622, -0....</td>\n",
       "      <td>[0.585, 0.5766666659999999, 0.5583333340000001...</td>\n",
       "      <td>[0.028665987777777735, -0.005072845000000048, ...</td>\n",
       "      <td>[0.26261537965294174, 0.6418802192655615, 0.94...</td>\n",
       "      <td>[-0.4309313215284431, -0.39388662872145747, -0...</td>\n",
       "      <td>106.118293</td>\n",
       "    </tr>\n",
       "    <tr>\n",
       "      <th>10598</th>\n",
       "      <td>C</td>\n",
       "      <td>[-1.2239719490730143, -1.242658277127447, -1.2...</td>\n",
       "      <td>[-0.06673710022206462, -0.06673710022206462, -...</td>\n",
       "      <td>[0.9913333339999999, 0.998, 0.999666666, 0.999...</td>\n",
       "      <td>[0.6995186316666668, 0.6775031961111113, 0.599...</td>\n",
       "      <td>[-0.16063942367018305, -0.29260932050850536, -...</td>\n",
       "      <td>[-1.212299937367955, -1.1814293600288064, -1.1...</td>\n",
       "      <td>90.960889</td>\n",
       "    </tr>\n",
       "    <tr>\n",
       "      <th>12825</th>\n",
       "      <td>C</td>\n",
       "      <td>[-1.0838244956721421, -0.974042325710092, -1.1...</td>\n",
       "      <td>[1.658107353409024, 0.8530328961515465, 16.156...</td>\n",
       "      <td>[0.9933333339999999, 0.991666666, 1.0, 1.0, 1....</td>\n",
       "      <td>[-0.1230361716666667, 0.15012819722222237, 0.1...</td>\n",
       "      <td>[-0.4709470189386708, -0.543471017251406, 0.07...</td>\n",
       "      <td>[-1.2157299960286554, -1.234938360750004, -1.1...</td>\n",
       "      <td>83.935000</td>\n",
       "    </tr>\n",
       "    <tr>\n",
       "      <th>11513</th>\n",
       "      <td>D</td>\n",
       "      <td>[-0.43914621002812976, -0.8595885702307464, -1...</td>\n",
       "      <td>[-0.1042337187792622, -0.1042337187792622, -0....</td>\n",
       "      <td>[0.4136666659999999, 0.5856666659999998, 0.627...</td>\n",
       "      <td>[-0.8207977701666667, -0.8322742895555555, -0....</td>\n",
       "      <td>[-0.33422145061777786, -0.5779496379967701, -0...</td>\n",
       "      <td>[1.4302214828635806, 1.4562899731384784, 1.448...</td>\n",
       "      <td>91.066500</td>\n",
       "    </tr>\n",
       "    <tr>\n",
       "      <th>7128</th>\n",
       "      <td>B</td>\n",
       "      <td>[1.1118189400072058, 1.116490522721551, 1.0137...</td>\n",
       "      <td>[-0.1042337187792622, -0.1042337187792622, -0....</td>\n",
       "      <td>[0.5266666659999999, 0.531666666, 0.5727272719...</td>\n",
       "      <td>[-0.1340719244444445, -0.1750426049999999, -0....</td>\n",
       "      <td>[1.3992209781234304, 1.8296092908104638, 2.502...</td>\n",
       "      <td>[-0.5880282567991983, -0.6394792190311208, -0....</td>\n",
       "      <td>38.161628</td>\n",
       "    </tr>\n",
       "  </tbody>\n",
       "</table>\n",
       "</div>"
      ],
      "text/plain": [
       "      location                                               temp  \\\n",
       "1740         B  [-0.308341922055949, -0.4181240920179991, -0.4...   \n",
       "10598        C  [-1.2239719490730143, -1.242658277127447, -1.2...   \n",
       "12825        C  [-1.0838244956721421, -0.974042325710092, -1.1...   \n",
       "11513        D  [-0.43914621002812976, -0.8595885702307464, -1...   \n",
       "7128         B  [1.1118189400072058, 1.116490522721551, 1.0137...   \n",
       "\n",
       "                                                  precip  \\\n",
       "1740   [-0.1042337187792622, -0.1042337187792622, -0....   \n",
       "10598  [-0.06673710022206462, -0.06673710022206462, -...   \n",
       "12825  [1.658107353409024, 0.8530328961515465, 16.156...   \n",
       "11513  [-0.1042337187792622, -0.1042337187792622, -0....   \n",
       "7128   [-0.1042337187792622, -0.1042337187792622, -0....   \n",
       "\n",
       "                                            rel_humidity  \\\n",
       "1740   [0.585, 0.5766666659999999, 0.5583333340000001...   \n",
       "10598  [0.9913333339999999, 0.998, 0.999666666, 0.999...   \n",
       "12825  [0.9933333339999999, 0.991666666, 1.0, 1.0, 1....   \n",
       "11513  [0.4136666659999999, 0.5856666659999998, 0.627...   \n",
       "7128   [0.5266666659999999, 0.531666666, 0.5727272719...   \n",
       "\n",
       "                                                wind_dir  \\\n",
       "1740   [0.028665987777777735, -0.005072845000000048, ...   \n",
       "10598  [0.6995186316666668, 0.6775031961111113, 0.599...   \n",
       "12825  [-0.1230361716666667, 0.15012819722222237, 0.1...   \n",
       "11513  [-0.8207977701666667, -0.8322742895555555, -0....   \n",
       "7128   [-0.1340719244444445, -0.1750426049999999, -0....   \n",
       "\n",
       "                                                wind_spd  \\\n",
       "1740   [0.26261537965294174, 0.6418802192655615, 0.94...   \n",
       "10598  [-0.16063942367018305, -0.29260932050850536, -...   \n",
       "12825  [-0.4709470189386708, -0.543471017251406, 0.07...   \n",
       "11513  [-0.33422145061777786, -0.5779496379967701, -0...   \n",
       "7128   [1.3992209781234304, 1.8296092908104638, 2.502...   \n",
       "\n",
       "                                             atmos_press      target  \n",
       "1740   [-0.4309313215284431, -0.39388662872145747, -0...  106.118293  \n",
       "10598  [-1.212299937367955, -1.1814293600288064, -1.1...   90.960889  \n",
       "12825  [-1.2157299960286554, -1.234938360750004, -1.1...   83.935000  \n",
       "11513  [1.4302214828635806, 1.4562899731384784, 1.448...   91.066500  \n",
       "7128   [-0.5880282567991983, -0.6394792190311208, -0....   38.161628  "
      ]
     },
     "execution_count": 33,
     "metadata": {},
     "output_type": "execute_result"
    }
   ],
   "source": [
    "train.head()"
   ]
  },
  {
   "cell_type": "markdown",
   "metadata": {},
   "source": [
    "## Convert data to be suitable for LSTM\n",
    "One row contains 121 steps through time for each of the 6 series.\n",
    "Need to loop through the rows, and for each row convert it to the suitable format"
   ]
  },
  {
   "cell_type": "code",
   "execution_count": 34,
   "metadata": {},
   "outputs": [],
   "source": [
    "def getOneHotFromLoc(loc):\n",
    "    if loc == 'A':\n",
    "        return [0,0,0,0,1]\n",
    "    if loc == 'B':\n",
    "        return [0,0,0,1,0]\n",
    "    if loc == 'C':\n",
    "        return [0,0,1,0,0]\n",
    "    if loc == 'D':\n",
    "        return [0,1,0,0,0]\n",
    "    if loc == 'E':\n",
    "        return [1,0,0,0,0]\n",
    "    return [0,0,0,0,0]\n",
    "\n",
    "#one row makes one input pattern.\n",
    "def transform_df_to_lstm_format(dataframe):\n",
    "    dfCollection = []\n",
    "    dfCollectionTargets = []\n",
    "    dfOneHotLocations = []\n",
    "    for i, row in dataframe.iterrows():\n",
    "        df = pd.DataFrame()\n",
    "        for indicator in features:\n",
    "            col = row[indicator]\n",
    "            df[indicator] = col #make the row now a column in a dataframe\n",
    "        dfCollection.append(df)\n",
    "        dfCollectionTargets.append(row['target'])\n",
    "        if isUsingMetadata:\n",
    "            loc = getOneHotFromLoc(row['location'])\n",
    "            dfOneHotLocations.append(loc)\n",
    "    if isUsingMetadata:\n",
    "        return dfCollection, dfCollectionTargets, dfOneHotLocations\n",
    "    else:\n",
    "        return dfCollection, dfCollectionTargets"
   ]
  },
  {
   "cell_type": "markdown",
   "metadata": {},
   "source": [
    "## Make a Dataloader"
   ]
  },
  {
   "cell_type": "code",
   "execution_count": 35,
   "metadata": {},
   "outputs": [],
   "source": [
    "class WeatherDataset(Dataset):\n",
    "    def __init__(self, trainingDataframes, targets, oneHotLocations=None):\n",
    "        tmp = []\n",
    "        for i in range(len(trainingDataframes)):\n",
    "            tmp.append(torch.as_tensor(trainingDataframes[i].to_numpy()).float())\n",
    "        self.data = tmp\n",
    "        tmp = []\n",
    "        if oneHotLocations is not None:\n",
    "            self.hasOneHots = True\n",
    "            for one in oneHotLocations:\n",
    "                tmp.append(torch.tensor(one).float())\n",
    "            self.oneHotLocations = tmp\n",
    "        else:\n",
    "            self.hasOneHots = False\n",
    "        self.targets = torch.tensor(targets).float()\n",
    "        print(\"Initiated Dataset\\n\")\n",
    "        \n",
    "    def __getitem__(self, index):\n",
    "        if self.hasOneHots:\n",
    "            return ((self.data[index].cuda(), self.oneHotLocations[index].cuda()), self.targets[index])\n",
    "        else:\n",
    "            return (self.data[index], self.targets[index])\n",
    "    \n",
    "    def __len__(self):\n",
    "        return len(self.data)\n",
    "    \n",
    "    def transpose_internals(self):\n",
    "        for i, tens in enumerate(self.data):\n",
    "            self.data[i] = torch.unsqueeze(tens.t(),0)\n",
    "#         print(self.data[0])\n",
    "#         print(self.data[0].t().shape)"
   ]
  },
  {
   "cell_type": "markdown",
   "metadata": {},
   "source": [
    "#### Callback used to reset the hidden state"
   ]
  },
  {
   "cell_type": "code",
   "execution_count": 36,
   "metadata": {},
   "outputs": [],
   "source": [
    "import pprint\n",
    "class HiddenStateResetter(skorch.callbacks.Callback):\n",
    "    def on_batch_begin(self, net, **kwargs):\n",
    "        net.module_.reset_hidden_state()\n",
    "        \n",
    "class EarlyStoppingWaiter(skorch.callbacks.Callback):\n",
    "    def __init__(self, **kwargs):\n",
    "        super().__init__(**kwargs)\n",
    "        self.isDone = False\n",
    "    def on_epoch_end(self, net, dataset_train, dataset_valid):\n",
    "        if self.isDone:\n",
    "            return\n",
    "\n",
    "        if net.history[-1, 'epoch'] > 100:\n",
    "            net.set_params(callbacks__EarlyStopping__patience=10)\n",
    "            self.isDone = True\n",
    "            print(\"Done Waiting\")\n",
    "        "
   ]
  },
  {
   "cell_type": "markdown",
   "metadata": {},
   "source": [
    "### Split the data into train and validation"
   ]
  },
  {
   "cell_type": "code",
   "execution_count": 37,
   "metadata": {
    "scrolled": true
   },
   "outputs": [
    {
     "name": "stdout",
     "output_type": "stream",
     "text": [
      "Initiated Dataset\n",
      "\n"
     ]
    }
   ],
   "source": [
    "if isUsingMetadata:\n",
    "    train_input_lstm_format, train_target_lstm_format, oneHotLocations = transform_df_to_lstm_format(train)\n",
    "    weather_dataset = WeatherDataset(train_input_lstm_format, train_target_lstm_format, oneHotLocations)\n",
    "else:\n",
    "    train_input_lstm_format, train_target_lstm_format = transform_df_to_lstm_format(train)\n",
    "    weather_dataset = WeatherDataset(train_input_lstm_format, train_target_lstm_format)\n",
    "if isUsingCNN:\n",
    "    weather_dataset.transpose_internals()\n",
    "train_size = int(0.85 * len(weather_dataset))\n",
    "validation_size = len(weather_dataset) - train_size\n",
    "train_dataset, validation_dataset = torch.utils.data.random_split(weather_dataset, [train_size, validation_size])"
   ]
  },
  {
   "cell_type": "markdown",
   "metadata": {},
   "source": [
    "# PyTorch LSTM Model\n",
    "input.size() is (batch_size, seq_len, num_features)\n",
    "Hidden will have (1, batch_size, hidden_size)"
   ]
  },
  {
   "cell_type": "markdown",
   "metadata": {},
   "source": [
    "## Model"
   ]
  },
  {
   "cell_type": "code",
   "execution_count": 38,
   "metadata": {},
   "outputs": [],
   "source": [
    "class LSTMModel(nn.Module):\n",
    "    def __init__(self, inputDim, hiddenDim, seqLength, numLayers, batch_size, bidirection=False):\n",
    "        super(LSTMModel, self).__init__()\n",
    "        \n",
    "        self.inputDim = inputDim\n",
    "        self.hiddenDim = hiddenDim\n",
    "        self.seqLength = seqLength #sequence length will be 121 because those are the time steps\n",
    "        self.numLayers = numLayers\n",
    "        self.batch_size = batch_size\n",
    "        self.reluOneHot = nn.ReLU()\n",
    "        \n",
    "        if bidirection:\n",
    "            self.bidirectional = 2\n",
    "        else:\n",
    "            self.bidirectional = 1\n",
    "            \n",
    "        self.internalState = self.get_initial_hidden_state(batch_size) #cell state and hidden state\n",
    "        \n",
    "        self.lstm = nn.LSTM(input_size=inputDim, hidden_size=hiddenDim, num_layers=numLayers, batch_first= True)\n",
    "        if isUsingMetadata:\n",
    "            self.hiddenOneHotDim = int(hiddenDim/2)\n",
    "            self.linearOneHot = nn.Linear(5, self.hiddenOneHotDim) #append to hidden layer context\n",
    "        else:\n",
    "            self.hiddenOneHotDim = 0\n",
    "        self.linear = nn.Linear(hiddenDim + self.hiddenOneHotDim, 1) #output is a single real number value\n",
    "        \n",
    "    def forward(self, t):\n",
    "        if isUsingMetadata:\n",
    "            #t is a tensor with two cols, one for \n",
    "            oneHot = t[1].unsqueeze(1)\n",
    "            t = t[0]\n",
    "        t, hn_cn = self.lstm(t, self.internalState)\n",
    "#         self.internalState = self.detach_hidden_states(hn_cn) #detach from the graph \n",
    "        self.internalState = hn_cn\n",
    "        if isUsingMetadata:\n",
    "            oneHotOutput = self.reluOneHot(self.linearOneHot(oneHot))\n",
    "            oneHotOutput = oneHotOutput.repeat(1, t.shape[1], 1)\n",
    "            t = torch.cat((t, oneHotOutput), 2)\n",
    "            \n",
    "        output = self.linear(t)\n",
    "        lastOutputsInSequences = output[:,-1]\n",
    "        return lastOutputsInSequences.squeeze(1)\n",
    "#         return output\n",
    "    \n",
    "    def get_initial_hidden_state(self, batch_size):\n",
    "        return (torch.randn(self.numLayers*self.bidirectional, batch_size, self.hiddenDim).float().cuda(), torch.randn(self.numLayers*self.bidirectional, batch_size, self.hiddenDim).float().cuda()) #initial hidden state\n",
    "    \n",
    "    def reset_hidden_state(self):\n",
    "        self.internalState = self.get_initial_hidden_state(self.batch_size)\n",
    "    \n",
    "    def detach_hidden_states(self, hidden):\n",
    "        if isinstance(hidden, torch.Tensor):\n",
    "            return hidden.detach()\n",
    "        else:\n",
    "            return tuple(self.detach_hidden_states(v) for v in hidden) "
   ]
  },
  {
   "cell_type": "markdown",
   "metadata": {},
   "source": [
    "#### Toy feed in the model to test dimensionality\n",
    "Can uncomment the summary writer code for tensorboard"
   ]
  },
  {
   "cell_type": "code",
   "execution_count": null,
   "metadata": {},
   "outputs": [],
   "source": [
    "# testModel = LSTMModel(inputDim = 6, hiddenDim = 121, seqLength = 121, numLayers = 2, batch_size=32).cuda()\n",
    "# inp = torch.unsqueeze(train_dataset[0], 0)\n",
    "# inp2 = torch.unsqueeze(torch.as_tensor(train_dataset[62].to_numpy()), 0).float()\n",
    "# inp1 = train_dataset[0][0]\n",
    "# inp2 = train_dataset[1][0]\n",
    "# print(type(inp1))\n",
    "# print(torch.tensor(inp1))\n",
    "# inp3 = torch.tensor([torch.tensor(inp1), torch.tensor(inp2)])\n",
    "# res = torch.cat((inp,inp2), 0)\n",
    "# print(train_dataset[0][0])\n",
    "# r = testModel(train_dataset[0][0])\n",
    "# r = testModel(torch.inp3)\n",
    "# print(r)\n",
    "# print(r)\n",
    "# print(testModel)\n",
    "\n",
    "# from torch.utils.tensorboard import SummaryWriter\n",
    "# writer = SummaryWriter('runs/lstm_visualiser')\n",
    "# writer.add_graph(testModel, (Variable(res).cuda()))\n",
    "# writer.close()"
   ]
  },
  {
   "cell_type": "markdown",
   "metadata": {},
   "source": [
    "## Hyperparameters\n",
    "Adding hyperparameters to this list explores them in the training loop"
   ]
  },
  {
   "cell_type": "code",
   "execution_count": null,
   "metadata": {},
   "outputs": [],
   "source": [
    "from itertools import product\n",
    "#define a dictionary of hyper parameters to test\n",
    "parameters = dict(\n",
    "    lr = [ 0.001],\n",
    "    batch_size = [32],\n",
    "    num_layers = [2]\n",
    "    )\n",
    "param_values = [v for v in parameters.values()]\n",
    "#     print(f\"l {lr} b {batch_size} n {num_layers}\")"
   ]
  },
  {
   "cell_type": "code",
   "execution_count": null,
   "metadata": {
    "scrolled": true
   },
   "outputs": [],
   "source": [
    "\n",
    "experimentList = []\n",
    "for learnRate, batchSize, numLayers in product(*param_values):\n",
    "    for run in range(5):\n",
    "        lstmModel = NeuralNet(\n",
    "            module=LSTMModel,\n",
    "            module__inputDim = 6,\n",
    "            module__hiddenDim = 121,\n",
    "            module__seqLength = 121,\n",
    "            module__numLayers = numLayers,\n",
    "            module__batch_size=batchSize,\n",
    "            batch_size=batchSize,\n",
    "            criterion=torch.nn.L1Loss,\n",
    "            optimizer=torch.optim.Adam,\n",
    "            max_epochs=500,\n",
    "            lr = learnRate,\n",
    "            device='cuda',\n",
    "            iterator_train__shuffle=True,\n",
    "            iterator_train__drop_last=True,\n",
    "            iterator_valid__drop_last=True,\n",
    "            train_split=predefined_split(validation_dataset),\n",
    "             callbacks=[\n",
    "                HiddenStateResetter(),\n",
    "                EarlyStoppingWaiter(),\n",
    "                EarlyStopping(patience=100)\n",
    "            ]\n",
    "        )\n",
    "        lstmModel.fit(train_dataset)\n",
    "        l = lstmModel.history[:, 'train_loss']\n",
    "        v = lstmModel.history[:, 'valid_loss']\n",
    "        experimentList.append({f\"run_nonulls_{run}_withmetadata\" : {'train' : l, 'val' : v} })\n",
    "        lstmModel.save_params(f_params=f\"run_nonulls_{run}_withmetadata.pkl\")\n",
    "        torch.cuda.empty_cache()\n"
   ]
  },
  {
   "cell_type": "code",
   "execution_count": null,
   "metadata": {},
   "outputs": [],
   "source": [
    "# print(experimentList[0]['l_0.0001 b_16 n_1'])\n",
    "for el in experimentList:\n",
    "    for k in el:\n",
    "#         print(k)\n",
    "#         print(el[k]['val'])\n",
    "        ind = k\n",
    "        k = k[2:]\n",
    "        k = 'L:' + k\n",
    "#         k = k[:-3]\n",
    "        k = k.replace('b_', 'B:')\n",
    "        k = k.replace('n_', 'N:')\n",
    "        k = k[-3:]\n",
    "        plt.plot(el[ind]['val'][:150], label = k)\n",
    "# plt.axvline(x=100, color='k', linestyle='--', label='Early Stopping')\n",
    "plt.legend()\n",
    "plt.ylabel('Validation Loss (MAE)')\n",
    "plt.xlabel('Epochs')\n",
    "plt.show()"
   ]
  },
  {
   "cell_type": "code",
   "execution_count": null,
   "metadata": {},
   "outputs": [],
   "source": [
    "import pickle\n",
    "with open('runs_lstm_nonulls_withmetadata.pkl', 'wb') as f:\n",
    "    pickle.dump(experimentList, f)"
   ]
  },
  {
   "cell_type": "code",
   "execution_count": null,
   "metadata": {},
   "outputs": [],
   "source": [
    "# with open('runs_layer2_no_metadata.pkl', 'rb') as f:\n",
    "#     mynewlist = pickle.load(f)\n",
    "#     print(mynewlist)"
   ]
  },
  {
   "cell_type": "markdown",
   "metadata": {},
   "source": [
    "## Inference"
   ]
  },
  {
   "cell_type": "code",
   "execution_count": 39,
   "metadata": {},
   "outputs": [
    {
     "name": "stdout",
     "output_type": "stream",
     "text": [
      "Initiated Dataset\n",
      "\n"
     ]
    }
   ],
   "source": [
    "if isUsingMetadata:\n",
    "    test_actual_in_lstm, test_actual_target_lstm_format, oneHotLocations = transform_df_to_lstm_format(test_actual)\n",
    "    test_dataset = WeatherDataset(test_actual_in_lstm, test_actual_target_lstm_format, oneHotLocations)\n",
    "else:\n",
    "    test_actual_in_lstm, test_actual_target_lstm_format = transform_df_to_lstm_format(test_actual)\n",
    "    test_dataset = WeatherDataset(test_actual_in_lstm, test_actual_target_lstm_format)\n",
    "if isUsingCNN:\n",
    "    test_dataset.transpose_internals()"
   ]
  },
  {
   "cell_type": "code",
   "execution_count": 51,
   "metadata": {},
   "outputs": [],
   "source": [
    "from pandas.core.common import flatten\n",
    "def evaluate_performance(models, trainDataset, validationDataset, testDataset):\n",
    "#     in_data, targets = transform_df_to_lstm_format(test_actual[test_actual['location'] == 'A'])\n",
    "#     weather_dataset = WeatherDataset(in_data, targets)\n",
    "    data_loader_train = torch.utils.data.DataLoader(trainDataset, batch_size=32, num_workers=0, drop_last=True)\n",
    "    data_loader_val = torch.utils.data.DataLoader(validationDataset, batch_size=32, num_workers=0, drop_last=True)\n",
    "    data_loader_test = torch.utils.data.DataLoader(testDataset, batch_size=32, num_workers=0, drop_last=True)\n",
    "\n",
    "    results = {}\n",
    "    for i, model in enumerate(models):\n",
    "        results[f'{i}'] = {}\n",
    "#         model.eval()\n",
    "        with torch.no_grad():\n",
    "            targets = torch.tensor([]).cuda()\n",
    "            predicted = torch.tensor([]).cuda()\n",
    "            for i_batch, (x, y) in enumerate(data_loader_train):\n",
    "                if isUsingMetadata:\n",
    "                    pred = model.infer(x)\n",
    "                else:\n",
    "                    pred = model.infer(Variable(x).cuda())\n",
    "                y = Variable(y).cuda()\n",
    "                targets = torch.cat((targets,y), 0)\n",
    "                predicted =torch.cat((predicted,pred),0)\n",
    "                flat_targets = torch.flatten(targets).cpu()\n",
    "                flat_predicted = torch.flatten(predicted).cpu()\n",
    "            results[f'{i}']['trainRes'] = {'targets' : flat_targets, 'predicted' : flat_predicted}\n",
    "            \n",
    "            targets = torch.tensor([]).cuda()\n",
    "            predicted = torch.tensor([]).cuda()\n",
    "            for i_batch, (x, y) in enumerate(data_loader_val):\n",
    "                if isUsingMetadata:\n",
    "                    pred = model.infer(x)\n",
    "                else:\n",
    "                    pred = model.infer(Variable(x).cuda())\n",
    "                y = Variable(y).cuda()\n",
    "                targets = torch.cat((targets,y), 0)\n",
    "                predicted =torch.cat((predicted,pred),0)\n",
    "                flat_targets = torch.flatten(targets).cpu()\n",
    "                flat_predicted = torch.flatten(predicted).cpu()\n",
    "            results[f'{i}']['valRes'] = {'targets' : flat_targets, 'predicted' : flat_predicted}\n",
    "            \n",
    "            targets = torch.tensor([]).cuda()\n",
    "            predicted = torch.tensor([]).cuda()\n",
    "            for i_batch, (x, y) in enumerate(data_loader_test):\n",
    "                if isUsingMetadata:\n",
    "                    pred = model.infer(x)\n",
    "                else:\n",
    "                    pred = model.infer(Variable(x).cuda())\n",
    "                y = Variable(y).cuda()\n",
    "                targets = torch.cat((targets,y), 0)\n",
    "                predicted =torch.cat((predicted,pred),0)\n",
    "                flat_targets = torch.flatten(targets).cpu()\n",
    "                flat_predicted = torch.flatten(predicted).cpu()\n",
    "            results[f'{i}']['testRes'] = {'targets' : flat_targets, 'predicted' : flat_predicted}\n",
    "    return results\n",
    "# Plotting\n",
    "#             flat_targets = torch.flatten(targets).cpu()\n",
    "#             flat_predicted = torch.flatten(predicted).cpu()\n",
    "#             plt.plot(flat_targets, label='Targets',linestyle=\"\",marker=\"o\")\n",
    "#             plt.plot(flat_predicted, label='Predicted',linestyle=\"\",marker=\"x\")\n",
    "#             for i, val in enumerate(flat_predicted):\n",
    "#                 plt.plot((i,i),(val,flat_targets[i]) ,c='black')\n",
    "#             plt.legend()\n",
    "#             plt.show()\n",
    "#             return flat_predicted, flat_targets\n"
   ]
  },
  {
   "cell_type": "code",
   "execution_count": 49,
   "metadata": {},
   "outputs": [
    {
     "data": {
      "image/png": "[encoded data removed]",
      "text/plain": [
       "<Figure size 432x288 with 1 Axes>"
      ]
     },
     "metadata": {
      "needs_background": "light"
     },
     "output_type": "display_data"
    },
    {
     "data": {
      "image/png": "[encoded data removed]",
      "text/plain": [
       "<Figure size 432x288 with 1 Axes>"
      ]
     },
     "metadata": {
      "needs_background": "light"
     },
     "output_type": "display_data"
    },
    {
     "data": {
      "image/png": "[encoded data removed]",
      "text/plain": [
       "<Figure size 432x288 with 1 Axes>"
      ]
     },
     "metadata": {
      "needs_background": "light"
     },
     "output_type": "display_data"
    },
    {
     "ename": "KeyError",
     "evalue": "'95'",
     "output_type": "error",
     "traceback": [
      "\u001b[1;31m---------------------------------------------------------------------------\u001b[0m",
      "\u001b[1;31mKeyError\u001b[0m                                  Traceback (most recent call last)",
      "\u001b[1;32m<ipython-input-49-a34d0710e445>\u001b[0m in \u001b[0;36m<module>\u001b[1;34m\u001b[0m\n\u001b[0;32m     33\u001b[0m     \u001b[0mloadedModels\u001b[0m\u001b[1;33m.\u001b[0m\u001b[0mappend\u001b[0m\u001b[1;33m(\u001b[0m\u001b[0mlstmModel\u001b[0m\u001b[1;33m)\u001b[0m\u001b[1;33m\u001b[0m\u001b[1;33m\u001b[0m\u001b[0m\n\u001b[0;32m     34\u001b[0m \u001b[1;33m\u001b[0m\u001b[0m\n\u001b[1;32m---> 35\u001b[1;33m \u001b[0mresults\u001b[0m \u001b[1;33m=\u001b[0m \u001b[0mevaluate_performance\u001b[0m\u001b[1;33m(\u001b[0m\u001b[0mloadedModels\u001b[0m\u001b[1;33m,\u001b[0m \u001b[0mtrain_dataset\u001b[0m\u001b[1;33m,\u001b[0m \u001b[0mvalidation_dataset\u001b[0m\u001b[1;33m,\u001b[0m \u001b[0mtest_dataset\u001b[0m\u001b[1;33m)\u001b[0m\u001b[1;33m\u001b[0m\u001b[1;33m\u001b[0m\u001b[0m\n\u001b[0m",
      "\u001b[1;32m<ipython-input-48-7304278f7541>\u001b[0m in \u001b[0;36mevaluate_performance\u001b[1;34m(models, trainDataset, validationDataset, testDataset, tmpNumero)\u001b[0m\n\u001b[0;32m     64\u001b[0m                     \u001b[0mplt\u001b[0m\u001b[1;33m.\u001b[0m\u001b[0mshow\u001b[0m\u001b[1;33m(\u001b[0m\u001b[1;33m)\u001b[0m\u001b[1;33m\u001b[0m\u001b[1;33m\u001b[0m\u001b[0m\n\u001b[0;32m     65\u001b[0m                     \u001b[0mtmpNumero\u001b[0m \u001b[1;33m+=\u001b[0m \u001b[1;36m1\u001b[0m\u001b[1;33m\u001b[0m\u001b[1;33m\u001b[0m\u001b[0m\n\u001b[1;32m---> 66\u001b[1;33m             \u001b[0mresults\u001b[0m\u001b[1;33m[\u001b[0m\u001b[1;34mf'{i}'\u001b[0m\u001b[1;33m]\u001b[0m\u001b[1;33m[\u001b[0m\u001b[1;34m'testRes'\u001b[0m\u001b[1;33m]\u001b[0m \u001b[1;33m=\u001b[0m \u001b[1;33m{\u001b[0m\u001b[1;34m'targets'\u001b[0m \u001b[1;33m:\u001b[0m \u001b[0mflat_targets\u001b[0m\u001b[1;33m,\u001b[0m \u001b[1;34m'predicted'\u001b[0m \u001b[1;33m:\u001b[0m \u001b[0mflat_predicted\u001b[0m\u001b[1;33m}\u001b[0m\u001b[1;33m\u001b[0m\u001b[1;33m\u001b[0m\u001b[0m\n\u001b[0m\u001b[0;32m     67\u001b[0m     \u001b[1;32mreturn\u001b[0m \u001b[0mresults\u001b[0m\u001b[1;33m\u001b[0m\u001b[1;33m\u001b[0m\u001b[0m\n\u001b[0;32m     68\u001b[0m \u001b[1;31m# Plotting\u001b[0m\u001b[1;33m\u001b[0m\u001b[1;33m\u001b[0m\u001b[1;33m\u001b[0m\u001b[0m\n",
      "\u001b[1;31mKeyError\u001b[0m: '95'"
     ]
    }
   ],
   "source": [
    "        \n",
    "path = 'result_models/lstm_nonulls_withmeta/'\n",
    "files = []\n",
    "for i in os.listdir(path):\n",
    "    if os.path.isfile(os.path.join(path,i)):\n",
    "        files.append(os.path.join(path,i)) \n",
    "loadedModels = []\n",
    "for file in files:\n",
    "    lstmModel = NeuralNet(\n",
    "                module=LSTMModel,\n",
    "                module__inputDim = 6,\n",
    "                module__hiddenDim = 121,\n",
    "                module__seqLength = 121,\n",
    "                module__numLayers = 2,\n",
    "                module__batch_size=32,\n",
    "                batch_size=32,\n",
    "                criterion=torch.nn.L1Loss,\n",
    "                optimizer=torch.optim.Adam,\n",
    "                max_epochs=500,\n",
    "                lr = 0.0001,\n",
    "                device='cuda',\n",
    "                iterator_train__shuffle=True,\n",
    "                iterator_train__drop_last=True,\n",
    "                iterator_valid__drop_last=True,\n",
    "                train_split=predefined_split(validation_dataset),\n",
    "                 callbacks=[\n",
    "                    HiddenStateResetter(),\n",
    "                    EarlyStoppingWaiter(),\n",
    "                    EarlyStopping(patience=100)\n",
    "                ]\n",
    "            )    \n",
    "    lstmModel.initialize()  # This is important!\n",
    "    lstmModel.load_params(f_params=file)\n",
    "    loadedModels.append(lstmModel)\n",
    "\n",
    "results = evaluate_performance(loadedModels, train_dataset, validation_dataset, test_dataset)"
   ]
  },
  {
   "cell_type": "code",
   "execution_count": null,
   "metadata": {},
   "outputs": [],
   "source": [
    "from sklearn.metrics import mean_squared_error, mean_absolute_error"
   ]
  },
  {
   "cell_type": "code",
   "execution_count": null,
   "metadata": {},
   "outputs": [],
   "source": [
    "# trainRes = []\n",
    "# valRes = []\n",
    "# testRes []\n",
    "trainRMSE = []\n",
    "valRMSE = []\n",
    "testRMSE = []\n",
    "trainMAE = []\n",
    "valMAE = []\n",
    "testMAE = []\n",
    "for modelNum in results:\n",
    "    trainRMSE.append(mean_squared_error(results[modelNum]['trainRes']['targets'], results[modelNum]['trainRes']['predicted']))\n",
    "    valRMSE.append(mean_squared_error(results[modelNum]['valRes']['targets'], results[modelNum]['valRes']['predicted']))\n",
    "    testRMSE.append(mean_squared_error(results[modelNum]['testRes']['targets'], results[modelNum]['testRes']['predicted']))\n",
    "    trainMAE.append(mean_absolute_error(results[modelNum]['trainRes']['targets'], results[modelNum]['trainRes']['predicted']))\n",
    "    valMAE.append(mean_absolute_error(results[modelNum]['valRes']['targets'], results[modelNum]['valRes']['predicted']))\n",
    "    testMAE.append(mean_absolute_error(results[modelNum]['testRes']['targets'], results[modelNum]['testRes']['predicted']))\n",
    "trainRMSE = np.sqrt(trainRMSE)\n",
    "print(trainRMSE)\n",
    "valRMSE = np.sqrt(valRMSE)\n",
    "testRMSE = np.sqrt(testRMSE)\n",
    "print(\"RMSE\")\n",
    "print(\"TrainRes: \", np.round(np.mean(trainRMSE), 2), \" +- \", np.round(np.std(trainRMSE),2))\n",
    "print(\"ValRes: \", np.round(np.mean(valRMSE), 2), \" +- \", np.round(np.std(valRMSE),2))\n",
    "print(\"TestRes: \", np.round(np.mean(testRMSE), 2), \" +- \", np.round(np.std(testRMSE),2))\n",
    "print(\"MAE\")\n",
    "print(\"TrainRes: \", np.round(np.mean(trainMAE), 2), \" +- \", np.round(np.std(trainMAE),2))\n",
    "print(\"ValRes: \", np.round(np.mean(valMAE), 2), \" +- \", np.round(np.std(valMAE),2))\n",
    "print(\"TestRes: \", np.round(np.mean(testMAE), 2), \" +- \", np.round(np.std(testMAE),2))\n",
    "\n",
    "# \n",
    "# r_square = r2_score(targetlist, predlist)"
   ]
  },
  {
   "cell_type": "code",
   "execution_count": null,
   "metadata": {},
   "outputs": [],
   "source": [
    "predlist, targetlist = evaluate_performance(model)\n",
    "\n",
    "# print(predlist)\n",
    "# print(targetlist)\n",
    "plt.bar([i for i, x in enumerate(predlist) ],abs(predlist-targetlist))\n",
    "print(\"Mean Squared Error :\",mse)\n",
    "print(\"R^2 :\",r_square)"
   ]
  },
  {
   "cell_type": "code",
   "execution_count": null,
   "metadata": {},
   "outputs": [],
   "source": [
    "l = lstmModel.history[:, 'train_loss']\n",
    "v = lstmModel.history[:, 'valid_loss']\n",
    "plt.clf()\n",
    "plt.plot([i for i in range(len(l))], l, label='Train loss')\n",
    "plt.plot([i for i in range(len(v))], v,  label='Valid loss')\n",
    "plt.legend()\n",
    "plt.show()"
   ]
  },
  {
   "cell_type": "markdown",
   "metadata": {},
   "source": [
    "# Convolutional Neural Network"
   ]
  },
  {
   "cell_type": "code",
   "execution_count": null,
   "metadata": {},
   "outputs": [],
   "source": [
    "class TimeSeriesCNN(nn.Module):\n",
    "    def __init__(self, kernel_size, outChan):\n",
    "        super(TimeSeriesCNN, self).__init__()\n",
    "        self.magicNumber = 48\n",
    "        self.outChan = outChan\n",
    "        self.conv1 = nn.Conv2d(in_channels=1, out_channels=outChan, kernel_size=kernel_size)\n",
    "        self.relu1 = nn.ReLU()\n",
    "        self.pool1 = nn.MaxPool2d(kernel_size=(1,2))\n",
    "        self.relu2 = nn.ReLU()\n",
    "        if isUsingMetadata:\n",
    "            self.hiddenOneHotDim = 60 #same as the LSTM dim\n",
    "            self.linearOneHot = nn.Linear(5, self.hiddenOneHotDim) \n",
    "            self.fc1 = nn.Linear((outChan*self.magicNumber) + self.hiddenOneHotDim, 1)\n",
    "            self.reluOneHot = nn.ReLU()\n",
    "        else:\n",
    "            self.fc1 = nn.Linear((outChan*self.magicNumber), 1)\n",
    "    \n",
    "#         self.fc2 = nn.Linear(1000, 10)\n",
    "        \n",
    "    def forward(self, t):\n",
    "        if isUsingMetadata:\n",
    "            #t is a tensor with two cols, one for \n",
    "            oneHot = t[1]\n",
    "            t = t[0]\n",
    "            \n",
    "        t = self.relu1(self.conv1(t)) \n",
    "        t = self.pool1(t)\n",
    "        t = t.view(-1, self.outChan*self.magicNumber)\n",
    "\n",
    "        if isUsingMetadata:\n",
    "            oneHotOutput = self.reluOneHot(self.linearOneHot(oneHot))\n",
    "            t = torch.cat((t, oneHotOutput), 1)\n",
    "            \n",
    "        t = self.fc1(t)\n",
    "        t = self.relu2(t)\n",
    "        return t.view(-1)\n"
   ]
  },
  {
   "cell_type": "code",
   "execution_count": null,
   "metadata": {
    "scrolled": true
   },
   "outputs": [],
   "source": [
    "batch_size = 100\n",
    "channels = 1\n",
    "height = 6\n",
    "length = 121\n",
    "kernel_size = (height, 25)\n",
    "\n",
    "cnn = TimeSeriesCNN(kernel_size, 200).cuda()\n",
    "# train_dataset[0][0].shape\n",
    "x = torch.randn(batch_size, channels, height, length)\n",
    "# cnn(x)\n",
    "dltrain = torch.utils.data.DataLoader(train_dataset, batch_size=32, num_workers=0, drop_last=True)\n",
    "\n",
    "for i, (x,y) in enumerate(dltrain):\n",
    "    res = cnn(x)\n",
    "    print(res)\n",
    "# print(x.shape)\n",
    "# print(torch.unsqueeze(x, 1).shape)\n",
    "# res = cnn(x)\n",
    "# print(res)"
   ]
  },
  {
   "cell_type": "code",
   "execution_count": null,
   "metadata": {},
   "outputs": [],
   "source": [
    "height = 6\n",
    "experimentList = []"
   ]
  },
  {
   "cell_type": "code",
   "execution_count": null,
   "metadata": {
    "scrolled": true
   },
   "outputs": [],
   "source": [
    "from skorch.helper import predefined_split\n",
    "outChannelList = [1024]\n",
    "for outChan in outChannelList:\n",
    "    for run in range(5):\n",
    "        cnnModel = NeuralNet(\n",
    "                    module=TimeSeriesCNN,\n",
    "                    module__kernel_size = (height, 25),\n",
    "                    module__outChan = outChan,\n",
    "                    batch_size=32,\n",
    "                    criterion=torch.nn.L1Loss,\n",
    "                    optimizer=torch.optim.Adam,\n",
    "                    max_epochs=500,\n",
    "                    lr = 0.0001,\n",
    "                    device='cuda',\n",
    "                    iterator_train__shuffle=True,\n",
    "                    iterator_train__drop_last=True,\n",
    "                    iterator_valid__drop_last=True,\n",
    "                    train_split=predefined_split(validation_dataset),\n",
    "                     callbacks=[\n",
    "            #                     EarlyStoppingWaiter(),\n",
    "                        EarlyStopping(patience=10)\n",
    "                    ]\n",
    "            )\n",
    "        cnnModel.fit(train_dataset)\n",
    "        l = cnnModel.history[:, 'train_loss']\n",
    "        v = cnnModel.history[:, 'valid_loss']\n",
    "        experimentList.append({f\"run_cnn_loss_removenulls_fmap{outChan}_run{run}\" : {'train' : l, 'val' : v} })\n",
    "        cnnModel.save_params(f_params=f\"run_cnn_removenulls_exp_run{run}.pkl\")"
   ]
  },
  {
   "cell_type": "code",
   "execution_count": null,
   "metadata": {},
   "outputs": [],
   "source": [
    "import pickle\n",
    "with open('runs_cnn_removenulls_experiments_withmetadata.pkl', 'wb') as f:\n",
    "    pickle.dump(experimentList, f)"
   ]
  },
  {
   "cell_type": "code",
   "execution_count": null,
   "metadata": {
    "scrolled": true
   },
   "outputs": [],
   "source": [
    "for el in experimentList:\n",
    "    for k in el:\n",
    "#         print(k)\n",
    "#         print(el[k]['val'])\n",
    "        ind = k\n",
    "#         k = k.replace('run_cnn_loss_imputed_fmap', '')\n",
    "#         k= 'Feature Maps: ' + k\n",
    "#         k = 'L:' + k\n",
    "# #         k = k[:-3]\n",
    "#         k = k.replace('b_', 'B:')\n",
    "#         k = k.replace('n_', 'N:')\n",
    "#         k = k[-3:]\n",
    "        plt.plot(el[ind]['val'][:180], label = k)\n",
    "# plt.axvline(x=100, color='k', linestyle='--', label='Early Stopping')\n",
    "plt.legend()\n",
    "plt.ylabel('Validation Loss (MAE)')\n",
    "plt.xlabel('Epochs')\n",
    "plt.show()"
   ]
  },
  {
   "cell_type": "code",
   "execution_count": null,
   "metadata": {},
   "outputs": [],
   "source": [
    "        \n",
    "path = 'result_models/cnn_nonulls_withmeta/'\n",
    "files = []\n",
    "for i in os.listdir(path):\n",
    "    if os.path.isfile(os.path.join(path,i)):\n",
    "        files.append(os.path.join(path,i)) \n",
    "loadedModels = []\n",
    "for file in files:\n",
    "    cnnModel = NeuralNet(\n",
    "                    module=TimeSeriesCNN,\n",
    "                    module__kernel_size = (height, 25),\n",
    "                    module__outChan = outChan,\n",
    "                    batch_size=32,\n",
    "                    criterion=torch.nn.L1Loss,\n",
    "                    optimizer=torch.optim.Adam,\n",
    "                    max_epochs=500,\n",
    "                    lr = 0.0001,\n",
    "                    device='cuda',\n",
    "                    iterator_train__shuffle=True,\n",
    "                    iterator_train__drop_last=True,\n",
    "                    iterator_valid__drop_last=True,\n",
    "                    train_split=predefined_split(validation_dataset),\n",
    "                     callbacks=[\n",
    "            #                     EarlyStoppingWaiter(),\n",
    "                        EarlyStopping(patience=10)\n",
    "                    ]\n",
    "            )   \n",
    "    cnnModel.initialize()  # This is important!\n",
    "    cnnModel.load_params(f_params=file)\n",
    "    loadedModels.append(cnnModel)\n",
    "\n",
    "results = evaluate_performance(loadedModels, train_dataset, validation_dataset, test_dataset)"
   ]
  },
  {
   "cell_type": "code",
   "execution_count": null,
   "metadata": {},
   "outputs": [],
   "source": [
    "from sklearn.metrics import mean_squared_error, mean_absolute_error"
   ]
  },
  {
   "cell_type": "code",
   "execution_count": null,
   "metadata": {},
   "outputs": [],
   "source": [
    "# trainRes = []\n",
    "# valRes = []\n",
    "# testRes []\n",
    "trainRMSE = []\n",
    "valRMSE = []\n",
    "testRMSE = []\n",
    "trainMAE = []\n",
    "valMAE = []\n",
    "testMAE = []\n",
    "for modelNum in results:\n",
    "    trainRMSE.append(mean_squared_error(results[modelNum]['trainRes']['targets'], results[modelNum]['trainRes']['predicted']))\n",
    "    valRMSE.append(mean_squared_error(results[modelNum]['valRes']['targets'], results[modelNum]['valRes']['predicted']))\n",
    "    testRMSE.append(mean_squared_error(results[modelNum]['testRes']['targets'], results[modelNum]['testRes']['predicted']))\n",
    "    trainMAE.append(mean_absolute_error(results[modelNum]['trainRes']['targets'], results[modelNum]['trainRes']['predicted']))\n",
    "    valMAE.append(mean_absolute_error(results[modelNum]['valRes']['targets'], results[modelNum]['valRes']['predicted']))\n",
    "    testMAE.append(mean_absolute_error(results[modelNum]['testRes']['targets'], results[modelNum]['testRes']['predicted']))\n",
    "trainRMSE = np.sqrt(trainRMSE)\n",
    "print(trainRMSE)\n",
    "valRMSE = np.sqrt(valRMSE)\n",
    "testRMSE = np.sqrt(testRMSE)\n",
    "print(\"RMSE\")\n",
    "print(\"TrainRes: \", np.round(np.mean(trainRMSE), 2), \" +- \", np.round(np.std(trainRMSE),2))\n",
    "print(\"ValRes: \", np.round(np.mean(valRMSE), 2), \" +- \", np.round(np.std(valRMSE),2))\n",
    "print(\"TestRes: \", np.round(np.mean(testRMSE), 2), \" +- \", np.round(np.std(testRMSE),2))\n",
    "print(\"MAE\")\n",
    "print(\"TrainRes: \", np.round(np.mean(trainMAE), 2), \" +- \", np.round(np.std(trainMAE),2))\n",
    "print(\"ValRes: \", np.round(np.mean(valMAE), 2), \" +- \", np.round(np.std(valMAE),2))\n",
    "print(\"TestRes: \", np.round(np.mean(testMAE), 2), \" +- \", np.round(np.std(testMAE),2))\n",
    "\n",
    "# \n",
    "# r_square = r2_score(targetlist, predlist)"
   ]
  },
  {
   "cell_type": "markdown",
   "metadata": {},
   "source": [
    "# Outdated Code below"
   ]
  },
  {
   "cell_type": "code",
   "execution_count": null,
   "metadata": {
    "scrolled": true
   },
   "outputs": [],
   "source": [
    "# from sklearn.model_selection import GridSearchCV\n",
    "# from torch.utils.data.dataloader import default_collate\n",
    "\n",
    "# class SliceDatasetX(Dataset):\n",
    "#     \"\"\"Helper class that wraps a torch dataset to make it work with sklearn\"\"\"\n",
    "#     def __init__(self, dataset, collate_fn=default_collate):\n",
    "#         self.dataset = dataset\n",
    "#         self.collate_fn = collate_fn\n",
    "#         self._indices = list(range(len(self.dataset)))\n",
    "        \n",
    "#     def __len__(self):\n",
    "#         return len(self.dataset)\n",
    "        \n",
    "#     @property\n",
    "#     def shape(self):\n",
    "#         return len(self),\n",
    "    \n",
    "#     def __getitem__(self, i):\n",
    "#         if isinstance(i, (int, np.integer)):\n",
    "#             Xb = self.dataset[i][0]\n",
    "#             return Xb\n",
    "        \n",
    "#         if isinstance(i, slice):\n",
    "#             i = self._indices[i]\n",
    "\n",
    "#         Xb = self.collate_fn([self.dataset[j][0] for j in i])\n",
    "#         return Xb\n",
    "    \n",
    "# weather_dataset = WeatherDataset(dfCollection, dfCollectionTargets)\n",
    "# y_from_ds = np.asarray([weather_dataset[i][1] for i in range(len(weather_dataset))])\n",
    "# print(y_from_ds.shape)\n",
    "# ds_sliceable = SliceDatasetX(weather_dataset)\n",
    "# print(ds_sliceable.shape)\n",
    "# print(y_from_ds[0])\n"
   ]
  },
  {
   "cell_type": "code",
   "execution_count": null,
   "metadata": {},
   "outputs": [],
   "source": [
    "# params = {\n",
    "#     'lr': [0.01, 0.02],\n",
    "#     'max_epochs': [10, 20],\n",
    "# #     'module__num_units': [10, 20],\n",
    "# }\n",
    "\n",
    "# gs = GridSearchCV(lstmModel, params, refit=False, cv=3, scoring='neg_mean_absolute_error')\n",
    "# gs.fit(ds_sliceable, y_from_ds)\n",
    "# print(gs.best_score_, gs.best_params_)\n"
   ]
  },
  {
   "cell_type": "code",
   "execution_count": null,
   "metadata": {},
   "outputs": [],
   "source": [
    "# lstmModel.predict(weather_dataset.__getitem__(0))\n",
    "# l = lstmModel.history[:, 'train_loss']\n",
    "# v = lstmModel.history[:, 'valid_loss']\n",
    "# print(v)\n",
    "# plt.clf()\n",
    "# plt.plot([i for i in range(len(l))], l, label='Train loss')\n",
    "# plt.plot([i for i in range(len(v))], v,  label='Valid loss')\n",
    "# plt.legend()\n",
    "# plt.show()"
   ]
  },
  {
   "cell_type": "markdown",
   "metadata": {},
   "source": [
    "## Training"
   ]
  },
  {
   "cell_type": "code",
   "execution_count": null,
   "metadata": {},
   "outputs": [],
   "source": [
    "# batch_size = 32\n",
    "# num_epochs = 500\n",
    "# hidden_dimension = 121\n",
    "# num_layers = 2 #todo add multiple layers with dropout\n",
    "# lossesOverTime = []"
   ]
  },
  {
   "cell_type": "code",
   "execution_count": null,
   "metadata": {
    "scrolled": true
   },
   "outputs": [],
   "source": [
    "# weather_dataset = WeatherDataset(dfCollection, dfCollectionTargets)\n",
    "# data_loader = torch.utils.data.DataLoader(weather_dataset, batch_size=batch_size, shuffle=True, num_workers=0, drop_last=True)\n",
    "# model = LSTMModel(inputDim = 6, hiddenDim = hidden_dimension, seqLength = 121, numLayers = num_layers, batch_size=batch_size).cuda()\n",
    "# # hiddenState = model.get_initial_hidden_state(batch_size=batch_size)\n",
    "\n",
    "# loss_function = nn.L1Loss()\n",
    "# optimizer = torch.optim.Adam(model.parameters(), lr=1e-3)\n",
    "\n",
    "# for epoch in tqdm(range(num_epochs)):\n",
    "#     for i_batch, (x, y) in enumerate(data_loader):\n",
    "#         x = Variable(x.float()).cuda()\n",
    "#         y = Variable(y.float()).cuda()\n",
    "# #         out, hiddenState = model(x, hiddenState)\n",
    "#         model.reset_hidden_state() #batches are unrelated, and should have different states\n",
    "#         out = model(x)\n",
    "# #         hiddenState = repackage_hidden(hiddenState)        \n",
    "#         model.zero_grad()\n",
    "#         loss = loss_function(out, y)\n",
    "#         if i_batch % 50 == 0: \n",
    "#             print(f\"batch: {i_batch}, loss: {loss}\\n predicted: {out} target: {y}\")\n",
    "#         lossesOverTime.append(loss.item())\n",
    "#         loss.backward()\n",
    "#         optimizer.step()"
   ]
  },
  {
   "cell_type": "code",
   "execution_count": null,
   "metadata": {},
   "outputs": [],
   "source": [
    "# plt.plot(lossesOverTime)\n",
    "# plt.show()"
   ]
  },
  {
   "cell_type": "code",
   "execution_count": null,
   "metadata": {},
   "outputs": [],
   "source": [
    "# test_actual.head()"
   ]
  }
 ],
 "metadata": {
  "kernelspec": {
   "display_name": "Python 3",
   "language": "python",
   "name": "python3"
  },
  "language_info": {
   "codemirror_mode": {
    "name": "ipython",
    "version": 3
   },
   "file_extension": ".py",
   "mimetype": "text/x-python",
   "name": "python",
   "nbconvert_exporter": "python",
   "pygments_lexer": "ipython3",
   "version": "3.7.7"
  }
 },
 "nbformat": 4,
 "nbformat_minor": 4
}
